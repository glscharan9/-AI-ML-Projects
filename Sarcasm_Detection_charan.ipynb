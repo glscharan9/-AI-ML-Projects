{
  "nbformat": 4,
  "nbformat_minor": 0,
  "metadata": {
    "colab": {
      "provenance": []
    },
    "kernelspec": {
      "name": "python3",
      "display_name": "Python 3"
    },
    "language_info": {
      "name": "python"
    }
  },
  "cells": [
    {
      "cell_type": "markdown",
      "source": [],
      "metadata": {
        "id": "xXczz6sFiTnU"
      }
    },
    {
      "cell_type": "markdown",
      "source": [
        "###       Sarcasm Detection Using Positional Encoding, Self_Attention and Multi-Head Attention\n",
        "\n",
        "## Project Overview :\n",
        "    \n",
        "    This project aims to develop a deep leaning model for detecting the Sarcasm in a given sentences. The model is built using Transformer-Encoder Block, which are well suited for the detecting the Sarcasm tasks. The project includes the following steps:\n",
        "\n",
        "1. Data Collection: We use the text of Sarcasm_Detection_Dataset_v2.json  dataset. This dataset has rich complex text provides a good challenge for out mode.\n",
        "\n",
        "2. Data Preprocessing: The text data is tokenized, converted into sequences, and padded to ensure unifrom input lengths. The sequences are then split into training and testing set.\n",
        "\n",
        "3. Model Building: An Transformer-Based Model is constructed with an\n",
        "\n",
        "  -> MultiHeadAttention\n",
        "  -> Positional Encoding\n",
        "  -> LayerNormalization\n",
        "  -> Feed-Forward Network\n",
        "\n",
        "4. Model Training: The model is trained using the prepared sequences.\n",
        "\n",
        "5. Model Evaluation: The model is evaluated using a set of example sentences to test its ability to detect whether the given sentence is sarcastic or not.\n",
        "\n"
      ],
      "metadata": {
        "id": "FCmTISK4iBm3"
      }
    },
    {
      "cell_type": "code",
      "execution_count": 30,
      "metadata": {
        "id": "ktRHB7Lqt8Qj"
      },
      "outputs": [],
      "source": [
        "  # Tiny Transformer for Sarcasm Detection\n",
        "\n",
        "# Import necessary libraries\n",
        "import numpy as np\n",
        "import pandas as pd\n",
        "import tensorflow as tf\n",
        "from tensorflow import keras\n",
        "from tensorflow.keras import layers\n",
        "import matplotlib.pyplot as plt\n",
        "import seaborn as sns\n",
        "import re"
      ]
    },
    {
      "cell_type": "markdown",
      "metadata": {
        "id": "2QEiWUEee8Or"
      },
      "source": [
        "### Code Explanation: Imports\n",
        "\n",
        "This cell is the starting point of the notebook and is responsible for importing all the necessary Python libraries and modules required for building and training the sarcasm detection models.\n",
        "\n",
        "*   `import numpy as np`: Imports the NumPy library, which is fundamental for numerical operations in Python, especially for working with arrays and matrices. It's aliased as `np` for convenience.\n",
        "*   `import pandas as pd`: Imports the pandas library, which is widely used for data manipulation and analysis. It provides DataFrames, a powerful data structure for handling structured data. It's aliased as `pd`.\n",
        "*   `import tensorflow as tf`: Imports the core TensorFlow library, an open-source machine learning framework. It's aliased as `tf`.\n",
        "*   `from tensorflow import keras`: Imports the Keras API, a high-level interface for building and training neural networks, which is now integrated into TensorFlow.\n",
        "*   `from tensorflow.keras import layers`: Imports the `layers` module from Keras, which contains various types of neural network layers (e.g., Dense, Embedding, LSTM, MultiHeadAttention) that are used to construct the models.\n",
        "*   `import matplotlib.pyplot as plt`: Imports the `pyplot` module from Matplotlib, a popular plotting library for creating static, interactive, and animated visualizations in Python. It's aliased as `plt`.\n",
        "*   `import seaborn as sns`: Imports the Seaborn library, which is built on top of Matplotlib and provides a high-level interface for drawing attractive and informative statistical graphics. It's aliased as `sns`.\n",
        "*   `import re`: Imports the regular expression module, which can be used for pattern matching and text manipulation (although it's not explicitly used in the subsequent code in this notebook, it's often useful in text processing tasks)."
      ]
    },
    {
      "cell_type": "code",
      "source": [
        "import pandas as pd\n",
        "\n",
        "# Load the dataset from the correct path. The dataset is in JSON format with each line as a separate JSON object.\n",
        "df = pd.read_json(\"/content/Sarcasm_Headlines_Dataset.json\", lines=True)\n",
        "\n",
        "# Display the first few rows of the dataset to understand its structure and content.\n",
        "df.head()\n",
        "# this data set is downloaded from kaggle"
      ],
      "metadata": {
        "colab": {
          "base_uri": "https://localhost:8080/",
          "height": 206
        },
        "id": "GRDfqkeiuSlg",
        "outputId": "8c2749dc-6b48-424b-e442-e041d29adeb0"
      },
      "execution_count": 31,
      "outputs": [
        {
          "output_type": "execute_result",
          "data": {
            "text/plain": [
              "                                        article_link  \\\n",
              "0  https://www.huffingtonpost.com/entry/versace-b...   \n",
              "1  https://www.huffingtonpost.com/entry/roseanne-...   \n",
              "2  https://local.theonion.com/mom-starting-to-fea...   \n",
              "3  https://politics.theonion.com/boehner-just-wan...   \n",
              "4  https://www.huffingtonpost.com/entry/jk-rowlin...   \n",
              "\n",
              "                                            headline  is_sarcastic  \n",
              "0  former versace store clerk sues over secret 'b...             0  \n",
              "1  the 'roseanne' revival catches up to our thorn...             0  \n",
              "2  mom starting to fear son's web series closest ...             1  \n",
              "3  boehner just wants wife to listen, not come up...             1  \n",
              "4  j.k. rowling wishes snape happy birthday in th...             0  "
            ],
            "text/html": [
              "\n",
              "  <div id=\"df-344199d5-5894-4933-b411-0dc578a86b98\" class=\"colab-df-container\">\n",
              "    <div>\n",
              "<style scoped>\n",
              "    .dataframe tbody tr th:only-of-type {\n",
              "        vertical-align: middle;\n",
              "    }\n",
              "\n",
              "    .dataframe tbody tr th {\n",
              "        vertical-align: top;\n",
              "    }\n",
              "\n",
              "    .dataframe thead th {\n",
              "        text-align: right;\n",
              "    }\n",
              "</style>\n",
              "<table border=\"1\" class=\"dataframe\">\n",
              "  <thead>\n",
              "    <tr style=\"text-align: right;\">\n",
              "      <th></th>\n",
              "      <th>article_link</th>\n",
              "      <th>headline</th>\n",
              "      <th>is_sarcastic</th>\n",
              "    </tr>\n",
              "  </thead>\n",
              "  <tbody>\n",
              "    <tr>\n",
              "      <th>0</th>\n",
              "      <td>https://www.huffingtonpost.com/entry/versace-b...</td>\n",
              "      <td>former versace store clerk sues over secret 'b...</td>\n",
              "      <td>0</td>\n",
              "    </tr>\n",
              "    <tr>\n",
              "      <th>1</th>\n",
              "      <td>https://www.huffingtonpost.com/entry/roseanne-...</td>\n",
              "      <td>the 'roseanne' revival catches up to our thorn...</td>\n",
              "      <td>0</td>\n",
              "    </tr>\n",
              "    <tr>\n",
              "      <th>2</th>\n",
              "      <td>https://local.theonion.com/mom-starting-to-fea...</td>\n",
              "      <td>mom starting to fear son's web series closest ...</td>\n",
              "      <td>1</td>\n",
              "    </tr>\n",
              "    <tr>\n",
              "      <th>3</th>\n",
              "      <td>https://politics.theonion.com/boehner-just-wan...</td>\n",
              "      <td>boehner just wants wife to listen, not come up...</td>\n",
              "      <td>1</td>\n",
              "    </tr>\n",
              "    <tr>\n",
              "      <th>4</th>\n",
              "      <td>https://www.huffingtonpost.com/entry/jk-rowlin...</td>\n",
              "      <td>j.k. rowling wishes snape happy birthday in th...</td>\n",
              "      <td>0</td>\n",
              "    </tr>\n",
              "  </tbody>\n",
              "</table>\n",
              "</div>\n",
              "    <div class=\"colab-df-buttons\">\n",
              "\n",
              "  <div class=\"colab-df-container\">\n",
              "    <button class=\"colab-df-convert\" onclick=\"convertToInteractive('df-344199d5-5894-4933-b411-0dc578a86b98')\"\n",
              "            title=\"Convert this dataframe to an interactive table.\"\n",
              "            style=\"display:none;\">\n",
              "\n",
              "  <svg xmlns=\"http://www.w3.org/2000/svg\" height=\"24px\" viewBox=\"0 -960 960 960\">\n",
              "    <path d=\"M120-120v-720h720v720H120Zm60-500h600v-160H180v160Zm220 220h160v-160H400v160Zm0 220h160v-160H400v160ZM180-400h160v-160H180v160Zm440 0h160v-160H620v160ZM180-180h160v-160H180v160Zm440 0h160v-160H620v160Z\"/>\n",
              "  </svg>\n",
              "    </button>\n",
              "\n",
              "  <style>\n",
              "    .colab-df-container {\n",
              "      display:flex;\n",
              "      gap: 12px;\n",
              "    }\n",
              "\n",
              "    .colab-df-convert {\n",
              "      background-color: #E8F0FE;\n",
              "      border: none;\n",
              "      border-radius: 50%;\n",
              "      cursor: pointer;\n",
              "      display: none;\n",
              "      fill: #1967D2;\n",
              "      height: 32px;\n",
              "      padding: 0 0 0 0;\n",
              "      width: 32px;\n",
              "    }\n",
              "\n",
              "    .colab-df-convert:hover {\n",
              "      background-color: #E2EBFA;\n",
              "      box-shadow: 0px 1px 2px rgba(60, 64, 67, 0.3), 0px 1px 3px 1px rgba(60, 64, 67, 0.15);\n",
              "      fill: #174EA6;\n",
              "    }\n",
              "\n",
              "    .colab-df-buttons div {\n",
              "      margin-bottom: 4px;\n",
              "    }\n",
              "\n",
              "    [theme=dark] .colab-df-convert {\n",
              "      background-color: #3B4455;\n",
              "      fill: #D2E3FC;\n",
              "    }\n",
              "\n",
              "    [theme=dark] .colab-df-convert:hover {\n",
              "      background-color: #434B5C;\n",
              "      box-shadow: 0px 1px 3px 1px rgba(0, 0, 0, 0.15);\n",
              "      filter: drop-shadow(0px 1px 2px rgba(0, 0, 0, 0.3));\n",
              "      fill: #FFFFFF;\n",
              "    }\n",
              "  </style>\n",
              "\n",
              "    <script>\n",
              "      const buttonEl =\n",
              "        document.querySelector('#df-344199d5-5894-4933-b411-0dc578a86b98 button.colab-df-convert');\n",
              "      buttonEl.style.display =\n",
              "        google.colab.kernel.accessAllowed ? 'block' : 'none';\n",
              "\n",
              "      async function convertToInteractive(key) {\n",
              "        const element = document.querySelector('#df-344199d5-5894-4933-b411-0dc578a86b98');\n",
              "        const dataTable =\n",
              "          await google.colab.kernel.invokeFunction('convertToInteractive',\n",
              "                                                    [key], {});\n",
              "        if (!dataTable) return;\n",
              "\n",
              "        const docLinkHtml = 'Like what you see? Visit the ' +\n",
              "          '<a target=\"_blank\" href=https://colab.research.google.com/notebooks/data_table.ipynb>data table notebook</a>'\n",
              "          + ' to learn more about interactive tables.';\n",
              "        element.innerHTML = '';\n",
              "        dataTable['output_type'] = 'display_data';\n",
              "        await google.colab.output.renderOutput(dataTable, element);\n",
              "        const docLink = document.createElement('div');\n",
              "        docLink.innerHTML = docLinkHtml;\n",
              "        element.appendChild(docLink);\n",
              "      }\n",
              "    </script>\n",
              "  </div>\n",
              "\n",
              "\n",
              "    <div id=\"df-502bb746-43a7-48a1-87d7-e79a1b05b1a5\">\n",
              "      <button class=\"colab-df-quickchart\" onclick=\"quickchart('df-502bb746-43a7-48a1-87d7-e79a1b05b1a5')\"\n",
              "                title=\"Suggest charts\"\n",
              "                style=\"display:none;\">\n",
              "\n",
              "<svg xmlns=\"http://www.w3.org/2000/svg\" height=\"24px\"viewBox=\"0 0 24 24\"\n",
              "     width=\"24px\">\n",
              "    <g>\n",
              "        <path d=\"M19 3H5c-1.1 0-2 .9-2 2v14c0 1.1.9 2 2 2h14c1.1 0 2-.9 2-2V5c0-1.1-.9-2-2-2zM9 17H7v-7h2v7zm4 0h-2V7h2v10zm4 0h-2v-4h2v4z\"/>\n",
              "    </g>\n",
              "</svg>\n",
              "      </button>\n",
              "\n",
              "<style>\n",
              "  .colab-df-quickchart {\n",
              "      --bg-color: #E8F0FE;\n",
              "      --fill-color: #1967D2;\n",
              "      --hover-bg-color: #E2EBFA;\n",
              "      --hover-fill-color: #174EA6;\n",
              "      --disabled-fill-color: #AAA;\n",
              "      --disabled-bg-color: #DDD;\n",
              "  }\n",
              "\n",
              "  [theme=dark] .colab-df-quickchart {\n",
              "      --bg-color: #3B4455;\n",
              "      --fill-color: #D2E3FC;\n",
              "      --hover-bg-color: #434B5C;\n",
              "      --hover-fill-color: #FFFFFF;\n",
              "      --disabled-bg-color: #3B4455;\n",
              "      --disabled-fill-color: #666;\n",
              "  }\n",
              "\n",
              "  .colab-df-quickchart {\n",
              "    background-color: var(--bg-color);\n",
              "    border: none;\n",
              "    border-radius: 50%;\n",
              "    cursor: pointer;\n",
              "    display: none;\n",
              "    fill: var(--fill-color);\n",
              "    height: 32px;\n",
              "    padding: 0;\n",
              "    width: 32px;\n",
              "  }\n",
              "\n",
              "  .colab-df-quickchart:hover {\n",
              "    background-color: var(--hover-bg-color);\n",
              "    box-shadow: 0 1px 2px rgba(60, 64, 67, 0.3), 0 1px 3px 1px rgba(60, 64, 67, 0.15);\n",
              "    fill: var(--button-hover-fill-color);\n",
              "  }\n",
              "\n",
              "  .colab-df-quickchart-complete:disabled,\n",
              "  .colab-df-quickchart-complete:disabled:hover {\n",
              "    background-color: var(--disabled-bg-color);\n",
              "    fill: var(--disabled-fill-color);\n",
              "    box-shadow: none;\n",
              "  }\n",
              "\n",
              "  .colab-df-spinner {\n",
              "    border: 2px solid var(--fill-color);\n",
              "    border-color: transparent;\n",
              "    border-bottom-color: var(--fill-color);\n",
              "    animation:\n",
              "      spin 1s steps(1) infinite;\n",
              "  }\n",
              "\n",
              "  @keyframes spin {\n",
              "    0% {\n",
              "      border-color: transparent;\n",
              "      border-bottom-color: var(--fill-color);\n",
              "      border-left-color: var(--fill-color);\n",
              "    }\n",
              "    20% {\n",
              "      border-color: transparent;\n",
              "      border-left-color: var(--fill-color);\n",
              "      border-top-color: var(--fill-color);\n",
              "    }\n",
              "    30% {\n",
              "      border-color: transparent;\n",
              "      border-left-color: var(--fill-color);\n",
              "      border-top-color: var(--fill-color);\n",
              "      border-right-color: var(--fill-color);\n",
              "    }\n",
              "    40% {\n",
              "      border-color: transparent;\n",
              "      border-right-color: var(--fill-color);\n",
              "      border-top-color: var(--fill-color);\n",
              "    }\n",
              "    60% {\n",
              "      border-color: transparent;\n",
              "      border-right-color: var(--fill-color);\n",
              "    }\n",
              "    80% {\n",
              "      border-color: transparent;\n",
              "      border-right-color: var(--fill-color);\n",
              "      border-bottom-color: var(--fill-color);\n",
              "    }\n",
              "    90% {\n",
              "      border-color: transparent;\n",
              "      border-bottom-color: var(--fill-color);\n",
              "    }\n",
              "  }\n",
              "</style>\n",
              "\n",
              "      <script>\n",
              "        async function quickchart(key) {\n",
              "          const quickchartButtonEl =\n",
              "            document.querySelector('#' + key + ' button');\n",
              "          quickchartButtonEl.disabled = true;  // To prevent multiple clicks.\n",
              "          quickchartButtonEl.classList.add('colab-df-spinner');\n",
              "          try {\n",
              "            const charts = await google.colab.kernel.invokeFunction(\n",
              "                'suggestCharts', [key], {});\n",
              "          } catch (error) {\n",
              "            console.error('Error during call to suggestCharts:', error);\n",
              "          }\n",
              "          quickchartButtonEl.classList.remove('colab-df-spinner');\n",
              "          quickchartButtonEl.classList.add('colab-df-quickchart-complete');\n",
              "        }\n",
              "        (() => {\n",
              "          let quickchartButtonEl =\n",
              "            document.querySelector('#df-502bb746-43a7-48a1-87d7-e79a1b05b1a5 button');\n",
              "          quickchartButtonEl.style.display =\n",
              "            google.colab.kernel.accessAllowed ? 'block' : 'none';\n",
              "        })();\n",
              "      </script>\n",
              "    </div>\n",
              "\n",
              "    </div>\n",
              "  </div>\n"
            ],
            "application/vnd.google.colaboratory.intrinsic+json": {
              "type": "dataframe",
              "variable_name": "df",
              "summary": "{\n  \"name\": \"df\",\n  \"rows\": 26709,\n  \"fields\": [\n    {\n      \"column\": \"article_link\",\n      \"properties\": {\n        \"dtype\": \"string\",\n        \"num_unique_values\": 26708,\n        \"samples\": [\n          \"https://www.theonion.com/isis-recruiter-excited-to-be-talking-to-popular-high-sc-1819579508\",\n          \"https://www.huffingtonpost.com/entry/jimmy-fallon-could-barely-keep-it-together-during-this-cardi-b-interview_us_5a3c01aae4b06d1621b2de98\",\n          \"https://www.huffingtonpost.com/entry/4-ways-to-support-farmtos_b_5906452.html\"\n        ],\n        \"semantic_type\": \"\",\n        \"description\": \"\"\n      }\n    },\n    {\n      \"column\": \"headline\",\n      \"properties\": {\n        \"dtype\": \"string\",\n        \"num_unique_values\": 26602,\n        \"samples\": [\n          \"departing employee not quite important enough for send-off\",\n          \"college student still managing to look like asshole in picture of village he helped build\",\n          \"fun sticker placed on child's ventilator\"\n        ],\n        \"semantic_type\": \"\",\n        \"description\": \"\"\n      }\n    },\n    {\n      \"column\": \"is_sarcastic\",\n      \"properties\": {\n        \"dtype\": \"number\",\n        \"std\": 0,\n        \"min\": 0,\n        \"max\": 1,\n        \"num_unique_values\": 2,\n        \"samples\": [\n          1,\n          0\n        ],\n        \"semantic_type\": \"\",\n        \"description\": \"\"\n      }\n    }\n  ]\n}"
            }
          },
          "metadata": {},
          "execution_count": 31
        }
      ]
    },
    {
      "cell_type": "markdown",
      "metadata": {
        "id": "tcpeMkiwfHl8"
      },
      "source": [
        "### Code Explanation: Load Dataset\n",
        "\n",
        "This cell is responsible for loading the dataset containing headlines and their corresponding sarcasm labels.\n",
        "\n",
        "*   `df = pd.read_json(\"/content/Sarcasm_Headlines_Dataset.json\", lines=True)`: This line uses the pandas `read_json` function to load data from a JSON file located at `/content/Sarcasm_Headlines_Dataset.json`.\n",
        "    *   The file is assumed to be in a format where each line is a separate JSON object, which is why `lines=True` is specified. This tells pandas to read the file line by line as individual JSON records.\n",
        "    *   The loaded data is stored in a pandas DataFrame named `df`.\n",
        "*   `df.head()`: This line displays the first 5 rows of the DataFrame `df`. This is a useful step to quickly inspect the structure of the data, the column names (`article_link`, `headline`, and `is_sarcastic`), and the format of the data within those columns. It helps in understanding what the dataset looks like before further processing."
      ]
    },
    {
      "cell_type": "markdown",
      "source": [],
      "metadata": {
        "id": "EV828rYUb6T0"
      }
    },
    {
      "cell_type": "code",
      "source": [
        "# Data preprocessing:\n",
        "# Extract the 'headline' column as the input text data (features).\n",
        "texts = df['headline'].values\n",
        "# Extract the 'is_sarcastic' column as the target variable (labels).\n",
        "y = df['is_sarcastic'].values"
      ],
      "metadata": {
        "id": "SeinY1t_up6X"
      },
      "execution_count": 32,
      "outputs": []
    },
    {
      "cell_type": "markdown",
      "source": [],
      "metadata": {
        "id": "vRu2PUl6fjrs"
      }
    },
    {
      "cell_type": "markdown",
      "metadata": {
        "id": "SxHK7cp1fkUS"
      },
      "source": [
        "### Code Explanation: Data Preprocessing - Extract Features and Labels\n",
        "\n",
        "This cell prepares the data for the machine learning model by separating the input text (features) from the output label (target variable).\n",
        "\n",
        "*   `texts = df['headline'].values`: This line selects the column named 'headline' from the DataFrame `df`. The `.values` attribute is then used to extract the data from this column as a NumPy array. This array, stored in the `texts` variable, contains all the headline strings and will serve as the input features for our models.\n",
        "*   `y = df['is_sarcastic'].values`: Similarly, this line selects the 'is_sarcastic' column from the DataFrame. The `.values` attribute extracts the data as a NumPy array. This array, stored in the `y` variable, contains the corresponding labels (0 or 1) indicating whether each headline is sarcastic or not. This will be the target variable that the models will learn to predict."
      ]
    },
    {
      "cell_type": "code",
      "source": [
        "# Tokenization: Convert text data into numerical sequences.\n",
        "# Define the vocabulary size (maximum number of unique words to consider).\n",
        "vocab_size = 10000\n",
        "# Define the maximum length of each sequence. Headlines longer than this will be truncated, and shorter ones will be padded.\n",
        "max_len = 40\n",
        "\n",
        "# Initialize the TextVectorization layer.\n",
        "# max_tokens: The maximum size of the vocabulary.\n",
        "# output_mode='int': The layer will output sequences of integer indices representing words.\n",
        "# output_sequence_length: The fixed length of output sequences.\n",
        "vectorizer = layers.TextVectorization(max_tokens=vocab_size, output_mode='int', output_sequence_length=max_len)\n",
        "# Adapt the vectorizer to the text data. This builds the vocabulary.\n",
        "vectorizer.adapt(texts)\n",
        "# Apply the vectorizer to the text data to convert text headlines into numerical sequences.\n",
        "X = vectorizer(texts)"
      ],
      "metadata": {
        "id": "R1T_KH3rvdSj"
      },
      "execution_count": 33,
      "outputs": []
    },
    {
      "cell_type": "markdown",
      "source": [],
      "metadata": {
        "id": "cwBjoJDdflyX"
      }
    },
    {
      "cell_type": "markdown",
      "metadata": {
        "id": "PCHubHPEfu-v"
      },
      "source": [
        "### Code Explanation: Tokenization and Sequencing\n",
        "\n",
        "This cell performs the crucial step of converting the raw text data into a numerical format that can be understood and processed by the neural network models.\n",
        "\n",
        "*   `vocab_size = 10000`: This variable sets the maximum number of unique words (tokens) that will be considered in the vocabulary. The `TextVectorization` layer will build a vocabulary of the most frequent `vocab_size` words from the input text. Words not in this vocabulary will be treated specially (usually as an \"unknown\" token).\n",
        "*   `max_len = 40`: This variable defines the fixed length of the output sequences. Text headlines will be converted into sequences of integers. Headlines longer than `max_len` will be truncated (cut off), and headlines shorter than `max_len` will be padded with zeros at the end to reach this fixed length. This is necessary because neural networks typically require fixed-size inputs.\n",
        "*   `vectorizer = layers.TextVectorization(max_tokens=vocab_size, output_mode='int', output_sequence_length=max_len)`: This line initializes a `TextVectorization` layer from Keras.\n",
        "    *   `max_tokens=vocab_size`: Configures the layer to build a vocabulary of the specified size.\n",
        "    *   `output_mode='int'`: Specifies that the output of the layer should be sequences of integer indices, where each integer corresponds to a word in the vocabulary.\n",
        "    *   `output_sequence_length=max_len`: Ensures that all output sequences have the fixed length defined by `max_len`.\n",
        "*   `vectorizer.adapt(texts)`: This is a crucial step where the `TextVectorization` layer learns the vocabulary from the input `texts` data. The layer analyzes the frequency of words in the `texts` array and builds a mapping from words to integer indices based on the `max_tokens` limit.\n",
        "*   `X = vectorizer(texts)`: After the vectorizer has been adapted (learned the vocabulary), this line applies the vectorization process to the original `texts` data. Each headline string in `texts` is converted into a sequence of integers based on the learned vocabulary and padded or truncated to `max_len`. The resulting numerical sequences are stored in the variable `X`, which is a TensorFlow tensor and will be used as the input for the models."
      ]
    },
    {
      "cell_type": "code",
      "source": [
        "# Train-test split: Divide the dataset into training and testing sets.\n",
        "from sklearn.model_selection import train_test_split\n",
        "\n",
        "# Split the data: 80% for training, 20% for testing.\n",
        "# random_state for reproducibility.\n",
        "X_train, X_test, y_train, y_test = train_test_split(X.numpy(), y, test_size=0.2, random_state=42)"
      ],
      "metadata": {
        "id": "AZjQ8iiPvkxI"
      },
      "execution_count": 34,
      "outputs": []
    },
    {
      "cell_type": "markdown",
      "source": [],
      "metadata": {
        "id": "kvNbzoZkf7yH"
      }
    },
    {
      "cell_type": "markdown",
      "metadata": {
        "id": "6qwZmnGPf8I1"
      },
      "source": [
        "### Code Explanation: Train-Test Split\n",
        "\n",
        "This cell divides the preprocessed numerical data (`X`) and the corresponding labels (`y`) into two distinct sets: a training set and a testing set. This is a fundamental step in machine learning to train the model on one portion of the data and evaluate its performance on a separate, unseen portion.\n",
        "\n",
        "*   `from sklearn.model_selection import train_test_split`: This line imports the `train_test_split` function from the `sklearn.model_selection` module in the scikit-learn library. This function is a convenient way to split arrays or matrices into random train and test subsets.\n",
        "*   `X_train, X_test, y_train, y_test = train_test_split(X.numpy(), y, test_size=0.2, random_state=42)`: This line performs the actual data splitting.\n",
        "    *   `X.numpy()`: The `train_test_split` function from scikit-learn typically works with NumPy arrays. Since `X` is a TensorFlow tensor, `.numpy()` is used to convert it to a NumPy array. This array contains the numerical sequences of the headlines.\n",
        "    *   `y`: This is the NumPy array containing the corresponding labels for each headline.\n",
        "    *   `test_size=0.2`: This parameter specifies the proportion of the dataset that should be allocated to the test set. In this case, 0.2 means 20% of the data will be used for testing, and the remaining 80% will be used for training.\n",
        "    *   `random_state=42`: This parameter is used to seed the random number generator. By setting a specific `random_state`, you ensure that the data split is the same every time you run the code. This is important for reproducibility, allowing you to get the same training and test sets consistently.\n",
        "*   The function returns four variables:\n",
        "    *   `X_train`: The features (numerical sequences) for the training set.\n",
        "    *   `X_test`: The features for the testing set.\n",
        "    *   `y_train`: The labels for the training set.\n",
        "    *   `y_test`: The labels for the testing set."
      ]
    },
    {
      "cell_type": "code",
      "source": [
        "# Define the positional encoding function for the Transformer model.\n",
        "# Positional encoding adds information about the position of words in a sequence,\n",
        "# which is crucial for Transformers as they don't have inherent sequence processing like RNNs.\n",
        "def positional_encoding(length, depth):\n",
        "    # Ensure depth is even for pairing sin and cos waves\n",
        "    depth = depth / 2\n",
        "    # Create a range of positions (0, 1, 2, ..., length-1)\n",
        "    positions = np.arange(length)[:, np.newaxis]  # (seq, 1)\n",
        "    # Create a range of depths (0, 1, 2, ..., depth-1)\n",
        "    depths = np.arange(depth)[np.newaxis, :] / depth  # (1, depth)\n",
        "    # Calculate the rates for sinusoidal waves\n",
        "    angle_rates = 1 / (10000**depths)\n",
        "    # Calculate the angles for each position and depth\n",
        "    angle_rads = positions * angle_rates\n",
        "    # Interleave sin and cos waves\n",
        "    pos_encoding = np.concatenate(\n",
        "        [np.sin(angle_rads), np.cos(angle_rads)], axis=-1)\n",
        "    # Cast the result to tf.float32\n",
        "    return tf.cast(pos_encoding, dtype=tf.float32)"
      ],
      "metadata": {
        "id": "4esY1vXjvsyE"
      },
      "execution_count": 35,
      "outputs": []
    },
    {
      "cell_type": "markdown",
      "source": [],
      "metadata": {
        "id": "0-SdiVQegF4J"
      }
    },
    {
      "cell_type": "markdown",
      "metadata": {
        "id": "zLCG7B-DgGL_"
      },
      "source": [
        "### Code Explanation: Positional Encoding Function\n",
        "\n",
        "This cell defines a function that generates positional encodings, a critical component for Transformer models. Since Transformers process input sequences in parallel (unlike LSTMs which process sequentially), they need an additional mechanism to understand the order or position of tokens in the sequence. Positional encoding provides this information.\n",
        "\n",
        "*   `def positional_encoding(length, depth):`: Defines a function named `positional_encoding` that takes two arguments:\n",
        "    *   `length`: The maximum length of the input sequences (e.g., `max_len`).\n",
        "    *   `depth`: The dimensionality of the embedding or the model's internal representation (e.g., `embed_dim`).\n",
        "*   `depth = depth / 2`: The positional encoding uses pairs of sine and cosine functions. To ensure that the total depth of the encoding matches the embedding depth, the input `depth` is halved for the individual sine and cosine components.\n",
        "*   `positions = np.arange(length)[:, np.newaxis]`: Creates a NumPy array representing the positions in the sequence, ranging from 0 to `length - 1`. `[:, np.newaxis]` reshapes it into a column vector of shape `(length, 1)`.\n",
        "*   `depths = np.arange(depth)[np.newaxis, :] / depth`: Creates a NumPy array representing the different depths (dimensions) of the encoding, ranging from 0 to `depth - 1`, normalized by `depth`. `[np.newaxis, :]` reshapes it into a row vector of shape `(1, depth)`.\n",
        "*   `angle_rates = 1 / (10000**depths)`: This calculates the rates at which the sinusoidal waves oscillate. The formula `1 / (10000**(i / depth))` where `i` is the depth dimension, means that different dimensions of the positional encoding correspond to different wavelengths. Lower dimensions have longer wavelengths, and higher dimensions have shorter wavelengths. This allows the model to easily attend to relative positions.\n",
        "*   `angle_rads = positions * angle_rates`: This calculates the angles (in radians) for the sine and cosine functions at each position and for each depth dimension. The resulting shape is `(length, depth)`.\n",
        "*   `pos_encoding = np.concatenate([np.sin(angle_rads), np.cos(angle_rads)], axis=-1)`: This is where the actual positional encoding is generated. It concatenates the sine of the angles and the cosine of the angles along the last axis (`axis=-1`). This creates a positional vector of shape `(length, 2 * depth)` for each position in the sequence. Since `depth` was halved earlier, the final shape is `(length, original_depth)`, matching the embedding dimension.\n",
        "*   `return tf.cast(pos_encoding, dtype=tf.float32)`: Finally, the generated positional encoding NumPy array is converted into a TensorFlow tensor with a data type of `tf.float32` and returned."
      ]
    },
    {
      "cell_type": "code",
      "source": [
        "# Define the Transformer encoder block.\n",
        "# This block is a core component of the Transformer model, responsible for processing input sequences.\n",
        "def transformer_encoder(inputs, head_size, num_heads, ff_dim, dropout=0):\n",
        "    # Self-attention mechanism: Allows the model to weigh the importance of different words in the input sequence.\n",
        "    # key_dim: The dimensionality of the key and query vectors.\n",
        "    # num_heads: The number of attention heads. Multiple heads allow the model to attend to different parts of the sequence simultaneously.\n",
        "    attention = layers.MultiHeadAttention(key_dim=head_size, num_heads=num_heads, dropout=dropout)(inputs, inputs)\n",
        "    # Dropout for regularization.\n",
        "    attention = layers.Dropout(dropout)(attention)\n",
        "    # Add residual connection and apply layer normalization.\n",
        "    attention = layers.LayerNormalization(epsilon=1e-6)(inputs + attention)\n",
        "\n",
        "    # Feed-forward network: A simple two-layer fully connected network applied to each position independently.\n",
        "    ff = layers.Dense(ff_dim, activation=\"relu\")(attention)\n",
        "    ff = layers.Dense(inputs.shape[-1])(ff)\n",
        "    # Dropout for regularization.\n",
        "    ff = layers.Dropout(dropout)(ff)\n",
        "    # Add residual connection and apply layer normalization.\n",
        "    return layers.LayerNormalization(epsilon=1e-6)(attention + ff)"
      ],
      "metadata": {
        "id": "8jkwoGHOv4Cl"
      },
      "execution_count": 36,
      "outputs": []
    },
    {
      "cell_type": "markdown",
      "source": [],
      "metadata": {
        "id": "a_T-4mXPgTFm"
      }
    },
    {
      "cell_type": "markdown",
      "metadata": {
        "id": "u1xeFzNfgTga"
      },
      "source": [
        "### Code Explanation: Transformer Encoder Block\n",
        "\n",
        "This cell defines the `transformer_encoder` function, which represents a single block of the Transformer encoder. This block is the fundamental processing unit within the Transformer model, responsible for learning contextualized representations of the input sequence.\n",
        "\n",
        "*   `def transformer_encoder(inputs, head_size, num_heads, ff_dim, dropout=0):`: Defines the function that takes the input tensor, the size of the attention heads, the number of attention heads, the dimensionality of the feed-forward network, and a dropout rate as arguments.\n",
        "*   `attention = layers.MultiHeadAttention(key_dim=head_size, num_heads=num_heads, dropout=dropout)(inputs, inputs)`: This is the core **Multi-Head Self-Attention** mechanism.\n",
        "    *   `layers.MultiHeadAttention`: This Keras layer implements the multi-head attention mechanism.\n",
        "    *   `key_dim=head_size`: Sets the dimensionality of the key and query vectors within each attention head.\n",
        "    *   `num_heads=num_heads`: Specifies the number of independent attention heads. Multiple heads allow the model to attend to different aspects of the input sequence simultaneously and capture diverse relationships.\n",
        "    *   `dropout=dropout`: Applies dropout to the attention weights, a regularization technique to prevent overfitting.\n",
        "    *   `(inputs, inputs)`: In self-attention, the Query, Key, and Value inputs are all derived from the same input tensor (`inputs`). This allows the model to weigh the importance of every other token in the sequence when processing a specific token.\n",
        "*   `attention = layers.Dropout(dropout)(attention)`: Applies dropout to the output of the multi-head attention layer.\n",
        "*   `attention = layers.LayerNormalization(epsilon=1e-6)(inputs + attention)`: This step performs two key operations:\n",
        "    *   `inputs + attention`: This is a **Residual Connection**. It adds the original input tensor (`inputs`) to the output of the attention mechanism (`attention`). Residual connections help in training deep networks by allowing gradients to flow more easily through the network.\n",
        "    *   `layers.LayerNormalization(epsilon=1e-6)`: Applies **Layer Normalization** to the sum of the input and attention output. Layer normalization normalizes the inputs across the features for each sample independently, which helps to stabilize the training process. `epsilon` is a small value added to the variance to prevent division by zero.\n",
        "*   `ff = layers.Dense(ff_dim, activation=\"relu\")(attention)`: This is the first layer of the **Feed-Forward Network** (also known as the Position-wise Feed-Forward Network). It's a dense layer that applies a linear transformation followed by a ReLU activation function. `ff_dim` is the number of units in this layer. This network is applied independently to each position in the sequence.\n",
        "*   `ff = layers.Dense(inputs.shape[-1])(ff)`: This is the second layer of the Feed-Forward Network. It's a dense layer that projects the output back to the original dimensionality of the input tensor (`inputs.shape[-1]`).\n",
        "*   `ff = layers.Dropout(dropout)(ff)`: Applies dropout to the output of the feed-forward network for regularization.\n",
        "*   `return layers.LayerNormalization(epsilon=1e-6)(attention + ff)`: This is the final step of the encoder block. It again applies a **Residual Connection** (adding the output of the attention block `attention` to the output of the feed-forward network `ff`) and then applies **Layer Normalization** to the result. The output of this function is the processed tensor after passing through one Transformer encoder block."
      ]
    },
    {
      "cell_type": "code",
      "source": [
        "# Build the Transformer model for sarcasm detection.\n",
        "\n",
        "# Define model parameters.\n",
        "embed_dim = 64  # Dimensionality of the word embeddings and the model's internal representation.\n",
        "num_heads = 2   # Number of attention heads in the MultiHeadAttention layer.\n",
        "ff_dim = 64     # Dimensionality of the feed-forward network in the Transformer block.\n",
        "\n",
        "# Define the model's input layer. It expects sequences of integers with a fixed length (max_len).\n",
        "inputs = keras.Input(shape=(max_len,))\n",
        "# Add an embedding layer to convert integer indices into dense vectors of fixed size (embed_dim).\n",
        "x = layers.Embedding(vocab_size, embed_dim)(inputs)\n",
        "# Add positional encoding to the embeddings to provide information about word positions.\n",
        "x += positional_encoding(max_len, embed_dim)\n",
        "# Add the Transformer encoder block to process the sequence.\n",
        "x = transformer_encoder(x, head_size=embed_dim, num_heads=num_heads, ff_dim=ff_dim)\n",
        "# Apply global average pooling to reduce the sequence of vectors to a single vector per sample.\n",
        "x = layers.GlobalAveragePooling1D()(x)\n",
        "# Add dropout for regularization.\n",
        "x = layers.Dropout(0.1)(x)\n",
        "# Add a dense layer with ReLU activation.\n",
        "x = layers.Dense(64, activation=\"relu\")(x)\n",
        "# Add another dropout layer for regularization.\n",
        "x = layers.Dropout(0.1)(x)\n",
        "# Add the output layer with a single neuron and sigmoid activation for binary classification (sarcastic/not sarcastic).\n",
        "outputs = layers.Dense(1, activation=\"sigmoid\")(x)\n",
        "\n",
        "# Create the Keras model.\n",
        "transformer_model = keras.Model(inputs, outputs)\n",
        "\n",
        "# Compile the model.\n",
        "# loss: Binary cross-entropy is suitable for binary classification.\n",
        "# optimizer: Adam optimizer is a popular choice for neural networks.\n",
        "# metrics: Accuracy to evaluate the model's performance.\n",
        "transformer_model.compile(loss=\"binary_crossentropy\", optimizer=\"adam\", metrics=[\"accuracy\"])\n",
        "\n",
        "# Print the model summary to see the layers and number of parameters.\n",
        "transformer_model.summary()"
      ],
      "metadata": {
        "colab": {
          "base_uri": "https://localhost:8080/",
          "height": 865
        },
        "id": "KU1jP_LcwACS",
        "outputId": "54812acb-036a-45d3-b89a-901ebdcb6c0b"
      },
      "execution_count": 37,
      "outputs": [
        {
          "output_type": "display_data",
          "data": {
            "text/plain": [
              "\u001b[1mModel: \"functional_5\"\u001b[0m\n"
            ],
            "text/html": [
              "<pre style=\"white-space:pre;overflow-x:auto;line-height:normal;font-family:Menlo,'DejaVu Sans Mono',consolas,'Courier New',monospace\"><span style=\"font-weight: bold\">Model: \"functional_5\"</span>\n",
              "</pre>\n"
            ]
          },
          "metadata": {}
        },
        {
          "output_type": "display_data",
          "data": {
            "text/plain": [
              "┏━━━━━━━━━━━━━━━━━━━━━┳━━━━━━━━━━━━━━━━━━━┳━━━━━━━━━━━━┳━━━━━━━━━━━━━━━━━━━┓\n",
              "┃\u001b[1m \u001b[0m\u001b[1mLayer (type)       \u001b[0m\u001b[1m \u001b[0m┃\u001b[1m \u001b[0m\u001b[1mOutput Shape     \u001b[0m\u001b[1m \u001b[0m┃\u001b[1m \u001b[0m\u001b[1m   Param #\u001b[0m\u001b[1m \u001b[0m┃\u001b[1m \u001b[0m\u001b[1mConnected to     \u001b[0m\u001b[1m \u001b[0m┃\n",
              "┡━━━━━━━━━━━━━━━━━━━━━╇━━━━━━━━━━━━━━━━━━━╇━━━━━━━━━━━━╇━━━━━━━━━━━━━━━━━━━┩\n",
              "│ input_layer_5       │ (\u001b[38;5;45mNone\u001b[0m, \u001b[38;5;34m40\u001b[0m)        │          \u001b[38;5;34m0\u001b[0m │ -                 │\n",
              "│ (\u001b[38;5;33mInputLayer\u001b[0m)        │                   │            │                   │\n",
              "├─────────────────────┼───────────────────┼────────────┼───────────────────┤\n",
              "│ embedding_5         │ (\u001b[38;5;45mNone\u001b[0m, \u001b[38;5;34m40\u001b[0m, \u001b[38;5;34m64\u001b[0m)    │    \u001b[38;5;34m640,000\u001b[0m │ input_layer_5[\u001b[38;5;34m0\u001b[0m]… │\n",
              "│ (\u001b[38;5;33mEmbedding\u001b[0m)         │                   │            │                   │\n",
              "├─────────────────────┼───────────────────┼────────────┼───────────────────┤\n",
              "│ add_9 (\u001b[38;5;33mAdd\u001b[0m)         │ (\u001b[38;5;45mNone\u001b[0m, \u001b[38;5;34m40\u001b[0m, \u001b[38;5;34m64\u001b[0m)    │          \u001b[38;5;34m0\u001b[0m │ embedding_5[\u001b[38;5;34m0\u001b[0m][\u001b[38;5;34m0\u001b[0m] │\n",
              "├─────────────────────┼───────────────────┼────────────┼───────────────────┤\n",
              "│ multi_head_attenti… │ (\u001b[38;5;45mNone\u001b[0m, \u001b[38;5;34m40\u001b[0m, \u001b[38;5;34m64\u001b[0m)    │     \u001b[38;5;34m33,216\u001b[0m │ add_9[\u001b[38;5;34m0\u001b[0m][\u001b[38;5;34m0\u001b[0m],      │\n",
              "│ (\u001b[38;5;33mMultiHeadAttentio…\u001b[0m │                   │            │ add_9[\u001b[38;5;34m0\u001b[0m][\u001b[38;5;34m0\u001b[0m]       │\n",
              "├─────────────────────┼───────────────────┼────────────┼───────────────────┤\n",
              "│ dropout_18          │ (\u001b[38;5;45mNone\u001b[0m, \u001b[38;5;34m40\u001b[0m, \u001b[38;5;34m64\u001b[0m)    │          \u001b[38;5;34m0\u001b[0m │ multi_head_atten… │\n",
              "│ (\u001b[38;5;33mDropout\u001b[0m)           │                   │            │                   │\n",
              "├─────────────────────┼───────────────────┼────────────┼───────────────────┤\n",
              "│ add_10 (\u001b[38;5;33mAdd\u001b[0m)        │ (\u001b[38;5;45mNone\u001b[0m, \u001b[38;5;34m40\u001b[0m, \u001b[38;5;34m64\u001b[0m)    │          \u001b[38;5;34m0\u001b[0m │ add_9[\u001b[38;5;34m0\u001b[0m][\u001b[38;5;34m0\u001b[0m],      │\n",
              "│                     │                   │            │ dropout_18[\u001b[38;5;34m0\u001b[0m][\u001b[38;5;34m0\u001b[0m]  │\n",
              "├─────────────────────┼───────────────────┼────────────┼───────────────────┤\n",
              "│ layer_normalizatio… │ (\u001b[38;5;45mNone\u001b[0m, \u001b[38;5;34m40\u001b[0m, \u001b[38;5;34m64\u001b[0m)    │        \u001b[38;5;34m128\u001b[0m │ add_10[\u001b[38;5;34m0\u001b[0m][\u001b[38;5;34m0\u001b[0m]      │\n",
              "│ (\u001b[38;5;33mLayerNormalizatio…\u001b[0m │                   │            │                   │\n",
              "├─────────────────────┼───────────────────┼────────────┼───────────────────┤\n",
              "│ dense_16 (\u001b[38;5;33mDense\u001b[0m)    │ (\u001b[38;5;45mNone\u001b[0m, \u001b[38;5;34m40\u001b[0m, \u001b[38;5;34m64\u001b[0m)    │      \u001b[38;5;34m4,160\u001b[0m │ layer_normalizat… │\n",
              "├─────────────────────┼───────────────────┼────────────┼───────────────────┤\n",
              "│ dense_17 (\u001b[38;5;33mDense\u001b[0m)    │ (\u001b[38;5;45mNone\u001b[0m, \u001b[38;5;34m40\u001b[0m, \u001b[38;5;34m64\u001b[0m)    │      \u001b[38;5;34m4,160\u001b[0m │ dense_16[\u001b[38;5;34m0\u001b[0m][\u001b[38;5;34m0\u001b[0m]    │\n",
              "├─────────────────────┼───────────────────┼────────────┼───────────────────┤\n",
              "│ dropout_19          │ (\u001b[38;5;45mNone\u001b[0m, \u001b[38;5;34m40\u001b[0m, \u001b[38;5;34m64\u001b[0m)    │          \u001b[38;5;34m0\u001b[0m │ dense_17[\u001b[38;5;34m0\u001b[0m][\u001b[38;5;34m0\u001b[0m]    │\n",
              "│ (\u001b[38;5;33mDropout\u001b[0m)           │                   │            │                   │\n",
              "├─────────────────────┼───────────────────┼────────────┼───────────────────┤\n",
              "│ add_11 (\u001b[38;5;33mAdd\u001b[0m)        │ (\u001b[38;5;45mNone\u001b[0m, \u001b[38;5;34m40\u001b[0m, \u001b[38;5;34m64\u001b[0m)    │          \u001b[38;5;34m0\u001b[0m │ layer_normalizat… │\n",
              "│                     │                   │            │ dropout_19[\u001b[38;5;34m0\u001b[0m][\u001b[38;5;34m0\u001b[0m]  │\n",
              "├─────────────────────┼───────────────────┼────────────┼───────────────────┤\n",
              "│ layer_normalizatio… │ (\u001b[38;5;45mNone\u001b[0m, \u001b[38;5;34m40\u001b[0m, \u001b[38;5;34m64\u001b[0m)    │        \u001b[38;5;34m128\u001b[0m │ add_11[\u001b[38;5;34m0\u001b[0m][\u001b[38;5;34m0\u001b[0m]      │\n",
              "│ (\u001b[38;5;33mLayerNormalizatio…\u001b[0m │                   │            │                   │\n",
              "├─────────────────────┼───────────────────┼────────────┼───────────────────┤\n",
              "│ global_average_poo… │ (\u001b[38;5;45mNone\u001b[0m, \u001b[38;5;34m64\u001b[0m)        │          \u001b[38;5;34m0\u001b[0m │ layer_normalizat… │\n",
              "│ (\u001b[38;5;33mGlobalAveragePool…\u001b[0m │                   │            │                   │\n",
              "├─────────────────────┼───────────────────┼────────────┼───────────────────┤\n",
              "│ dropout_20          │ (\u001b[38;5;45mNone\u001b[0m, \u001b[38;5;34m64\u001b[0m)        │          \u001b[38;5;34m0\u001b[0m │ global_average_p… │\n",
              "│ (\u001b[38;5;33mDropout\u001b[0m)           │                   │            │                   │\n",
              "├─────────────────────┼───────────────────┼────────────┼───────────────────┤\n",
              "│ dense_18 (\u001b[38;5;33mDense\u001b[0m)    │ (\u001b[38;5;45mNone\u001b[0m, \u001b[38;5;34m64\u001b[0m)        │      \u001b[38;5;34m4,160\u001b[0m │ dropout_20[\u001b[38;5;34m0\u001b[0m][\u001b[38;5;34m0\u001b[0m]  │\n",
              "├─────────────────────┼───────────────────┼────────────┼───────────────────┤\n",
              "│ dropout_21          │ (\u001b[38;5;45mNone\u001b[0m, \u001b[38;5;34m64\u001b[0m)        │          \u001b[38;5;34m0\u001b[0m │ dense_18[\u001b[38;5;34m0\u001b[0m][\u001b[38;5;34m0\u001b[0m]    │\n",
              "│ (\u001b[38;5;33mDropout\u001b[0m)           │                   │            │                   │\n",
              "├─────────────────────┼───────────────────┼────────────┼───────────────────┤\n",
              "│ dense_19 (\u001b[38;5;33mDense\u001b[0m)    │ (\u001b[38;5;45mNone\u001b[0m, \u001b[38;5;34m1\u001b[0m)         │         \u001b[38;5;34m65\u001b[0m │ dropout_21[\u001b[38;5;34m0\u001b[0m][\u001b[38;5;34m0\u001b[0m]  │\n",
              "└─────────────────────┴───────────────────┴────────────┴───────────────────┘\n"
            ],
            "text/html": [
              "<pre style=\"white-space:pre;overflow-x:auto;line-height:normal;font-family:Menlo,'DejaVu Sans Mono',consolas,'Courier New',monospace\">┏━━━━━━━━━━━━━━━━━━━━━┳━━━━━━━━━━━━━━━━━━━┳━━━━━━━━━━━━┳━━━━━━━━━━━━━━━━━━━┓\n",
              "┃<span style=\"font-weight: bold\"> Layer (type)        </span>┃<span style=\"font-weight: bold\"> Output Shape      </span>┃<span style=\"font-weight: bold\">    Param # </span>┃<span style=\"font-weight: bold\"> Connected to      </span>┃\n",
              "┡━━━━━━━━━━━━━━━━━━━━━╇━━━━━━━━━━━━━━━━━━━╇━━━━━━━━━━━━╇━━━━━━━━━━━━━━━━━━━┩\n",
              "│ input_layer_5       │ (<span style=\"color: #00d7ff; text-decoration-color: #00d7ff\">None</span>, <span style=\"color: #00af00; text-decoration-color: #00af00\">40</span>)        │          <span style=\"color: #00af00; text-decoration-color: #00af00\">0</span> │ -                 │\n",
              "│ (<span style=\"color: #0087ff; text-decoration-color: #0087ff\">InputLayer</span>)        │                   │            │                   │\n",
              "├─────────────────────┼───────────────────┼────────────┼───────────────────┤\n",
              "│ embedding_5         │ (<span style=\"color: #00d7ff; text-decoration-color: #00d7ff\">None</span>, <span style=\"color: #00af00; text-decoration-color: #00af00\">40</span>, <span style=\"color: #00af00; text-decoration-color: #00af00\">64</span>)    │    <span style=\"color: #00af00; text-decoration-color: #00af00\">640,000</span> │ input_layer_5[<span style=\"color: #00af00; text-decoration-color: #00af00\">0</span>]… │\n",
              "│ (<span style=\"color: #0087ff; text-decoration-color: #0087ff\">Embedding</span>)         │                   │            │                   │\n",
              "├─────────────────────┼───────────────────┼────────────┼───────────────────┤\n",
              "│ add_9 (<span style=\"color: #0087ff; text-decoration-color: #0087ff\">Add</span>)         │ (<span style=\"color: #00d7ff; text-decoration-color: #00d7ff\">None</span>, <span style=\"color: #00af00; text-decoration-color: #00af00\">40</span>, <span style=\"color: #00af00; text-decoration-color: #00af00\">64</span>)    │          <span style=\"color: #00af00; text-decoration-color: #00af00\">0</span> │ embedding_5[<span style=\"color: #00af00; text-decoration-color: #00af00\">0</span>][<span style=\"color: #00af00; text-decoration-color: #00af00\">0</span>] │\n",
              "├─────────────────────┼───────────────────┼────────────┼───────────────────┤\n",
              "│ multi_head_attenti… │ (<span style=\"color: #00d7ff; text-decoration-color: #00d7ff\">None</span>, <span style=\"color: #00af00; text-decoration-color: #00af00\">40</span>, <span style=\"color: #00af00; text-decoration-color: #00af00\">64</span>)    │     <span style=\"color: #00af00; text-decoration-color: #00af00\">33,216</span> │ add_9[<span style=\"color: #00af00; text-decoration-color: #00af00\">0</span>][<span style=\"color: #00af00; text-decoration-color: #00af00\">0</span>],      │\n",
              "│ (<span style=\"color: #0087ff; text-decoration-color: #0087ff\">MultiHeadAttentio…</span> │                   │            │ add_9[<span style=\"color: #00af00; text-decoration-color: #00af00\">0</span>][<span style=\"color: #00af00; text-decoration-color: #00af00\">0</span>]       │\n",
              "├─────────────────────┼───────────────────┼────────────┼───────────────────┤\n",
              "│ dropout_18          │ (<span style=\"color: #00d7ff; text-decoration-color: #00d7ff\">None</span>, <span style=\"color: #00af00; text-decoration-color: #00af00\">40</span>, <span style=\"color: #00af00; text-decoration-color: #00af00\">64</span>)    │          <span style=\"color: #00af00; text-decoration-color: #00af00\">0</span> │ multi_head_atten… │\n",
              "│ (<span style=\"color: #0087ff; text-decoration-color: #0087ff\">Dropout</span>)           │                   │            │                   │\n",
              "├─────────────────────┼───────────────────┼────────────┼───────────────────┤\n",
              "│ add_10 (<span style=\"color: #0087ff; text-decoration-color: #0087ff\">Add</span>)        │ (<span style=\"color: #00d7ff; text-decoration-color: #00d7ff\">None</span>, <span style=\"color: #00af00; text-decoration-color: #00af00\">40</span>, <span style=\"color: #00af00; text-decoration-color: #00af00\">64</span>)    │          <span style=\"color: #00af00; text-decoration-color: #00af00\">0</span> │ add_9[<span style=\"color: #00af00; text-decoration-color: #00af00\">0</span>][<span style=\"color: #00af00; text-decoration-color: #00af00\">0</span>],      │\n",
              "│                     │                   │            │ dropout_18[<span style=\"color: #00af00; text-decoration-color: #00af00\">0</span>][<span style=\"color: #00af00; text-decoration-color: #00af00\">0</span>]  │\n",
              "├─────────────────────┼───────────────────┼────────────┼───────────────────┤\n",
              "│ layer_normalizatio… │ (<span style=\"color: #00d7ff; text-decoration-color: #00d7ff\">None</span>, <span style=\"color: #00af00; text-decoration-color: #00af00\">40</span>, <span style=\"color: #00af00; text-decoration-color: #00af00\">64</span>)    │        <span style=\"color: #00af00; text-decoration-color: #00af00\">128</span> │ add_10[<span style=\"color: #00af00; text-decoration-color: #00af00\">0</span>][<span style=\"color: #00af00; text-decoration-color: #00af00\">0</span>]      │\n",
              "│ (<span style=\"color: #0087ff; text-decoration-color: #0087ff\">LayerNormalizatio…</span> │                   │            │                   │\n",
              "├─────────────────────┼───────────────────┼────────────┼───────────────────┤\n",
              "│ dense_16 (<span style=\"color: #0087ff; text-decoration-color: #0087ff\">Dense</span>)    │ (<span style=\"color: #00d7ff; text-decoration-color: #00d7ff\">None</span>, <span style=\"color: #00af00; text-decoration-color: #00af00\">40</span>, <span style=\"color: #00af00; text-decoration-color: #00af00\">64</span>)    │      <span style=\"color: #00af00; text-decoration-color: #00af00\">4,160</span> │ layer_normalizat… │\n",
              "├─────────────────────┼───────────────────┼────────────┼───────────────────┤\n",
              "│ dense_17 (<span style=\"color: #0087ff; text-decoration-color: #0087ff\">Dense</span>)    │ (<span style=\"color: #00d7ff; text-decoration-color: #00d7ff\">None</span>, <span style=\"color: #00af00; text-decoration-color: #00af00\">40</span>, <span style=\"color: #00af00; text-decoration-color: #00af00\">64</span>)    │      <span style=\"color: #00af00; text-decoration-color: #00af00\">4,160</span> │ dense_16[<span style=\"color: #00af00; text-decoration-color: #00af00\">0</span>][<span style=\"color: #00af00; text-decoration-color: #00af00\">0</span>]    │\n",
              "├─────────────────────┼───────────────────┼────────────┼───────────────────┤\n",
              "│ dropout_19          │ (<span style=\"color: #00d7ff; text-decoration-color: #00d7ff\">None</span>, <span style=\"color: #00af00; text-decoration-color: #00af00\">40</span>, <span style=\"color: #00af00; text-decoration-color: #00af00\">64</span>)    │          <span style=\"color: #00af00; text-decoration-color: #00af00\">0</span> │ dense_17[<span style=\"color: #00af00; text-decoration-color: #00af00\">0</span>][<span style=\"color: #00af00; text-decoration-color: #00af00\">0</span>]    │\n",
              "│ (<span style=\"color: #0087ff; text-decoration-color: #0087ff\">Dropout</span>)           │                   │            │                   │\n",
              "├─────────────────────┼───────────────────┼────────────┼───────────────────┤\n",
              "│ add_11 (<span style=\"color: #0087ff; text-decoration-color: #0087ff\">Add</span>)        │ (<span style=\"color: #00d7ff; text-decoration-color: #00d7ff\">None</span>, <span style=\"color: #00af00; text-decoration-color: #00af00\">40</span>, <span style=\"color: #00af00; text-decoration-color: #00af00\">64</span>)    │          <span style=\"color: #00af00; text-decoration-color: #00af00\">0</span> │ layer_normalizat… │\n",
              "│                     │                   │            │ dropout_19[<span style=\"color: #00af00; text-decoration-color: #00af00\">0</span>][<span style=\"color: #00af00; text-decoration-color: #00af00\">0</span>]  │\n",
              "├─────────────────────┼───────────────────┼────────────┼───────────────────┤\n",
              "│ layer_normalizatio… │ (<span style=\"color: #00d7ff; text-decoration-color: #00d7ff\">None</span>, <span style=\"color: #00af00; text-decoration-color: #00af00\">40</span>, <span style=\"color: #00af00; text-decoration-color: #00af00\">64</span>)    │        <span style=\"color: #00af00; text-decoration-color: #00af00\">128</span> │ add_11[<span style=\"color: #00af00; text-decoration-color: #00af00\">0</span>][<span style=\"color: #00af00; text-decoration-color: #00af00\">0</span>]      │\n",
              "│ (<span style=\"color: #0087ff; text-decoration-color: #0087ff\">LayerNormalizatio…</span> │                   │            │                   │\n",
              "├─────────────────────┼───────────────────┼────────────┼───────────────────┤\n",
              "│ global_average_poo… │ (<span style=\"color: #00d7ff; text-decoration-color: #00d7ff\">None</span>, <span style=\"color: #00af00; text-decoration-color: #00af00\">64</span>)        │          <span style=\"color: #00af00; text-decoration-color: #00af00\">0</span> │ layer_normalizat… │\n",
              "│ (<span style=\"color: #0087ff; text-decoration-color: #0087ff\">GlobalAveragePool…</span> │                   │            │                   │\n",
              "├─────────────────────┼───────────────────┼────────────┼───────────────────┤\n",
              "│ dropout_20          │ (<span style=\"color: #00d7ff; text-decoration-color: #00d7ff\">None</span>, <span style=\"color: #00af00; text-decoration-color: #00af00\">64</span>)        │          <span style=\"color: #00af00; text-decoration-color: #00af00\">0</span> │ global_average_p… │\n",
              "│ (<span style=\"color: #0087ff; text-decoration-color: #0087ff\">Dropout</span>)           │                   │            │                   │\n",
              "├─────────────────────┼───────────────────┼────────────┼───────────────────┤\n",
              "│ dense_18 (<span style=\"color: #0087ff; text-decoration-color: #0087ff\">Dense</span>)    │ (<span style=\"color: #00d7ff; text-decoration-color: #00d7ff\">None</span>, <span style=\"color: #00af00; text-decoration-color: #00af00\">64</span>)        │      <span style=\"color: #00af00; text-decoration-color: #00af00\">4,160</span> │ dropout_20[<span style=\"color: #00af00; text-decoration-color: #00af00\">0</span>][<span style=\"color: #00af00; text-decoration-color: #00af00\">0</span>]  │\n",
              "├─────────────────────┼───────────────────┼────────────┼───────────────────┤\n",
              "│ dropout_21          │ (<span style=\"color: #00d7ff; text-decoration-color: #00d7ff\">None</span>, <span style=\"color: #00af00; text-decoration-color: #00af00\">64</span>)        │          <span style=\"color: #00af00; text-decoration-color: #00af00\">0</span> │ dense_18[<span style=\"color: #00af00; text-decoration-color: #00af00\">0</span>][<span style=\"color: #00af00; text-decoration-color: #00af00\">0</span>]    │\n",
              "│ (<span style=\"color: #0087ff; text-decoration-color: #0087ff\">Dropout</span>)           │                   │            │                   │\n",
              "├─────────────────────┼───────────────────┼────────────┼───────────────────┤\n",
              "│ dense_19 (<span style=\"color: #0087ff; text-decoration-color: #0087ff\">Dense</span>)    │ (<span style=\"color: #00d7ff; text-decoration-color: #00d7ff\">None</span>, <span style=\"color: #00af00; text-decoration-color: #00af00\">1</span>)         │         <span style=\"color: #00af00; text-decoration-color: #00af00\">65</span> │ dropout_21[<span style=\"color: #00af00; text-decoration-color: #00af00\">0</span>][<span style=\"color: #00af00; text-decoration-color: #00af00\">0</span>]  │\n",
              "└─────────────────────┴───────────────────┴────────────┴───────────────────┘\n",
              "</pre>\n"
            ]
          },
          "metadata": {}
        },
        {
          "output_type": "display_data",
          "data": {
            "text/plain": [
              "\u001b[1m Total params: \u001b[0m\u001b[38;5;34m686,017\u001b[0m (2.62 MB)\n"
            ],
            "text/html": [
              "<pre style=\"white-space:pre;overflow-x:auto;line-height:normal;font-family:Menlo,'DejaVu Sans Mono',consolas,'Courier New',monospace\"><span style=\"font-weight: bold\"> Total params: </span><span style=\"color: #00af00; text-decoration-color: #00af00\">686,017</span> (2.62 MB)\n",
              "</pre>\n"
            ]
          },
          "metadata": {}
        },
        {
          "output_type": "display_data",
          "data": {
            "text/plain": [
              "\u001b[1m Trainable params: \u001b[0m\u001b[38;5;34m686,017\u001b[0m (2.62 MB)\n"
            ],
            "text/html": [
              "<pre style=\"white-space:pre;overflow-x:auto;line-height:normal;font-family:Menlo,'DejaVu Sans Mono',consolas,'Courier New',monospace\"><span style=\"font-weight: bold\"> Trainable params: </span><span style=\"color: #00af00; text-decoration-color: #00af00\">686,017</span> (2.62 MB)\n",
              "</pre>\n"
            ]
          },
          "metadata": {}
        },
        {
          "output_type": "display_data",
          "data": {
            "text/plain": [
              "\u001b[1m Non-trainable params: \u001b[0m\u001b[38;5;34m0\u001b[0m (0.00 B)\n"
            ],
            "text/html": [
              "<pre style=\"white-space:pre;overflow-x:auto;line-height:normal;font-family:Menlo,'DejaVu Sans Mono',consolas,'Courier New',monospace\"><span style=\"font-weight: bold\"> Non-trainable params: </span><span style=\"color: #00af00; text-decoration-color: #00af00\">0</span> (0.00 B)\n",
              "</pre>\n"
            ]
          },
          "metadata": {}
        }
      ]
    },
    {
      "cell_type": "markdown",
      "source": [],
      "metadata": {
        "id": "c92TUh8xggjk"
      }
    },
    {
      "cell_type": "markdown",
      "metadata": {
        "id": "DxsDv5ysgg7C"
      },
      "source": [
        "### Code Explanation: Build Transformer Model\n",
        "\n",
        "This cell assembles the complete Tiny Transformer model for the task of sarcasm detection using the previously defined components like the Embedding layer, Positional Encoding, and the Transformer Encoder block.\n",
        "\n",
        "*   `embed_dim = 64`: Defines the dimensionality of the word embeddings and the internal representation size used throughout the model. This means each word will be represented by a 64-dimensional vector, and the processing within the Transformer block will operate on 64-dimensional vectors.\n",
        "*   `num_heads = 2`: Specifies the number of attention heads in the `MultiHeadAttention` layer within the Transformer encoder block. Having multiple heads allows the model to capture different types of relationships between words.\n",
        "*   `ff_dim = 64`: Sets the dimensionality of the hidden layer in the position-wise feed-forward network within the Transformer encoder block.\n",
        "*   `inputs = keras.Input(shape=(max_len,))`: Defines the input layer of the model. `keras.Input` creates a symbolic tensor that represents the input to the network. The `shape=(max_len,)` indicates that the model expects input sequences of a fixed length specified by `max_len` (which is 40 in this case), containing integer indices representing words.\n",
        "*   `x = layers.Embedding(vocab_size, embed_dim)(inputs)`: This line adds an **Embedding layer** as the first layer of the model.\n",
        "    *   `layers.Embedding`: This layer takes integer indices as input and looks up the corresponding dense vector representation (embedding) for each word.\n",
        "    *   `vocab_size`: The size of the vocabulary (10000), which determines the number of unique embeddings.\n",
        "    *   `embed_dim`: The dimensionality of the embedding vectors (64).\n",
        "    *   `(inputs)`: Applies the embedding layer to the `inputs` tensor. The output `x` is a tensor of shape `(None, max_len, embed_dim)`, where `None` represents the batch size.\n",
        "*   `x += positional_encoding(max_len, embed_dim)`: This is where **Positional Encoding** is added to the word embeddings. The `positional_encoding` function (defined earlier) generates positional vectors of the same shape as the embeddings. These positional vectors are added element-wise to the word embeddings. This provides the model with information about the position of each word in the sequence.\n",
        "*   `x = transformer_encoder(x, head_size=embed_dim, num_heads=num_heads, ff_dim=ff_dim)`: The output of the embedding and positional encoding is passed through the **Transformer Encoder block**. The `transformer_encoder` function (defined earlier) applies multi-head self-attention and a feed-forward network to the input, producing a contextually richer representation of the sequence. The output `x` from this step has the same shape as the input to the encoder block.\n",
        "*   `x = layers.GlobalAveragePooling1D()(x)`: After processing the sequence with the Transformer encoder, **Global Average Pooling 1D** is applied. This layer averages the feature vectors across the sequence dimension (the `max_len` dimension). This reduces the output from a sequence of vectors to a single vector per sample, summarizing the information learned by the encoder. The output shape becomes `(None, embed_dim)`.\n",
        "*   `x = layers.Dropout(0.1)(x)`: A **Dropout layer** with a rate of 0.1 is added. Dropout is a regularization technique that randomly sets a fraction of the input units to zero during training, which helps prevent overfitting.\n",
        "*   `x = layers.Dense(64, activation=\"relu\")(x)`: A dense (fully connected) layer with 64 units and a **ReLU** (Rectified Linear Unit) activation function is added. This layer further processes the pooled representation.\n",
        "*   `x = layers.Dropout(0.1)(x)`: Another **Dropout layer** with a rate of 0.1 is added after the dense layer for additional regularization.\n",
        "*   `outputs = layers.Dense(1, activation=\"sigmoid\")(x)`: This is the **Output layer** of the model. It's a dense layer with a single unit and a **Sigmoid** activation function. The sigmoid activation squashes the output to a value between 0 and 1, which can be interpreted as the probability of the input headline being sarcastic. This is suitable for binary classification.\n",
        "*   `transformer_model = keras.Model(inputs, outputs)`: This line creates the Keras `Model` by specifying the input layer (`inputs`) and the output layer (`outputs`). This defines the entire architecture of the Transformer model.\n",
        "*   `transformer_model.compile(loss=\"binary_crossentropy\", optimizer=\"adam\", metrics=[\"accuracy\"])`: This line configures the model for the training process.\n",
        "    *   `loss=\"binary_crossentropy\"`: Specifies the loss function to be used. Binary cross-entropy is the standard loss function for binary classification problems. It measures how far the model's predicted probabilities are from the true labels.\n",
        "    *   `optimizer=\"adam\"`: Specifies the optimization algorithm. The Adam optimizer is a popular and effective choice for training neural networks. It updates the model's weights iteratively to minimize the loss function.\n",
        "    *   `metrics=[\"accuracy\"]`: Specifies the metrics that will be evaluated during training and testing. Accuracy measures the proportion of correctly classified samples.\n",
        "*   `transformer_model.summary()`: This line prints a summary of the built model's architecture. The summary includes the name of each layer, its output shape, and the number of trainable parameters in each layer. This is helpful for understanding the model's structure and complexity."
      ]
    },
    {
      "cell_type": "code",
      "source": [
        "# Train the Transformer model on the training data.\n",
        "history = transformer_model.fit(\n",
        "    X_train, y_train,\n",
        "    validation_split=0.2, # Use 20% of the training data for validation during training.\n",
        "    epochs=5,             # Train for 5 epochs (passes over the entire training dataset).\n",
        "    batch_size=64         # Use a batch size of 64 samples for each training step.\n",
        ")"
      ],
      "metadata": {
        "colab": {
          "base_uri": "https://localhost:8080/"
        },
        "id": "szlC7tfPwP5X",
        "outputId": "6e69b68e-cbe7-4cf9-a7d0-f6a00163127f"
      },
      "execution_count": 38,
      "outputs": [
        {
          "output_type": "stream",
          "name": "stdout",
          "text": [
            "Epoch 1/5\n",
            "\u001b[1m268/268\u001b[0m \u001b[32m━━━━━━━━━━━━━━━━━━━━\u001b[0m\u001b[37m\u001b[0m \u001b[1m26s\u001b[0m 77ms/step - accuracy: 0.5645 - loss: 0.6736 - val_accuracy: 0.8025 - val_loss: 0.4209\n",
            "Epoch 2/5\n",
            "\u001b[1m268/268\u001b[0m \u001b[32m━━━━━━━━━━━━━━━━━━━━\u001b[0m\u001b[37m\u001b[0m \u001b[1m19s\u001b[0m 72ms/step - accuracy: 0.8578 - loss: 0.3386 - val_accuracy: 0.8343 - val_loss: 0.3804\n",
            "Epoch 3/5\n",
            "\u001b[1m268/268\u001b[0m \u001b[32m━━━━━━━━━━━━━━━━━━━━\u001b[0m\u001b[37m\u001b[0m \u001b[1m21s\u001b[0m 78ms/step - accuracy: 0.9349 - loss: 0.1773 - val_accuracy: 0.8505 - val_loss: 0.3765\n",
            "Epoch 4/5\n",
            "\u001b[1m268/268\u001b[0m \u001b[32m━━━━━━━━━━━━━━━━━━━━\u001b[0m\u001b[37m\u001b[0m \u001b[1m19s\u001b[0m 72ms/step - accuracy: 0.9657 - loss: 0.1076 - val_accuracy: 0.8381 - val_loss: 0.4945\n",
            "Epoch 5/5\n",
            "\u001b[1m268/268\u001b[0m \u001b[32m━━━━━━━━━━━━━━━━━━━━\u001b[0m\u001b[37m\u001b[0m \u001b[1m21s\u001b[0m 76ms/step - accuracy: 0.9741 - loss: 0.0734 - val_accuracy: 0.8416 - val_loss: 0.5837\n"
          ]
        }
      ]
    },
    {
      "cell_type": "markdown",
      "source": [],
      "metadata": {
        "id": "O-qYcGRsgwGJ"
      }
    },
    {
      "cell_type": "markdown",
      "metadata": {
        "id": "3kyqdiKugwgN"
      },
      "source": [
        "### Code Explanation: Train Transformer Model\n",
        "\n",
        "This cell initiates the training process for the compiled Transformer model using the prepared training data.\n",
        "\n",
        "*   `history = transformer_model.fit(...)`: This line calls the `fit` method of the `transformer_model` to train the model. The `fit` method trains the model for a fixed number of epochs (iterations on the dataset). The training process updates the model's weights based on the provided training data and the configured loss function and optimizer.\n",
        "    *   `X_train`: The input training data (numerical sequences of headlines).\n",
        "    *   `y_train`: The corresponding training labels (sarcastic or not sarcastic).\n",
        "    *   `validation_split=0.2`: This parameter specifies that 20% of the provided `X_train` and `y_train` data will be set aside and used as a validation set during training. The model will be evaluated on this validation set at the end of each epoch. Monitoring the validation loss and accuracy helps in detecting if the model is overfitting to the training data (i.e., performing well on training data but poorly on unseen validation data).\n",
        "    *   `epochs=5`: This parameter sets the number of training epochs. An epoch is one full pass through the entire training dataset. In this case, the model will iterate through the training data 5 times.\n",
        "    *   `batch_size=64`: This parameter specifies the number of samples that will be processed in each training step before the model's weights are updated. Using batches makes the training process more efficient than updating weights after each individual sample.\n",
        "*   The `fit` method returns a `History` object, which is stored in the `history` variable. This object contains a record of the loss and metric values (like accuracy) during training for both the training and validation sets across each epoch. This history can be used later for visualizing the training progress.\n",
        "*   During training, you will see output for each epoch showing the training loss and accuracy, as well as the validation loss and accuracy."
      ]
    },
    {
      "cell_type": "code",
      "source": [
        "# Evaluate the trained Transformer model on the test dataset.\n",
        "# This gives an estimate of the model's performance on unseen data.\n",
        "loss, accuracy = transformer_model.evaluate(X_test, y_test)\n",
        "\n",
        "# Print the test accuracy.\n",
        "print(f\"Transformer Test Accuracy: {accuracy:.4f}\")"
      ],
      "metadata": {
        "colab": {
          "base_uri": "https://localhost:8080/"
        },
        "id": "_prQBF12w22p",
        "outputId": "d2902c3c-f8e8-4f21-9dcc-6b9d1330cf01"
      },
      "execution_count": 39,
      "outputs": [
        {
          "output_type": "stream",
          "name": "stdout",
          "text": [
            "\u001b[1m167/167\u001b[0m \u001b[32m━━━━━━━━━━━━━━━━━━━━\u001b[0m\u001b[37m\u001b[0m \u001b[1m2s\u001b[0m 11ms/step - accuracy: 0.8427 - loss: 0.5739\n",
            "Transformer Test Accuracy: 0.8426\n"
          ]
        }
      ]
    },
    {
      "cell_type": "markdown",
      "source": [],
      "metadata": {
        "id": "zeVdQX1uhG9F"
      }
    },
    {
      "cell_type": "markdown",
      "metadata": {
        "id": "uLUxKnm0hHYI"
      },
      "source": [
        "### Code Explanation: Evaluate Transformer Model\n",
        "\n",
        "This cell evaluates the performance of the trained Transformer model on the separate, unseen test dataset. The test set provides an unbiased estimate of how well the model is likely to perform on new data in the real world.\n",
        "\n",
        "*   `loss, accuracy = transformer_model.evaluate(X_test, y_test)`: This line calls the `evaluate` method of the `transformer_model`.\n",
        "    *   `X_test`: The input features from the test dataset (numerical sequences of headlines).\n",
        "    *   `y_test`: The corresponding true labels for the test dataset.\n",
        "    *   The `evaluate` method calculates the loss and the metrics specified during the model's compilation (`metrics=[\"accuracy\"]`) on the provided test data.\n",
        "    *   It returns a list of scalar values, where the first value is the loss and the subsequent values are the metrics in the order they were listed in the `metrics` argument during `compile`. In this case, it returns the test loss and the test accuracy.\n",
        "*   `print(f\"Transformer Test Accuracy: {accuracy:.4f}\")`: This line prints the test accuracy obtained from the evaluation. The `f\"\"` string formatting is used to include the value of the `accuracy` variable directly in the string. `:.4f` formats the accuracy value to four decimal places. This test accuracy is a key indicator of the model's generalization capability."
      ]
    },
    {
      "cell_type": "code",
      "source": [
        "# Sample predictions using the trained Transformer model.\n",
        "\n",
        "# Define a list of sample text headlines to predict.\n",
        "sample_texts = [\n",
        "    \"I absolutely love getting stuck in traffic every morning\",\n",
        "    \"The sky is blue and water is wet\",\n",
        "    \"Oh great, another Monday morning meeting\",\n",
        "    \"NASA lands humans on Mars for the first time\",\n",
        "    \"What a wonderful day to be stuck inside a meeting\",\n",
        "    \"I just love it when my computer crashes right before saving my work\",\n",
        "    \"The new smartphone is definitely revolutionary... not\"\n",
        "]\n",
        "# Convert the sample text headlines into numerical sequences using the same vectorizer used for training.\n",
        "sample_vec = vectorizer(sample_texts)\n",
        "# Make predictions using the trained transformer model. The output is a probability for each sample.\n",
        "preds = transformer_model.predict(sample_vec)\n",
        "\n",
        "# Iterate through the sample texts and their predictions.\n",
        "for text, pred in zip(sample_texts, preds):\n",
        "    # Print the text and the predicted class (Sarcastic if probability > 0.5, otherwise Not Sarcastic)\n",
        "    # Also print the prediction probability.\n",
        "    print(f\"{text} --> {'Sarcastic' if pred > 0.5 else 'Not Sarcastic'} ({pred[0]:.2f})\")"
      ],
      "metadata": {
        "colab": {
          "base_uri": "https://localhost:8080/"
        },
        "id": "5pivJ0VGxC6l",
        "outputId": "06e35bbc-922a-48a6-873b-bcdd4a5c008e"
      },
      "execution_count": 40,
      "outputs": [
        {
          "output_type": "stream",
          "name": "stdout",
          "text": [
            "\u001b[1m1/1\u001b[0m \u001b[32m━━━━━━━━━━━━━━━━━━━━\u001b[0m\u001b[37m\u001b[0m \u001b[1m0s\u001b[0m 321ms/step\n",
            "I absolutely love getting stuck in traffic every morning --> Not Sarcastic (0.01)\n",
            "The sky is blue and water is wet --> Not Sarcastic (0.00)\n",
            "Oh great, another Monday morning meeting --> Sarcastic (1.00)\n",
            "NASA lands humans on Mars for the first time --> Sarcastic (1.00)\n",
            "What a wonderful day to be stuck inside a meeting --> Not Sarcastic (0.00)\n",
            "I just love it when my computer crashes right before saving my work --> Not Sarcastic (0.11)\n",
            "The new smartphone is definitely revolutionary... not --> Not Sarcastic (0.00)\n"
          ]
        }
      ]
    },
    {
      "cell_type": "markdown",
      "source": [],
      "metadata": {
        "id": "O_B60CKNhcME"
      }
    },
    {
      "cell_type": "markdown",
      "metadata": {
        "id": "VFpM_RS8hchq"
      },
      "source": [
        "### Code Explanation: Sample Predictions (Transformer)\n",
        "\n",
        "This cell demonstrates how to use the trained Transformer model to make predictions on a few custom, new text samples that were not part of the training or testing datasets.\n",
        "\n",
        "*   `sample_texts = [...]`: This line defines a Python list containing several example text headlines that we want the model to classify as sarcastic or not sarcastic.\n",
        "*   `sample_vec = vectorizer(sample_texts)`: Before the model can make predictions on these raw text strings, they need to be converted into the same numerical sequence format that the model was trained on. This line uses the `vectorizer` (the `TextVectorization` layer that was previously adapted to the training data's vocabulary) to convert the `sample_texts` list into a TensorFlow tensor of numerical sequences.\n",
        "*   `preds = transformer_model.predict(sample_vec)`: This line calls the `predict` method of the trained `transformer_model`. It takes the vectorized sample texts (`sample_vec`) as input and outputs the model's predictions. Since the output layer of the model uses a sigmoid activation, the predictions (`preds`) will be an array of probabilities, where each value represents the model's estimated probability that the corresponding headline is sarcastic.\n",
        "*   `for text, pred in zip(sample_texts, preds):`: This loop iterates through the original `sample_texts` and their corresponding predictions (`preds`) simultaneously using the `zip` function.\n",
        "*   `print(f\"{text} --> {'Sarcastic' if pred > 0.5 else 'Not Sarcastic'} ({pred[0]:.2f})\")`: Inside the loop, for each sample text and its prediction:\n",
        "    *   `f\"{text} --> ...\"`: This starts an f-string for formatted output. It prints the original `text`.\n",
        "    *   `{'Sarcastic' if pred > 0.5 else 'Not Sarcastic'}`: This is a conditional expression that determines the predicted class label. If the prediction probability (`pred`) is greater than 0.5, it prints \"Sarcastic\"; otherwise, it prints \"Not Sarcastic\".\n",
        "    *   `({pred[0]:.2f})`: This part prints the actual prediction probability, formatted to two decimal places. `pred` is an array (even for a single prediction), so `pred[0]` accesses the probability value.\n",
        "This cell helps visualize the model's output and understand how it classifies individual examples."
      ]
    },
    {
      "cell_type": "code",
      "source": [
        "# BONUS: Train and evaluate an LSTM model for comparison.\n",
        "\n",
        "# Build the LSTM model.\n",
        "lstm_model = keras.Sequential([\n",
        "    # Embedding layer to convert integer indices into dense vectors.\n",
        "    layers.Embedding(vocab_size, embed_dim, input_length=max_len),\n",
        "    # Bidirectional LSTM layer. Bidirectional LSTMs process the sequence in both forward and backward directions\n",
        "    # to capture dependencies from both past and future contexts.\n",
        "    layers.Bidirectional(layers.LSTM(64)),\n",
        "    # Dense layer with ReLU activation.\n",
        "    layers.Dense(64, activation='relu'),\n",
        "    # Dropout layer for regularization.\n",
        "    layers.Dropout(0.5),\n",
        "    # Output layer with a single neuron and sigmoid activation for binary classification.\n",
        "    layers.Dense(1, activation='sigmoid')\n",
        "])\n",
        "\n",
        "# Compile the LSTM model.\n",
        "# loss: Binary cross-entropy.\n",
        "# optimizer: Adam optimizer.\n",
        "# metrics: Accuracy.\n",
        "lstm_model.compile(loss='binary_crossentropy', optimizer='adam', metrics=['accuracy'])\n",
        "\n",
        "# Train the LSTM model on the training data.\n",
        "lstm_model.fit(X_train, y_train, validation_split=0.2, epochs=5, batch_size=64)\n",
        "\n",
        "# Evaluate the trained LSTM model on the test dataset.\n",
        "loss_lstm, acc_lstm = lstm_model.evaluate(X_test, y_test)\n",
        "# Print the LSTM test accuracy.\n",
        "print(f\"LSTM Test Accuracy: {acc_lstm:.4f}\")\n",
        "\n",
        "# Comparison Note: Compare the performance of the Transformer and LSTM models on the test set.\n",
        "print(\"\\n--- Performance Comparison ---\")\n",
        "print(f\"Transformer Accuracy: {accuracy:.4f}\")\n",
        "print(f\"LSTM Accuracy:       {acc_lstm:.4f}\")\n",
        "# Indicate which model performed better based on test accuracy.\n",
        "if accuracy > acc_lstm:\n",
        "    print(\"Transformer outperformed LSTM on sarcasm detection.\")\n",
        "else:\n",
        "    print(\"LSTM outperformed Transformer on sarcasm detection.\")"
      ],
      "metadata": {
        "colab": {
          "base_uri": "https://localhost:8080/"
        },
        "id": "QFKv0HmQxOSV",
        "outputId": "b5af3fd8-b005-4d6e-85c6-8add980b3382"
      },
      "execution_count": 43,
      "outputs": [
        {
          "output_type": "stream",
          "name": "stdout",
          "text": [
            "Epoch 1/5\n",
            "\u001b[1m268/268\u001b[0m \u001b[32m━━━━━━━━━━━━━━━━━━━━\u001b[0m\u001b[37m\u001b[0m \u001b[1m27s\u001b[0m 79ms/step - accuracy: 0.6981 - loss: 0.5467 - val_accuracy: 0.8547 - val_loss: 0.3347\n",
            "Epoch 2/5\n",
            "\u001b[1m268/268\u001b[0m \u001b[32m━━━━━━━━━━━━━━━━━━━━\u001b[0m\u001b[37m\u001b[0m \u001b[1m23s\u001b[0m 88ms/step - accuracy: 0.9183 - loss: 0.2180 - val_accuracy: 0.8580 - val_loss: 0.3493\n",
            "Epoch 3/5\n",
            "\u001b[1m268/268\u001b[0m \u001b[32m━━━━━━━━━━━━━━━━━━━━\u001b[0m\u001b[37m\u001b[0m \u001b[1m22s\u001b[0m 82ms/step - accuracy: 0.9591 - loss: 0.1254 - val_accuracy: 0.8484 - val_loss: 0.4165\n",
            "Epoch 4/5\n",
            "\u001b[1m268/268\u001b[0m \u001b[32m━━━━━━━━━━━━━━━━━━━━\u001b[0m\u001b[37m\u001b[0m \u001b[1m42s\u001b[0m 86ms/step - accuracy: 0.9775 - loss: 0.0706 - val_accuracy: 0.8418 - val_loss: 0.4993\n",
            "Epoch 5/5\n",
            "\u001b[1m268/268\u001b[0m \u001b[32m━━━━━━━━━━━━━━━━━━━━\u001b[0m\u001b[37m\u001b[0m \u001b[1m41s\u001b[0m 87ms/step - accuracy: 0.9880 - loss: 0.0408 - val_accuracy: 0.8318 - val_loss: 0.7152\n",
            "\u001b[1m167/167\u001b[0m \u001b[32m━━━━━━━━━━━━━━━━━━━━\u001b[0m\u001b[37m\u001b[0m \u001b[1m2s\u001b[0m 15ms/step - accuracy: 0.8415 - loss: 0.6541\n",
            "LSTM Test Accuracy: 0.8396\n",
            "\n",
            "--- Performance Comparison ---\n",
            "Transformer Accuracy: 0.8426\n",
            "LSTM Accuracy:       0.8396\n",
            "Transformer outperformed LSTM on sarcasm detection.\n"
          ]
        }
      ]
    },
    {
      "cell_type": "code",
      "metadata": {
        "colab": {
          "base_uri": "https://localhost:8080/",
          "height": 569
        },
        "id": "370bd4f8",
        "outputId": "0e6b1ad4-2110-44f0-8749-3501a22aacab"
      },
      "source": [
        "# Visualize training history for the Transformer model\n",
        "\n",
        "# Create a figure with two subplots side by side\n",
        "plt.figure(figsize=(12, 6))\n",
        "\n",
        "# Plot training & validation accuracy values in the first subplot\n",
        "plt.subplot(1, 2, 1)\n",
        "plt.plot(history.history['accuracy'])\n",
        "plt.plot(history.history['val_accuracy'])\n",
        "plt.title('Transformer Model Accuracy') # Set the title of the subplot\n",
        "plt.ylabel('Accuracy') # Set the label for the y-axis\n",
        "plt.xlabel('Epoch') # Set the label for the x-axis\n",
        "plt.legend(['Train', 'Validation'], loc='upper left') # Add a legend to distinguish between training and validation accuracy\n",
        "\n",
        "# Plot training & validation loss values in the second subplot\n",
        "plt.subplot(1, 2, 2)\n",
        "plt.plot(history.history['loss'])\n",
        "plt.plot(history.history['val_loss'])\n",
        "plt.title('Transformer Model Loss') # Set the title of the subplot\n",
        "plt.ylabel('Loss') # Set the label for the y-axis\n",
        "plt.xlabel('Epoch') # Set the label for the x-axis\n",
        "plt.legend(['Train', 'Validation'], loc='upper left') # Add a legend to distinguish between training and validation loss\n",
        "\n",
        "# Adjust layout to prevent titles/labels from overlapping\n",
        "plt.tight_layout()\n",
        "# Display the plots\n",
        "plt.show()"
      ],
      "execution_count": 42,
      "outputs": [
        {
          "output_type": "display_data",
          "data": {
            "text/plain": [
              "<Figure size 1200x600 with 2 Axes>"
            ],
            "image/png": "[encoded data removed]"
          },
          "metadata": {}
        }
      ]
    },
    {
      "cell_type": "markdown",
      "metadata": {
        "id": "442cbff9"
      },
      "source": [
        "### Code Explanation: Train and Evaluate LSTM Model (Bonus)\n",
        "\n",
        "This cell provides a \"bonus\" section that builds, trains, and evaluates a Bidirectional LSTM (Long Short-Term Memory) model. This is done to compare its performance with the Transformer model on the same sarcasm detection task. LSTMs are a type of recurrent neural network (RNN) that are also effective for sequential data like text, but they process sequences differently than Transformers.\n",
        "\n",
        "*   `lstm_model = keras.Sequential([...])`: This line defines the LSTM model using Keras's `Sequential` API, which allows you to build a model layer by layer in a linear stack.\n",
        "    *   `layers.Embedding(vocab_size, embed_dim, input_length=max_len)`: This is the first layer, similar to the Transformer model. It converts integer word indices into dense embedding vectors. `input_length=max_len` is specified explicitly for the first layer in a Sequential model.\n",
        "    *   `layers.Bidirectional(layers.LSTM(64))`: This is the core of the LSTM model.\n",
        "        *   `layers.LSTM(64)`: Creates an LSTM layer with 64 units. LSTM units are designed to handle the vanishing gradient problem and capture long-term dependencies in sequential data.\n",
        "        *   `layers.Bidirectional(...)`: Wraps the LSTM layer in a `Bidirectional` wrapper. A bidirectional LSTM processes the input sequence in both the forward and backward directions independently and then concatenates their outputs. This allows the model to capture context from both the past and the future in the sequence.\n",
        "    *   `layers.Dense(64, activation='relu')`: A fully connected dense layer with 64 units and a ReLU activation function.\n",
        "    *   `layers.Dropout(0.5)`: A dropout layer with a rate of 0.5 for regularization. This randomly sets 50% of the input units to zero during training.\n",
        "    *   `layers.Dense(1, activation='sigmoid')`: The output layer for binary classification, with a single unit and a sigmoid activation function to output a probability.\n",
        "*   `lstm_model.compile(loss='binary_crossentropy', optimizer='adam', metrics=['accuracy'])`: This line compiles the LSTM model, configuring it for training with the same binary cross-entropy loss, Adam optimizer, and accuracy metric used for the Transformer model.\n",
        "*   `lstm_model.fit(X_train, y_train, validation_split=0.2, epochs=5, batch_size=64)`: This line trains the LSTM model using the training data (`X_train`, `y_train`) with a 20% validation split, for 5 epochs, and a batch size of 64. The training process and output are similar to the Transformer model's training.\n",
        "*   `loss_lstm, acc_lstm = lstm_model.evaluate(X_test, y_test)`: This line evaluates the trained LSTM model on the test dataset (`X_test`, `y_test`) to measure its performance on unseen data. It returns the test loss and test accuracy.\n",
        "*   `print(f\"LSTM Test Accuracy: {acc_lstm:.4f}\")`: Prints the test accuracy of the LSTM model.\n",
        "*   The final print statements provide a summary comparison of the test accuracies obtained by the Transformer and LSTM models and explicitly state which model performed better based on this metric. This helps in understanding the relative effectiveness of the two architectures on this specific task."
      ]
    }
  ]
}