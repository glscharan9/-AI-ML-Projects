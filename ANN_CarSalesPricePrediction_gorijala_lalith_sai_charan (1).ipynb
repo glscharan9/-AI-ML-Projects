{
  "cells": [
    {
      "cell_type": "markdown",
      "id": "ba4b75dd",
      "metadata": {
        "id": "ba4b75dd"
      },
      "source": [
        "# Skill Share Assignment: Predicting Car Sales PricesUsing ANN"
      ]
    },
    {
      "cell_type": "markdown",
      "id": "828f7c66",
      "metadata": {
        "id": "828f7c66"
      },
      "source": [
        "# Title: ANN Car Sales Price Prediction\n",
        "Objective:\n",
        "Build and train an Artificial Neural Network (ANN) to predict car sales prices based on features such as Year, Mileage, Engine Size, etc.\n",
        "Overview:\n",
        "In this notebook, we will:\n",
        "- Load and Explore the Dataset: Use Pandas to load the data, inspect its structure, and check for missing values.\n",
        "- Preprocess the Data: Encode categorical variables, scale numerical features with StandardScaler, and split the data into training and testing sets.\n",
        "- Build the ANN: Construct an ANN using Keras/TensorFlow with two hidden layers (64 and 32 neurons) and a single output neuron (linear activation).\n",
        "- Compile the Model: Use the Adam optimizer and Mean Squared Error (MSE) as the loss function; track Mean Absolute Error (MAE) as a metric.\n",
        "- Train the Model: Train for 100 epochs with a validation split using EarlyStopping to avoid overfitting.\n",
        "- Evaluate the Model: Evaluate it on the test set (using MAE, MSE, and R²) and visualize predicted vs. actual prices.\n",
        "- Make Predictions: Demonstrate how to process and predict a single new car example.\n",
        "A bonus section shows how to experiment\n"
      ]
    },
    {
      "cell_type": "markdown",
      "id": "0a48d952",
      "metadata": {
        "id": "0a48d952"
      },
      "source": [
        "# Load and Explore the Dataset\n",
        "In this step, we load the dataset (assumed to be named Car_sales.csv) using Pandas. We then display the column names, shape, and data types. We also check for missing values and provide brief descriptions of each feature.\n"
      ]
    },
    {
      "cell_type": "code",
      "execution_count": 158,
      "id": "5f45767e",
      "metadata": {
        "colab": {
          "base_uri": "https://localhost:8080/"
        },
        "id": "5f45767e",
        "outputId": "b30ee216-9e80-475b-84b3-7c425c873055"
      },
      "outputs": [
        {
          "output_type": "stream",
          "name": "stdout",
          "text": [
            "Dataset Shape: (500, 9)\n",
            "Dataset Information:\n",
            "<class 'pandas.core.frame.DataFrame'>\n",
            "RangeIndex: 500 entries, 0 to 499\n",
            "Data columns (total 9 columns):\n",
            " #   Column               Non-Null Count  Dtype  \n",
            "---  ------               --------------  -----  \n",
            " 0   customer name        500 non-null    object \n",
            " 1   customer e-mail      500 non-null    object \n",
            " 2   country              500 non-null    object \n",
            " 3   gender               500 non-null    int64  \n",
            " 4   age                  500 non-null    float64\n",
            " 5   annual Salary        500 non-null    float64\n",
            " 6   credit card debt     500 non-null    float64\n",
            " 7   net worth            500 non-null    float64\n",
            " 8   car purchase amount  500 non-null    float64\n",
            "dtypes: float64(5), int64(1), object(3)\n",
            "memory usage: 35.3+ KB\n",
            "\n",
            "Summary Statistics:\n",
            "           gender         age  annual Salary  credit card debt  \\\n",
            "count  500.000000  500.000000     500.000000        500.000000   \n",
            "mean     0.506000   46.241674   62127.239608       9607.645049   \n",
            "std      0.500465    7.978862   11703.378228       3489.187973   \n",
            "min      0.000000   20.000000   20000.000000        100.000000   \n",
            "25%      0.000000   40.949969   54391.977195       7397.515792   \n",
            "50%      1.000000   46.049901   62915.497035       9655.035568   \n",
            "75%      1.000000   51.612263   70117.862005      11798.867487   \n",
            "max      1.000000   70.000000  100000.000000      20000.000000   \n",
            "\n",
            "            net worth  car purchase amount  \n",
            "count      500.000000           500.000000  \n",
            "mean    431475.713625         44209.799218  \n",
            "std     173536.756340         10773.178744  \n",
            "min      20000.000000          9000.000000  \n",
            "25%     299824.195900         37629.896040  \n",
            "50%     426750.120650         43997.783390  \n",
            "75%     557324.478725         51254.709517  \n",
            "max    1000000.000000         80000.000000  \n",
            "\n",
            "First 5 Rows:\n",
            "     customer name                                    customer e-mail  \\\n",
            "0    Martina Avila  cubilia.Curae.Phasellus@quisaccumsanconvallis.edu   \n",
            "1    Harlan Barnes                                eu.dolor@diam.co.uk   \n",
            "2  Naomi Rodriquez  vulputate.mauris.sagittis@ametconsectetueradip...   \n",
            "3  Jade Cunningham                            malesuada@dignissim.com   \n",
            "4     Cedric Leach     felis.ullamcorper.viverra@egetmollislectus.net   \n",
            "\n",
            "        country  gender        age  annual Salary  credit card debt  \\\n",
            "0      Bulgaria       0  41.851720    62812.09301      11609.380910   \n",
            "1        Belize       0  40.870623    66646.89292       9572.957136   \n",
            "2       Algeria       1  43.152897    53798.55112      11160.355060   \n",
            "3  Cook Islands       1  58.271369    79370.03798      14426.164850   \n",
            "4        Brazil       1  57.313749    59729.15130       5358.712177   \n",
            "\n",
            "     net worth  car purchase amount  \n",
            "0  238961.2505          35321.45877  \n",
            "1  530973.9078          45115.52566  \n",
            "2  638467.1773          42925.70921  \n",
            "3  548599.0524          67422.36313  \n",
            "4  560304.0671          55915.46248  \n",
            "\n",
            "Missing Values in Each Column:\n",
            "customer name          0\n",
            "customer e-mail        0\n",
            "country                0\n",
            "gender                 0\n",
            "age                    0\n",
            "annual Salary          0\n",
            "credit card debt       0\n",
            "net worth              0\n",
            "car purchase amount    0\n",
            "dtype: int64\n"
          ]
        }
      ],
      "source": [
        "# Import necessary library\n",
        "import pandas as pd\n",
        "\n",
        "# Load the dataset\n",
        "df = pd.read_csv(\"car_purchasing.csv\", encoding='ISO-8859-1')\n",
        "\n",
        "# Display basic information: shape, columns, and data types\n",
        "print(\"Dataset Shape:\", df.shape)\n",
        "print(\"Dataset Information:\")\n",
        "df.info()\n",
        "\n",
        "# Show summary statistics for numerical features\n",
        "print(\"\\nSummary Statistics:\")\n",
        "print(df.describe())\n",
        "\n",
        "# Display the first few rows of the dataset\n",
        "print(\"\\nFirst 5 Rows:\")\n",
        "print(df.head())\n",
        "\n",
        "# Check for missing values in each column\n",
        "print(\"\\nMissing Values in Each Column:\")\n",
        "print(df.isnull().sum())"
      ]
    },
    {
      "cell_type": "markdown",
      "id": "9fa71fc6",
      "metadata": {
        "id": "9fa71fc6"
      },
      "source": [
        "\n",
        "In this cell, we first import the dataset using pd.read_csv(). We then inspect the structure using df.info(), view summary statistics with df.describe(), and check for missing values using df.isnull().sum(). Understanding the dataset is crucial for planning our preprocessing steps.latin1 (or ISO-8859-1) is a more forgiving encoding that can decode any byte sequence.\n"
      ]
    },
    {
      "cell_type": "markdown",
      "id": "bcd173cc",
      "metadata": {
        "id": "bcd173cc"
      },
      "source": [
        "# Preprocessing the Data\n",
        "Step 2: Preprocessing\n",
        "In this step, we perform the following actions:\n",
        "- Encode Categorical Variables: We encode columns such as Make, Model, and Fuel_type into numerical values. (Here, we use LabelEncoder for simplicity; in production you might prefer one-hot encoding if there’s no ordinal relationship.)\n",
        "- Scale Numerical Features: We use StandardScaler to scale numerical features (Year, Mileage, and EngineSize) so that they have a mean of 0 and a standard deviation of 1. This is important for neural network convergence.\n",
        "- Split the Dataset: Finally, we split our dataset into training and testing sets (80% train, 20% test).\n"
      ]
    },
    {
      "cell_type": "code",
      "execution_count": 159,
      "id": "93e3ec47",
      "metadata": {
        "id": "93e3ec47",
        "colab": {
          "base_uri": "https://localhost:8080/"
        },
        "outputId": "03ced1bb-3a51-4aee-b6e2-9f1eab405454"
      },
      "outputs": [
        {
          "output_type": "stream",
          "name": "stdout",
          "text": [
            "Cleaned columns: ['customer name', 'customer e-mail', 'country', 'gender', 'age', 'annual salary', 'credit card debt', 'net worth', 'car purchase amount']\n",
            "✅ Preprocessing complete. X_train shape: (400, 6)\n"
          ]
        }
      ],
      "source": [
        "import pandas as pd\n",
        "from sklearn.preprocessing import LabelEncoder, StandardScaler\n",
        "from sklearn.model_selection import train_test_split\n",
        "\n",
        "# Load the dataset\n",
        "df = pd.read_csv(\"car_purchasing.csv\", encoding='ISO-8859-1')\n",
        "\n",
        "# Step 1: Clean column names\n",
        "df.columns = df.columns.str.strip().str.lower()\n",
        "print(\"Cleaned columns:\", df.columns.tolist())\n",
        "\n",
        "# Step 2: Drop irrelevant columns (adjust if names differ)\n",
        "df = df.drop(columns=[\"customer name\", \"customer e-mail\"])\n",
        "\n",
        "# Step 3: Encode categorical variables\n",
        "le_gender = LabelEncoder()\n",
        "df['gender'] = le_gender.fit_transform(df['gender'])\n",
        "\n",
        "le_country = LabelEncoder()\n",
        "df['country'] = le_country.fit_transform(df['country'])\n",
        "\n",
        "# Step 4: Scale numerical features\n",
        "numerical = ['age', 'annual salary', 'credit card debt', 'net worth']\n",
        "scaler = StandardScaler()\n",
        "df[numerical] = scaler.fit_transform(df[numerical])\n",
        "\n",
        "# Step 5: Split dataset\n",
        "X = df.drop(columns=['car purchase amount'])\n",
        "y = df['car purchase amount']\n",
        "\n",
        "X_train, X_test, y_train, y_test = train_test_split(X, y, test_size=0.2, random_state=42)\n",
        "\n",
        "print(\"✅ Preprocessing complete. X_train shape:\", X_train.shape)\n"
      ]
    },
    {
      "cell_type": "markdown",
      "id": "cd149311",
      "metadata": {
        "id": "cd149311"
      },
      "source": [
        "Here, we encode the categorical features so that they can be processed by our ANN. We then standardize the numerical features using StandardScaler to ensure that every feature contributes equally during training. Finally, an 80/20 train-test split is performed to prepare our data for training and unbiased evaluation.\n"
      ]
    },
    {
      "cell_type": "markdown",
      "id": "f15eb211",
      "metadata": {
        "id": "f15eb211"
      },
      "source": [
        "# Step 3: Build the ANN\n",
        "We now construct our neural network using Keras (a high-level API of TensorFlow). The architecture is as follows:\n",
        "- Input Layer: Accepts the number of features from the preprocessed dataset.\n",
        "- First Hidden Layer: 64 neurons with ReLU activation.\n",
        "- Second Hidden Layer: 32 neurons with ReLU activation.\n",
        "- Output Layer: 1 neuron with linear activation since this is a regression task.\n",
        "Activation Rationale:\n",
        "- ReLU: Helps model non-linearities and is computationally efficient.\n",
        "- Linear Activation: Appropriate for continuous value predictions such as price.\n"
      ]
    },
    {
      "cell_type": "code",
      "execution_count": 160,
      "id": "5dc82d04",
      "metadata": {
        "id": "5dc82d04",
        "colab": {
          "base_uri": "https://localhost:8080/",
          "height": 281
        },
        "outputId": "16bb6441-e3a0-484a-85c2-d4f467915858"
      },
      "outputs": [
        {
          "output_type": "stream",
          "name": "stderr",
          "text": [
            "/usr/local/lib/python3.11/dist-packages/keras/src/layers/core/dense.py:87: UserWarning: Do not pass an `input_shape`/`input_dim` argument to a layer. When using Sequential models, prefer using an `Input(shape)` object as the first layer in the model instead.\n",
            "  super().__init__(activity_regularizer=activity_regularizer, **kwargs)\n"
          ]
        },
        {
          "output_type": "display_data",
          "data": {
            "text/plain": [
              "\u001b[1mModel: \"sequential_23\"\u001b[0m\n"
            ],
            "text/html": [
              "<pre style=\"white-space:pre;overflow-x:auto;line-height:normal;font-family:Menlo,'DejaVu Sans Mono',consolas,'Courier New',monospace\"><span style=\"font-weight: bold\">Model: \"sequential_23\"</span>\n",
              "</pre>\n"
            ]
          },
          "metadata": {}
        },
        {
          "output_type": "display_data",
          "data": {
            "text/plain": [
              "┏━━━━━━━━━━━━━━━━━━━━━━━━━━━━━━━━━┳━━━━━━━━━━━━━━━━━━━━━━━━┳━━━━━━━━━━━━━━━┓\n",
              "┃\u001b[1m \u001b[0m\u001b[1mLayer (type)                   \u001b[0m\u001b[1m \u001b[0m┃\u001b[1m \u001b[0m\u001b[1mOutput Shape          \u001b[0m\u001b[1m \u001b[0m┃\u001b[1m \u001b[0m\u001b[1m      Param #\u001b[0m\u001b[1m \u001b[0m┃\n",
              "┡━━━━━━━━━━━━━━━━━━━━━━━━━━━━━━━━━╇━━━━━━━━━━━━━━━━━━━━━━━━╇━━━━━━━━━━━━━━━┩\n",
              "│ dense_67 (\u001b[38;5;33mDense\u001b[0m)                │ (\u001b[38;5;45mNone\u001b[0m, \u001b[38;5;34m64\u001b[0m)             │           \u001b[38;5;34m448\u001b[0m │\n",
              "├─────────────────────────────────┼────────────────────────┼───────────────┤\n",
              "│ dense_68 (\u001b[38;5;33mDense\u001b[0m)                │ (\u001b[38;5;45mNone\u001b[0m, \u001b[38;5;34m32\u001b[0m)             │         \u001b[38;5;34m2,080\u001b[0m │\n",
              "├─────────────────────────────────┼────────────────────────┼───────────────┤\n",
              "│ dense_69 (\u001b[38;5;33mDense\u001b[0m)                │ (\u001b[38;5;45mNone\u001b[0m, \u001b[38;5;34m1\u001b[0m)              │            \u001b[38;5;34m33\u001b[0m │\n",
              "└─────────────────────────────────┴────────────────────────┴───────────────┘\n"
            ],
            "text/html": [
              "<pre style=\"white-space:pre;overflow-x:auto;line-height:normal;font-family:Menlo,'DejaVu Sans Mono',consolas,'Courier New',monospace\">┏━━━━━━━━━━━━━━━━━━━━━━━━━━━━━━━━━┳━━━━━━━━━━━━━━━━━━━━━━━━┳━━━━━━━━━━━━━━━┓\n",
              "┃<span style=\"font-weight: bold\"> Layer (type)                    </span>┃<span style=\"font-weight: bold\"> Output Shape           </span>┃<span style=\"font-weight: bold\">       Param # </span>┃\n",
              "┡━━━━━━━━━━━━━━━━━━━━━━━━━━━━━━━━━╇━━━━━━━━━━━━━━━━━━━━━━━━╇━━━━━━━━━━━━━━━┩\n",
              "│ dense_67 (<span style=\"color: #0087ff; text-decoration-color: #0087ff\">Dense</span>)                │ (<span style=\"color: #00d7ff; text-decoration-color: #00d7ff\">None</span>, <span style=\"color: #00af00; text-decoration-color: #00af00\">64</span>)             │           <span style=\"color: #00af00; text-decoration-color: #00af00\">448</span> │\n",
              "├─────────────────────────────────┼────────────────────────┼───────────────┤\n",
              "│ dense_68 (<span style=\"color: #0087ff; text-decoration-color: #0087ff\">Dense</span>)                │ (<span style=\"color: #00d7ff; text-decoration-color: #00d7ff\">None</span>, <span style=\"color: #00af00; text-decoration-color: #00af00\">32</span>)             │         <span style=\"color: #00af00; text-decoration-color: #00af00\">2,080</span> │\n",
              "├─────────────────────────────────┼────────────────────────┼───────────────┤\n",
              "│ dense_69 (<span style=\"color: #0087ff; text-decoration-color: #0087ff\">Dense</span>)                │ (<span style=\"color: #00d7ff; text-decoration-color: #00d7ff\">None</span>, <span style=\"color: #00af00; text-decoration-color: #00af00\">1</span>)              │            <span style=\"color: #00af00; text-decoration-color: #00af00\">33</span> │\n",
              "└─────────────────────────────────┴────────────────────────┴───────────────┘\n",
              "</pre>\n"
            ]
          },
          "metadata": {}
        },
        {
          "output_type": "display_data",
          "data": {
            "text/plain": [
              "\u001b[1m Total params: \u001b[0m\u001b[38;5;34m2,561\u001b[0m (10.00 KB)\n"
            ],
            "text/html": [
              "<pre style=\"white-space:pre;overflow-x:auto;line-height:normal;font-family:Menlo,'DejaVu Sans Mono',consolas,'Courier New',monospace\"><span style=\"font-weight: bold\"> Total params: </span><span style=\"color: #00af00; text-decoration-color: #00af00\">2,561</span> (10.00 KB)\n",
              "</pre>\n"
            ]
          },
          "metadata": {}
        },
        {
          "output_type": "display_data",
          "data": {
            "text/plain": [
              "\u001b[1m Trainable params: \u001b[0m\u001b[38;5;34m2,561\u001b[0m (10.00 KB)\n"
            ],
            "text/html": [
              "<pre style=\"white-space:pre;overflow-x:auto;line-height:normal;font-family:Menlo,'DejaVu Sans Mono',consolas,'Courier New',monospace\"><span style=\"font-weight: bold\"> Trainable params: </span><span style=\"color: #00af00; text-decoration-color: #00af00\">2,561</span> (10.00 KB)\n",
              "</pre>\n"
            ]
          },
          "metadata": {}
        },
        {
          "output_type": "display_data",
          "data": {
            "text/plain": [
              "\u001b[1m Non-trainable params: \u001b[0m\u001b[38;5;34m0\u001b[0m (0.00 B)\n"
            ],
            "text/html": [
              "<pre style=\"white-space:pre;overflow-x:auto;line-height:normal;font-family:Menlo,'DejaVu Sans Mono',consolas,'Courier New',monospace\"><span style=\"font-weight: bold\"> Non-trainable params: </span><span style=\"color: #00af00; text-decoration-color: #00af00\">0</span> (0.00 B)\n",
              "</pre>\n"
            ]
          },
          "metadata": {}
        }
      ],
      "source": [
        "import tensorflow as tf\n",
        "from tensorflow.keras.models import Sequential\n",
        "from tensorflow.keras.layers import Dense\n",
        "\n",
        "# Define the ANN model architecture\n",
        "model = Sequential([\n",
        "    Dense(64, activation='relu', input_shape=(X_train.shape[1],)),  # Input layer + first hidden layer with 64 neurons\n",
        "    Dense(32, activation='relu'),                                     # Second hidden layer with 32 neurons\n",
        "    Dense(1, activation='linear')                                     # Output layer for regression prediction\n",
        "])\n",
        "\n",
        "# Display the model summary\n",
        "model.summary()"
      ]
    },
    {
      "cell_type": "markdown",
      "id": "58f42566",
      "metadata": {
        "id": "58f42566"
      },
      "source": [
        "In this cell we define our ANN. The input shape is determined by the number of features in the training data. Two hidden layers use ReLU activation which is ideal for mitigating issues like the vanishing gradient problem. The output layer uses a linear activation because we want to predict a continuous value (car price)."
      ]
    },
    {
      "cell_type": "markdown",
      "id": "ea8b5b01",
      "metadata": {
        "id": "ea8b5b01"
      },
      "source": [
        "# Step 4: Compile the Model\n",
        "We compile the model using:\n",
        "- Optimizer: Adam (an adaptive optimizer that adjusts the learning rate throughout training).\n",
        "- Loss Function: Mean Squared Error (MSE) which penalizes larger errors more strongly and is suitable for regression.\n",
        "- Metrics: Mean Absolute Error (MAE) is tracked for interpretability.\n"
      ]
    },
    {
      "cell_type": "code",
      "execution_count": 161,
      "id": "ed971a81",
      "metadata": {
        "id": "ed971a81"
      },
      "outputs": [],
      "source": [
        "# Compile model\n",
        "model.compile(optimizer='adam', loss='mse', metrics=['mae'])\n"
      ]
    },
    {
      "cell_type": "markdown",
      "id": "f80da573",
      "metadata": {
        "id": "f80da573"
      },
      "source": [
        "Adam is chosen for its versatility and adaptive learning rate abilities, which often yield faster convergence. MSE is the customary loss for regression problems, and MAE is added as an additional performance metric for clear error interpretation."
      ]
    },
    {
      "cell_type": "markdown",
      "id": "e205bb68",
      "metadata": {
        "id": "e205bb68"
      },
      "source": [
        "# Step 5: Train the Model\n",
        "We now train our model for up to 100 epochs with a 20% validation split. We use EarlyStopping to monitor the validation loss and halt training if it does not improve for 10 consecutive epochs. This helps prevent overfitting.\n"
      ]
    },
    {
      "cell_type": "code",
      "execution_count": 162,
      "id": "3e0d368e",
      "metadata": {
        "id": "3e0d368e",
        "colab": {
          "base_uri": "https://localhost:8080/"
        },
        "outputId": "36a51ce1-bcf5-491a-8f66-d25c1d584cfa"
      },
      "outputs": [
        {
          "output_type": "stream",
          "name": "stdout",
          "text": [
            "Epoch 1/100\n",
            "\u001b[1m10/10\u001b[0m \u001b[32m━━━━━━━━━━━━━━━━━━━━\u001b[0m\u001b[37m\u001b[0m \u001b[1m1s\u001b[0m 29ms/step - loss: 2089663744.0000 - mae: 44298.3516 - val_loss: 1937129088.0000 - val_mae: 42907.5078\n",
            "Epoch 2/100\n",
            "\u001b[1m10/10\u001b[0m \u001b[32m━━━━━━━━━━━━━━━━━━━━\u001b[0m\u001b[37m\u001b[0m \u001b[1m0s\u001b[0m 11ms/step - loss: 1969083776.0000 - mae: 43109.1055 - val_loss: 1934810880.0000 - val_mae: 42880.7500\n",
            "Epoch 3/100\n",
            "\u001b[1m10/10\u001b[0m \u001b[32m━━━━━━━━━━━━━━━━━━━━\u001b[0m\u001b[37m\u001b[0m \u001b[1m0s\u001b[0m 8ms/step - loss: 2024007296.0000 - mae: 43741.0234 - val_loss: 1932313344.0000 - val_mae: 42851.8945\n",
            "Epoch 4/100\n",
            "\u001b[1m10/10\u001b[0m \u001b[32m━━━━━━━━━━━━━━━━━━━━\u001b[0m\u001b[37m\u001b[0m \u001b[1m0s\u001b[0m 9ms/step - loss: 2119067392.0000 - mae: 44665.6953 - val_loss: 1929393792.0000 - val_mae: 42818.1250\n",
            "Epoch 5/100\n",
            "\u001b[1m10/10\u001b[0m \u001b[32m━━━━━━━━━━━━━━━━━━━━\u001b[0m\u001b[37m\u001b[0m \u001b[1m0s\u001b[0m 9ms/step - loss: 2062561664.0000 - mae: 44157.7383 - val_loss: 1925550720.0000 - val_mae: 42773.6484\n",
            "Epoch 6/100\n",
            "\u001b[1m10/10\u001b[0m \u001b[32m━━━━━━━━━━━━━━━━━━━━\u001b[0m\u001b[37m\u001b[0m \u001b[1m0s\u001b[0m 9ms/step - loss: 1990296192.0000 - mae: 43238.4922 - val_loss: 1920782976.0000 - val_mae: 42718.3828\n",
            "Epoch 7/100\n",
            "\u001b[1m10/10\u001b[0m \u001b[32m━━━━━━━━━━━━━━━━━━━━\u001b[0m\u001b[37m\u001b[0m \u001b[1m0s\u001b[0m 9ms/step - loss: 2043656064.0000 - mae: 43943.1367 - val_loss: 1914912768.0000 - val_mae: 42650.2070\n",
            "Epoch 8/100\n",
            "\u001b[1m10/10\u001b[0m \u001b[32m━━━━━━━━━━━━━━━━━━━━\u001b[0m\u001b[37m\u001b[0m \u001b[1m0s\u001b[0m 9ms/step - loss: 2043797760.0000 - mae: 43667.0039 - val_loss: 1907583744.0000 - val_mae: 42564.8789\n",
            "Epoch 9/100\n",
            "\u001b[1m10/10\u001b[0m \u001b[32m━━━━━━━━━━━━━━━━━━━━\u001b[0m\u001b[37m\u001b[0m \u001b[1m0s\u001b[0m 8ms/step - loss: 2044861440.0000 - mae: 43830.0977 - val_loss: 1898567936.0000 - val_mae: 42459.6172\n",
            "Epoch 10/100\n",
            "\u001b[1m10/10\u001b[0m \u001b[32m━━━━━━━━━━━━━━━━━━━━\u001b[0m\u001b[37m\u001b[0m \u001b[1m0s\u001b[0m 9ms/step - loss: 2010344960.0000 - mae: 43231.7852 - val_loss: 1887636480.0000 - val_mae: 42331.5117\n",
            "Epoch 11/100\n",
            "\u001b[1m10/10\u001b[0m \u001b[32m━━━━━━━━━━━━━━━━━━━━\u001b[0m\u001b[37m\u001b[0m \u001b[1m0s\u001b[0m 9ms/step - loss: 2020409216.0000 - mae: 43587.5391 - val_loss: 1874580096.0000 - val_mae: 42177.8125\n",
            "Epoch 12/100\n",
            "\u001b[1m10/10\u001b[0m \u001b[32m━━━━━━━━━━━━━━━━━━━━\u001b[0m\u001b[37m\u001b[0m \u001b[1m0s\u001b[0m 9ms/step - loss: 2053971072.0000 - mae: 43871.6953 - val_loss: 1858850048.0000 - val_mae: 41991.6172\n",
            "Epoch 13/100\n",
            "\u001b[1m10/10\u001b[0m \u001b[32m━━━━━━━━━━━━━━━━━━━━\u001b[0m\u001b[37m\u001b[0m \u001b[1m0s\u001b[0m 9ms/step - loss: 1992249984.0000 - mae: 43248.8398 - val_loss: 1840560128.0000 - val_mae: 41773.7109\n",
            "Epoch 14/100\n",
            "\u001b[1m10/10\u001b[0m \u001b[32m━━━━━━━━━━━━━━━━━━━━\u001b[0m\u001b[37m\u001b[0m \u001b[1m0s\u001b[0m 8ms/step - loss: 2063139840.0000 - mae: 43871.1055 - val_loss: 1819235072.0000 - val_mae: 41517.6875\n",
            "Epoch 15/100\n",
            "\u001b[1m10/10\u001b[0m \u001b[32m━━━━━━━━━━━━━━━━━━━━\u001b[0m\u001b[37m\u001b[0m \u001b[1m0s\u001b[0m 9ms/step - loss: 1992750976.0000 - mae: 43273.5508 - val_loss: 1794762368.0000 - val_mae: 41221.1562\n",
            "Epoch 16/100\n",
            "\u001b[1m10/10\u001b[0m \u001b[32m━━━━━━━━━━━━━━━━━━━━\u001b[0m\u001b[37m\u001b[0m \u001b[1m0s\u001b[0m 9ms/step - loss: 1858126848.0000 - mae: 41640.7969 - val_loss: 1766944128.0000 - val_mae: 40880.4805\n",
            "Epoch 17/100\n",
            "\u001b[1m10/10\u001b[0m \u001b[32m━━━━━━━━━━━━━━━━━━━━\u001b[0m\u001b[37m\u001b[0m \u001b[1m0s\u001b[0m 13ms/step - loss: 1880509696.0000 - mae: 42034.7500 - val_loss: 1735264256.0000 - val_mae: 40487.6836\n",
            "Epoch 18/100\n",
            "\u001b[1m10/10\u001b[0m \u001b[32m━━━━━━━━━━━━━━━━━━━━\u001b[0m\u001b[37m\u001b[0m \u001b[1m0s\u001b[0m 8ms/step - loss: 1936342016.0000 - mae: 42696.9805 - val_loss: 1698711808.0000 - val_mae: 40027.8672\n",
            "Epoch 19/100\n",
            "\u001b[1m10/10\u001b[0m \u001b[32m━━━━━━━━━━━━━━━━━━━━\u001b[0m\u001b[37m\u001b[0m \u001b[1m0s\u001b[0m 8ms/step - loss: 1866140544.0000 - mae: 41891.7734 - val_loss: 1658638848.0000 - val_mae: 39515.0781\n",
            "Epoch 20/100\n",
            "\u001b[1m10/10\u001b[0m \u001b[32m━━━━━━━━━━━━━━━━━━━━\u001b[0m\u001b[37m\u001b[0m \u001b[1m0s\u001b[0m 14ms/step - loss: 1810153472.0000 - mae: 41005.5078 - val_loss: 1614528768.0000 - val_mae: 38939.6953\n",
            "Epoch 21/100\n",
            "\u001b[1m10/10\u001b[0m \u001b[32m━━━━━━━━━━━━━━━━━━━━\u001b[0m\u001b[37m\u001b[0m \u001b[1m0s\u001b[0m 8ms/step - loss: 1700508800.0000 - mae: 39934.6289 - val_loss: 1565793152.0000 - val_mae: 38289.6875\n",
            "Epoch 22/100\n",
            "\u001b[1m10/10\u001b[0m \u001b[32m━━━━━━━━━━━━━━━━━━━━\u001b[0m\u001b[37m\u001b[0m \u001b[1m0s\u001b[0m 8ms/step - loss: 1695669248.0000 - mae: 39395.8828 - val_loss: 1514167552.0000 - val_mae: 37583.6641\n",
            "Epoch 23/100\n",
            "\u001b[1m10/10\u001b[0m \u001b[32m━━━━━━━━━━━━━━━━━━━━\u001b[0m\u001b[37m\u001b[0m \u001b[1m0s\u001b[0m 10ms/step - loss: 1691378816.0000 - mae: 39263.6602 - val_loss: 1458383104.0000 - val_mae: 36798.8906\n",
            "Epoch 24/100\n",
            "\u001b[1m10/10\u001b[0m \u001b[32m━━━━━━━━━━━━━━━━━━━━\u001b[0m\u001b[37m\u001b[0m \u001b[1m0s\u001b[0m 11ms/step - loss: 1540621824.0000 - mae: 37481.1055 - val_loss: 1398871296.0000 - val_mae: 35934.1797\n",
            "Epoch 25/100\n",
            "\u001b[1m10/10\u001b[0m \u001b[32m━━━━━━━━━━━━━━━━━━━━\u001b[0m\u001b[37m\u001b[0m \u001b[1m0s\u001b[0m 8ms/step - loss: 1449162624.0000 - mae: 36426.5781 - val_loss: 1337017600.0000 - val_mae: 35002.0234\n",
            "Epoch 26/100\n",
            "\u001b[1m10/10\u001b[0m \u001b[32m━━━━━━━━━━━━━━━━━━━━\u001b[0m\u001b[37m\u001b[0m \u001b[1m0s\u001b[0m 8ms/step - loss: 1426440448.0000 - mae: 35697.4883 - val_loss: 1273505152.0000 - val_mae: 34005.2266\n",
            "Epoch 27/100\n",
            "\u001b[1m10/10\u001b[0m \u001b[32m━━━━━━━━━━━━━━━━━━━━\u001b[0m\u001b[37m\u001b[0m \u001b[1m0s\u001b[0m 7ms/step - loss: 1464028032.0000 - mae: 36237.2500 - val_loss: 1208689408.0000 - val_mae: 32940.7422\n",
            "Epoch 28/100\n",
            "\u001b[1m10/10\u001b[0m \u001b[32m━━━━━━━━━━━━━━━━━━━━\u001b[0m\u001b[37m\u001b[0m \u001b[1m0s\u001b[0m 8ms/step - loss: 1350337024.0000 - mae: 34955.6602 - val_loss: 1143271168.0000 - val_mae: 31810.3652\n",
            "Epoch 29/100\n",
            "\u001b[1m10/10\u001b[0m \u001b[32m━━━━━━━━━━━━━━━━━━━━\u001b[0m\u001b[37m\u001b[0m \u001b[1m0s\u001b[0m 8ms/step - loss: 1248728704.0000 - mae: 33112.7227 - val_loss: 1078449280.0000 - val_mae: 30625.2695\n",
            "Epoch 30/100\n",
            "\u001b[1m10/10\u001b[0m \u001b[32m━━━━━━━━━━━━━━━━━━━━\u001b[0m\u001b[37m\u001b[0m \u001b[1m0s\u001b[0m 9ms/step - loss: 1135220992.0000 - mae: 31750.1523 - val_loss: 1014281408.0000 - val_mae: 29375.7871\n",
            "Epoch 31/100\n",
            "\u001b[1m10/10\u001b[0m \u001b[32m━━━━━━━━━━━━━━━━━━━━\u001b[0m\u001b[37m\u001b[0m \u001b[1m0s\u001b[0m 8ms/step - loss: 1084222336.0000 - mae: 30333.9082 - val_loss: 953471104.0000 - val_mae: 28106.4570\n",
            "Epoch 32/100\n",
            "\u001b[1m10/10\u001b[0m \u001b[32m━━━━━━━━━━━━━━━━━━━━\u001b[0m\u001b[37m\u001b[0m \u001b[1m0s\u001b[0m 8ms/step - loss: 1031387648.0000 - mae: 29521.5840 - val_loss: 895130112.0000 - val_mae: 26836.1406\n",
            "Epoch 33/100\n",
            "\u001b[1m10/10\u001b[0m \u001b[32m━━━━━━━━━━━━━━━━━━━━\u001b[0m\u001b[37m\u001b[0m \u001b[1m0s\u001b[0m 9ms/step - loss: 933900608.0000 - mae: 27728.3809 - val_loss: 840092160.0000 - val_mae: 25610.4922\n",
            "Epoch 34/100\n",
            "\u001b[1m10/10\u001b[0m \u001b[32m━━━━━━━━━━━━━━━━━━━━\u001b[0m\u001b[37m\u001b[0m \u001b[1m0s\u001b[0m 8ms/step - loss: 901759104.0000 - mae: 26776.4043 - val_loss: 789529216.0000 - val_mae: 24371.0410\n",
            "Epoch 35/100\n",
            "\u001b[1m10/10\u001b[0m \u001b[32m━━━━━━━━━━━━━━━━━━━━\u001b[0m\u001b[37m\u001b[0m \u001b[1m0s\u001b[0m 8ms/step - loss: 876041984.0000 - mae: 26058.8555 - val_loss: 744059520.0000 - val_mae: 23216.4023\n",
            "Epoch 36/100\n",
            "\u001b[1m10/10\u001b[0m \u001b[32m━━━━━━━━━━━━━━━━━━━━\u001b[0m\u001b[37m\u001b[0m \u001b[1m0s\u001b[0m 11ms/step - loss: 836222592.0000 - mae: 25133.0332 - val_loss: 704452416.0000 - val_mae: 22230.5508\n",
            "Epoch 37/100\n",
            "\u001b[1m10/10\u001b[0m \u001b[32m━━━━━━━━━━━━━━━━━━━━\u001b[0m\u001b[37m\u001b[0m \u001b[1m0s\u001b[0m 9ms/step - loss: 736505536.0000 - mae: 23132.5840 - val_loss: 670577088.0000 - val_mae: 21336.2461\n",
            "Epoch 38/100\n",
            "\u001b[1m10/10\u001b[0m \u001b[32m━━━━━━━━━━━━━━━━━━━━\u001b[0m\u001b[37m\u001b[0m \u001b[1m0s\u001b[0m 9ms/step - loss: 688933056.0000 - mae: 21825.3203 - val_loss: 641665152.0000 - val_mae: 20652.3242\n",
            "Epoch 39/100\n",
            "\u001b[1m10/10\u001b[0m \u001b[32m━━━━━━━━━━━━━━━━━━━━\u001b[0m\u001b[37m\u001b[0m \u001b[1m0s\u001b[0m 9ms/step - loss: 678748928.0000 - mae: 21840.6328 - val_loss: 618237568.0000 - val_mae: 20180.5566\n",
            "Epoch 40/100\n",
            "\u001b[1m10/10\u001b[0m \u001b[32m━━━━━━━━━━━━━━━━━━━━\u001b[0m\u001b[37m\u001b[0m \u001b[1m0s\u001b[0m 9ms/step - loss: 650713472.0000 - mae: 21126.8477 - val_loss: 600177024.0000 - val_mae: 19892.0723\n",
            "Epoch 41/100\n",
            "\u001b[1m10/10\u001b[0m \u001b[32m━━━━━━━━━━━━━━━━━━━━\u001b[0m\u001b[37m\u001b[0m \u001b[1m0s\u001b[0m 8ms/step - loss: 661056128.0000 - mae: 21091.5820 - val_loss: 586822528.0000 - val_mae: 19675.7266\n",
            "Epoch 42/100\n",
            "\u001b[1m10/10\u001b[0m \u001b[32m━━━━━━━━━━━━━━━━━━━━\u001b[0m\u001b[37m\u001b[0m \u001b[1m0s\u001b[0m 15ms/step - loss: 633010816.0000 - mae: 20791.5293 - val_loss: 576998144.0000 - val_mae: 19470.2227\n",
            "Epoch 43/100\n",
            "\u001b[1m10/10\u001b[0m \u001b[32m━━━━━━━━━━━━━━━━━━━━\u001b[0m\u001b[37m\u001b[0m \u001b[1m0s\u001b[0m 9ms/step - loss: 608165504.0000 - mae: 20178.6289 - val_loss: 570496448.0000 - val_mae: 19300.8125\n",
            "Epoch 44/100\n",
            "\u001b[1m10/10\u001b[0m \u001b[32m━━━━━━━━━━━━━━━━━━━━\u001b[0m\u001b[37m\u001b[0m \u001b[1m0s\u001b[0m 10ms/step - loss: 617424128.0000 - mae: 20394.6738 - val_loss: 566473856.0000 - val_mae: 19194.4570\n",
            "Epoch 45/100\n",
            "\u001b[1m10/10\u001b[0m \u001b[32m━━━━━━━━━━━━━━━━━━━━\u001b[0m\u001b[37m\u001b[0m \u001b[1m0s\u001b[0m 9ms/step - loss: 619915648.0000 - mae: 20585.3125 - val_loss: 564472192.0000 - val_mae: 19167.7383\n",
            "Epoch 46/100\n",
            "\u001b[1m10/10\u001b[0m \u001b[32m━━━━━━━━━━━━━━━━━━━━\u001b[0m\u001b[37m\u001b[0m \u001b[1m0s\u001b[0m 7ms/step - loss: 621353472.0000 - mae: 20710.3320 - val_loss: 563962752.0000 - val_mae: 19192.9688\n",
            "Epoch 47/100\n",
            "\u001b[1m10/10\u001b[0m \u001b[32m━━━━━━━━━━━━━━━━━━━━\u001b[0m\u001b[37m\u001b[0m \u001b[1m0s\u001b[0m 8ms/step - loss: 589060800.0000 - mae: 20183.1152 - val_loss: 564208768.0000 - val_mae: 19239.7051\n",
            "Epoch 48/100\n",
            "\u001b[1m10/10\u001b[0m \u001b[32m━━━━━━━━━━━━━━━━━━━━\u001b[0m\u001b[37m\u001b[0m \u001b[1m0s\u001b[0m 9ms/step - loss: 550509824.0000 - mae: 19153.9219 - val_loss: 564889344.0000 - val_mae: 19307.1680\n",
            "Epoch 49/100\n",
            "\u001b[1m10/10\u001b[0m \u001b[32m━━━━━━━━━━━━━━━━━━━━\u001b[0m\u001b[37m\u001b[0m \u001b[1m0s\u001b[0m 8ms/step - loss: 568648512.0000 - mae: 19645.2539 - val_loss: 565826560.0000 - val_mae: 19379.3438\n",
            "Epoch 50/100\n",
            "\u001b[1m10/10\u001b[0m \u001b[32m━━━━━━━━━━━━━━━━━━━━\u001b[0m\u001b[37m\u001b[0m \u001b[1m0s\u001b[0m 7ms/step - loss: 580420480.0000 - mae: 20238.3652 - val_loss: 566732672.0000 - val_mae: 19443.1406\n",
            "Epoch 51/100\n",
            "\u001b[1m10/10\u001b[0m \u001b[32m━━━━━━━━━━━━━━━━━━━━\u001b[0m\u001b[37m\u001b[0m \u001b[1m0s\u001b[0m 14ms/step - loss: 573632320.0000 - mae: 20006.5918 - val_loss: 567648384.0000 - val_mae: 19504.0156\n",
            "Epoch 52/100\n",
            "\u001b[1m10/10\u001b[0m \u001b[32m━━━━━━━━━━━━━━━━━━━━\u001b[0m\u001b[37m\u001b[0m \u001b[1m0s\u001b[0m 9ms/step - loss: 529921760.0000 - mae: 18790.8750 - val_loss: 568343424.0000 - val_mae: 19549.7441\n",
            "Epoch 53/100\n",
            "\u001b[1m10/10\u001b[0m \u001b[32m━━━━━━━━━━━━━━━━━━━━\u001b[0m\u001b[37m\u001b[0m \u001b[1m0s\u001b[0m 8ms/step - loss: 585734848.0000 - mae: 20096.9492 - val_loss: 568740800.0000 - val_mae: 19580.1367\n",
            "Epoch 54/100\n",
            "\u001b[1m10/10\u001b[0m \u001b[32m━━━━━━━━━━━━━━━━━━━━\u001b[0m\u001b[37m\u001b[0m \u001b[1m0s\u001b[0m 7ms/step - loss: 578153536.0000 - mae: 19902.4902 - val_loss: 569503296.0000 - val_mae: 19625.8164\n",
            "Epoch 55/100\n",
            "\u001b[1m10/10\u001b[0m \u001b[32m━━━━━━━━━━━━━━━━━━━━\u001b[0m\u001b[37m\u001b[0m \u001b[1m0s\u001b[0m 8ms/step - loss: 546553600.0000 - mae: 19469.2930 - val_loss: 569774528.0000 - val_mae: 19646.5469\n",
            "Epoch 56/100\n",
            "\u001b[1m10/10\u001b[0m \u001b[32m━━━━━━━━━━━━━━━━━━━━\u001b[0m\u001b[37m\u001b[0m \u001b[1m0s\u001b[0m 9ms/step - loss: 571232960.0000 - mae: 20144.1133 - val_loss: 569949888.0000 - val_mae: 19662.4219\n"
          ]
        }
      ],
      "source": [
        "\n",
        "from tensorflow.keras.callbacks import EarlyStopping\n",
        "\n",
        "# Train model\n",
        "early_stop = EarlyStopping(monitor='val_loss', patience=10, restore_best_weights=True)\n",
        "history = model.fit(X_train, y_train, validation_split=0.2, epochs=100, callbacks=[early_stop])\n"
      ]
    },
    {
      "cell_type": "markdown",
      "id": "53bed8c5",
      "metadata": {
        "id": "53bed8c5"
      },
      "source": [
        "This cell trains the model using an 80/20 split for training and validation. The EarlyStopping callback stops training early if the validation loss does not decrease for 10 epochs, thus saving time and reducing overfitting.\n",
        "Additionally, you can visualize training progress by plotting the training and validation loss:\n"
      ]
    },
    {
      "cell_type": "code",
      "execution_count": 163,
      "id": "7bf3f275",
      "metadata": {
        "id": "7bf3f275",
        "colab": {
          "base_uri": "https://localhost:8080/",
          "height": 564
        },
        "outputId": "47726c6a-6ff7-4b5c-9c63-de7140dbc3ba"
      },
      "outputs": [
        {
          "output_type": "display_data",
          "data": {
            "text/plain": [
              "<Figure size 800x600 with 1 Axes>"
            ],
            "image/png": "[encoded data removed]"
          },
          "metadata": {}
        }
      ],
      "source": [
        "import matplotlib.pyplot as plt\n",
        "\n",
        "# Plot training and validation loss over epochs\n",
        "plt.figure(figsize=(8,6))\n",
        "plt.plot(history.history['loss'], label='Training Loss')\n",
        "plt.plot(history.history['val_loss'], label='Validation Loss')\n",
        "plt.xlabel('Epochs')\n",
        "plt.ylabel('Loss (MSE)')\n",
        "plt.title('Training and Validation Loss per Epoch')\n",
        "plt.legend()\n",
        "plt.show()"
      ]
    },
    {
      "cell_type": "markdown",
      "source": [
        "# Plotting Training and Validation Loss\n",
        "This code visualizes the model's training and validation loss over each epoch to evaluate learning performance:\n",
        "\n",
        "matplotlib.pyplot is imported as plt for plotting.\n",
        "\n",
        "A figure of size 8×6 inches is created.\n",
        "\n",
        "plt.plot(history.history['loss']) plots training loss per epoch.\n",
        "\n",
        "plt.plot(history.history['val_loss']) plots validation loss per epoch.\n",
        "\n",
        "xlabel, ylabel, and title add context to the plot.\n",
        "\n",
        "legend() distinguishes the two loss lines.\n",
        "\n",
        "show() renders the final plot.\n",
        "\n",
        "By comparing the loss curves, we can assess overfitting, underfitting, or good generalization during training."
      ],
      "metadata": {
        "id": "Nx4Kg3yRwxqz"
      },
      "id": "Nx4Kg3yRwxqz"
    },
    {
      "cell_type": "markdown",
      "id": "e4c6b8ec",
      "metadata": {
        "id": "e4c6b8ec"
      },
      "source": [
        "# Step 6: Evaluate the Model\n",
        "With our trained model, we evaluate its performance on the test set using:\n",
        "- Mean Absolute Error (MAE)\n",
        "- Mean Squared Error (MSE)\n",
        "- R-squared (R²) Score\n",
        "We also plot the predicted prices versus actual prices to visually assess performance.\n"
      ]
    },
    {
      "cell_type": "code",
      "execution_count": 164,
      "id": "395debf0",
      "metadata": {
        "id": "395debf0",
        "colab": {
          "base_uri": "https://localhost:8080/",
          "height": 545
        },
        "outputId": "a2a46491-a0aa-46f9-c1b7-5e4eedb065f5"
      },
      "outputs": [
        {
          "output_type": "stream",
          "name": "stdout",
          "text": [
            "\u001b[1m4/4\u001b[0m \u001b[32m━━━━━━━━━━━━━━━━━━━━\u001b[0m\u001b[37m\u001b[0m \u001b[1m0s\u001b[0m 36ms/step\n",
            "MAE: 22181.212240325003\n",
            "MSE: 692226988.5487108\n",
            "R2 Score: -5.411102459730116\n"
          ]
        },
        {
          "output_type": "display_data",
          "data": {
            "text/plain": [
              "<Figure size 640x480 with 1 Axes>"
            ],
            "image/png": "[encoded data removed]"
          },
          "metadata": {}
        }
      ],
      "source": [
        "\n",
        "import matplotlib.pyplot as plt\n",
        "from sklearn.metrics import mean_absolute_error, mean_squared_error, r2_score\n",
        "\n",
        "# Predict and evaluate\n",
        "y_pred = model.predict(X_test)\n",
        "mae = mean_absolute_error(y_test, y_pred)\n",
        "mse = mean_squared_error(y_test, y_pred)\n",
        "r2 = r2_score(y_test, y_pred)\n",
        "\n",
        "print(\"MAE:\", mae)\n",
        "print(\"MSE:\", mse)\n",
        "print(\"R2 Score:\", r2)\n",
        "\n",
        "# Plot actual vs predicted\n",
        "plt.scatter(y_test, y_pred)\n",
        "plt.xlabel(\"Actual\")\n",
        "plt.ylabel(\"Predicted\")\n",
        "plt.title(\"Actual vs Predicted Car Prices\")\n",
        "plt.plot([y.min(), y.max()], [y.min(), y.max()], 'r--')\n",
        "plt.show()\n"
      ]
    },
    {
      "cell_type": "markdown",
      "source": [
        "# Model Evaluation and Prediction Visualization\n",
        "This code evaluates the trained model on the test data and visualizes the prediction performance:\n",
        "\n",
        "matplotlib.pyplot and scikit-learn metrics are imported for plotting and evaluation.\n",
        "\n",
        "model.predict(X_test) generates predictions on the test set.\n",
        "\n",
        "Evaluation Metrics:\n",
        "\n",
        "MAE (Mean Absolute Error): Measures average magnitude of errors.\n",
        "\n",
        "MSE (Mean Squared Error): Penalizes larger errors more than MAE.\n",
        "\n",
        "R2 Score: Indicates how well predictions approximate actual values (1 = perfect).\n",
        "\n",
        "Evaluation results are printed.\n",
        "\n",
        "Visualization:\n",
        "\n",
        "A scatter plot shows the relationship between actual vs. predicted car prices.\n",
        "\n",
        "Ideal predictions fall along the red dashed line y = x.\n",
        "\n",
        "The plot helps detect under/over-predictions and overall model accuracy.\n",
        "\n",
        "This step is crucial for assessing how well the model generalizes to unseen data"
      ],
      "metadata": {
        "id": "rZTV7K9rxOF1"
      },
      "id": "rZTV7K9rxOF1"
    },
    {
      "cell_type": "markdown",
      "id": "511f3249",
      "metadata": {
        "id": "511f3249"
      },
      "source": [
        "The evaluation metrics MAE, MSE, and R² give us numerical insight into the error and goodness-of-fit. The scatter plot compares predicted prices against the actual prices; ideally, points should lie close to the red diagonal line indicating ideal predictions."
      ]
    },
    {
      "cell_type": "markdown",
      "id": "4d795fa0",
      "metadata": {
        "id": "4d795fa0"
      },
      "source": [
        "# Step 7: Make Predictions\n",
        "In this cell, we demonstrate how to preprocess and predict the price for a new car with custom features.\n",
        "Example Car:\n",
        "- Make: Toyota\n",
        "- Model: Corolla\n",
        "- Fuel_type: Petrol\n",
        "- Year: 2015\n",
        "- Mileage: 50000\n",
        "- EngineSize: 1.8\n",
        "Note: In a production setting, you would save the fitted encoders and scaler from training and reuse them for new data. Here, for the sake of demonstration, we re-fit a new LabelEncoder. Ensure that the encoding mirrors that of the training data.\n"
      ]
    },
    {
      "cell_type": "code",
      "source": [
        "# 1) Imports & Load\n",
        "import pandas as pd\n",
        "import numpy as np\n",
        "from sklearn.model_selection import train_test_split\n",
        "from sklearn.compose import ColumnTransformer\n",
        "from sklearn.preprocessing import OneHotEncoder, StandardScaler\n",
        "from tensorflow.keras.models import Sequential\n",
        "from tensorflow.keras.layers import Dense\n",
        "from tensorflow.keras.callbacks import EarlyStopping\n",
        "import matplotlib.pyplot as plt\n",
        "import joblib\n",
        "\n",
        "# load\n",
        "df = pd.read_csv(\"car_purchasing.csv\", encoding=\"ISO-8859-1\")\n",
        "# clean column names\n",
        "df.columns = df.columns.str.lower().str.strip()\n",
        "# drop useless columns\n",
        "df = df.drop(columns=[\"customer name\", \"customer e-mail\"])\n",
        "\n",
        "# 2) Split features/target\n",
        "X = df.drop(columns=[\"car purchase amount\"])\n",
        "y = df[\"car purchase amount\"]\n",
        "\n",
        "# 3) Train/test split\n",
        "X_train, X_test, y_train, y_test = train_test_split(\n",
        "    X, y, test_size=0.2, random_state=42\n",
        ")\n",
        "\n",
        "# 4) Build preprocessing pipeline\n",
        "cat_feats = [\"country\", \"gender\"]\n",
        "num_feats = [\"age\", \"annual salary\", \"credit card debt\", \"net worth\"]\n",
        "\n",
        "preprocessor = ColumnTransformer([\n",
        "    (\"ohe\", OneHotEncoder(handle_unknown=\"ignore\", sparse_output=False), cat_feats),\n",
        "    (\"scale\", StandardScaler(), num_feats),\n",
        "])\n",
        "\n",
        "# fit on train, transform train & test\n",
        "X_train_pre = preprocessor.fit_transform(X_train)\n",
        "X_test_pre  = preprocessor.transform(X_test)\n",
        "\n",
        "# save the preprocessor for later\n",
        "joblib.dump(preprocessor, \"ct_preprocessor.pkl\")\n",
        "\n",
        "# 5) Build the ANN\n",
        "model = Sequential([\n",
        "    Dense(64, activation=\"relu\", input_shape=(X_train_pre.shape[1],)),\n",
        "    Dense(32, activation=\"relu\"),\n",
        "    Dense(1, activation=\"linear\"),\n",
        "])\n",
        "\n",
        "model.compile(optimizer=\"adam\", loss=\"mse\", metrics=[\"mae\"])\n",
        "model.summary()\n",
        "\n",
        "# 6) Train with EarlyStopping\n",
        "es = EarlyStopping(monitor=\"val_loss\", patience=10, restore_best_weights=True)\n",
        "history = model.fit(\n",
        "    X_train_pre, y_train,\n",
        "    validation_split=0.2,\n",
        "    epochs=100,\n",
        "    callbacks=[es],\n",
        "    batch_size=32,\n",
        "    verbose=2\n",
        ")\n",
        "\n",
        "# save model\n",
        "model.save(\"car_price_model.keras\")\n"
      ],
      "metadata": {
        "colab": {
          "base_uri": "https://localhost:8080/",
          "height": 1000
        },
        "id": "FqoVLfPNIDOA",
        "outputId": "34cb7e3b-31f1-40a4-adda-0f8ab4dab328"
      },
      "id": "FqoVLfPNIDOA",
      "execution_count": 165,
      "outputs": [
        {
          "output_type": "stream",
          "name": "stderr",
          "text": [
            "/usr/local/lib/python3.11/dist-packages/keras/src/layers/core/dense.py:87: UserWarning: Do not pass an `input_shape`/`input_dim` argument to a layer. When using Sequential models, prefer using an `Input(shape)` object as the first layer in the model instead.\n",
            "  super().__init__(activity_regularizer=activity_regularizer, **kwargs)\n"
          ]
        },
        {
          "output_type": "display_data",
          "data": {
            "text/plain": [
              "\u001b[1mModel: \"sequential_24\"\u001b[0m\n"
            ],
            "text/html": [
              "<pre style=\"white-space:pre;overflow-x:auto;line-height:normal;font-family:Menlo,'DejaVu Sans Mono',consolas,'Courier New',monospace\"><span style=\"font-weight: bold\">Model: \"sequential_24\"</span>\n",
              "</pre>\n"
            ]
          },
          "metadata": {}
        },
        {
          "output_type": "display_data",
          "data": {
            "text/plain": [
              "┏━━━━━━━━━━━━━━━━━━━━━━━━━━━━━━━━━┳━━━━━━━━━━━━━━━━━━━━━━━━┳━━━━━━━━━━━━━━━┓\n",
              "┃\u001b[1m \u001b[0m\u001b[1mLayer (type)                   \u001b[0m\u001b[1m \u001b[0m┃\u001b[1m \u001b[0m\u001b[1mOutput Shape          \u001b[0m\u001b[1m \u001b[0m┃\u001b[1m \u001b[0m\u001b[1m      Param #\u001b[0m\u001b[1m \u001b[0m┃\n",
              "┡━━━━━━━━━━━━━━━━━━━━━━━━━━━━━━━━━╇━━━━━━━━━━━━━━━━━━━━━━━━╇━━━━━━━━━━━━━━━┩\n",
              "│ dense_70 (\u001b[38;5;33mDense\u001b[0m)                │ (\u001b[38;5;45mNone\u001b[0m, \u001b[38;5;34m64\u001b[0m)             │        \u001b[38;5;34m12,864\u001b[0m │\n",
              "├─────────────────────────────────┼────────────────────────┼───────────────┤\n",
              "│ dense_71 (\u001b[38;5;33mDense\u001b[0m)                │ (\u001b[38;5;45mNone\u001b[0m, \u001b[38;5;34m32\u001b[0m)             │         \u001b[38;5;34m2,080\u001b[0m │\n",
              "├─────────────────────────────────┼────────────────────────┼───────────────┤\n",
              "│ dense_72 (\u001b[38;5;33mDense\u001b[0m)                │ (\u001b[38;5;45mNone\u001b[0m, \u001b[38;5;34m1\u001b[0m)              │            \u001b[38;5;34m33\u001b[0m │\n",
              "└─────────────────────────────────┴────────────────────────┴───────────────┘\n"
            ],
            "text/html": [
              "<pre style=\"white-space:pre;overflow-x:auto;line-height:normal;font-family:Menlo,'DejaVu Sans Mono',consolas,'Courier New',monospace\">┏━━━━━━━━━━━━━━━━━━━━━━━━━━━━━━━━━┳━━━━━━━━━━━━━━━━━━━━━━━━┳━━━━━━━━━━━━━━━┓\n",
              "┃<span style=\"font-weight: bold\"> Layer (type)                    </span>┃<span style=\"font-weight: bold\"> Output Shape           </span>┃<span style=\"font-weight: bold\">       Param # </span>┃\n",
              "┡━━━━━━━━━━━━━━━━━━━━━━━━━━━━━━━━━╇━━━━━━━━━━━━━━━━━━━━━━━━╇━━━━━━━━━━━━━━━┩\n",
              "│ dense_70 (<span style=\"color: #0087ff; text-decoration-color: #0087ff\">Dense</span>)                │ (<span style=\"color: #00d7ff; text-decoration-color: #00d7ff\">None</span>, <span style=\"color: #00af00; text-decoration-color: #00af00\">64</span>)             │        <span style=\"color: #00af00; text-decoration-color: #00af00\">12,864</span> │\n",
              "├─────────────────────────────────┼────────────────────────┼───────────────┤\n",
              "│ dense_71 (<span style=\"color: #0087ff; text-decoration-color: #0087ff\">Dense</span>)                │ (<span style=\"color: #00d7ff; text-decoration-color: #00d7ff\">None</span>, <span style=\"color: #00af00; text-decoration-color: #00af00\">32</span>)             │         <span style=\"color: #00af00; text-decoration-color: #00af00\">2,080</span> │\n",
              "├─────────────────────────────────┼────────────────────────┼───────────────┤\n",
              "│ dense_72 (<span style=\"color: #0087ff; text-decoration-color: #0087ff\">Dense</span>)                │ (<span style=\"color: #00d7ff; text-decoration-color: #00d7ff\">None</span>, <span style=\"color: #00af00; text-decoration-color: #00af00\">1</span>)              │            <span style=\"color: #00af00; text-decoration-color: #00af00\">33</span> │\n",
              "└─────────────────────────────────┴────────────────────────┴───────────────┘\n",
              "</pre>\n"
            ]
          },
          "metadata": {}
        },
        {
          "output_type": "display_data",
          "data": {
            "text/plain": [
              "\u001b[1m Total params: \u001b[0m\u001b[38;5;34m14,977\u001b[0m (58.50 KB)\n"
            ],
            "text/html": [
              "<pre style=\"white-space:pre;overflow-x:auto;line-height:normal;font-family:Menlo,'DejaVu Sans Mono',consolas,'Courier New',monospace\"><span style=\"font-weight: bold\"> Total params: </span><span style=\"color: #00af00; text-decoration-color: #00af00\">14,977</span> (58.50 KB)\n",
              "</pre>\n"
            ]
          },
          "metadata": {}
        },
        {
          "output_type": "display_data",
          "data": {
            "text/plain": [
              "\u001b[1m Trainable params: \u001b[0m\u001b[38;5;34m14,977\u001b[0m (58.50 KB)\n"
            ],
            "text/html": [
              "<pre style=\"white-space:pre;overflow-x:auto;line-height:normal;font-family:Menlo,'DejaVu Sans Mono',consolas,'Courier New',monospace\"><span style=\"font-weight: bold\"> Trainable params: </span><span style=\"color: #00af00; text-decoration-color: #00af00\">14,977</span> (58.50 KB)\n",
              "</pre>\n"
            ]
          },
          "metadata": {}
        },
        {
          "output_type": "display_data",
          "data": {
            "text/plain": [
              "\u001b[1m Non-trainable params: \u001b[0m\u001b[38;5;34m0\u001b[0m (0.00 B)\n"
            ],
            "text/html": [
              "<pre style=\"white-space:pre;overflow-x:auto;line-height:normal;font-family:Menlo,'DejaVu Sans Mono',consolas,'Courier New',monospace\"><span style=\"font-weight: bold\"> Non-trainable params: </span><span style=\"color: #00af00; text-decoration-color: #00af00\">0</span> (0.00 B)\n",
              "</pre>\n"
            ]
          },
          "metadata": {}
        },
        {
          "output_type": "stream",
          "name": "stdout",
          "text": [
            "Epoch 1/100\n",
            "10/10 - 1s - 101ms/step - loss: 2076188032.0000 - mae: 44201.0039 - val_loss: 1938705664.0000 - val_mae: 42925.7266\n",
            "Epoch 2/100\n",
            "10/10 - 0s - 9ms/step - loss: 2076154624.0000 - mae: 44200.6406 - val_loss: 1938671232.0000 - val_mae: 42925.3320\n",
            "Epoch 3/100\n",
            "10/10 - 0s - 15ms/step - loss: 2076114944.0000 - mae: 44200.1992 - val_loss: 1938626944.0000 - val_mae: 42924.8281\n",
            "Epoch 4/100\n",
            "10/10 - 0s - 12ms/step - loss: 2076061056.0000 - mae: 44199.6094 - val_loss: 1938567424.0000 - val_mae: 42924.1484\n",
            "Epoch 5/100\n",
            "10/10 - 0s - 16ms/step - loss: 2075986304.0000 - mae: 44198.8008 - val_loss: 1938485888.0000 - val_mae: 42923.2266\n",
            "Epoch 6/100\n",
            "10/10 - 0s - 14ms/step - loss: 2075883520.0000 - mae: 44197.6914 - val_loss: 1938374272.0000 - val_mae: 42921.9648\n",
            "Epoch 7/100\n",
            "10/10 - 0s - 14ms/step - loss: 2075744256.0000 - mae: 44196.1797 - val_loss: 1938221056.0000 - val_mae: 42920.2578\n",
            "Epoch 8/100\n",
            "10/10 - 0s - 15ms/step - loss: 2075552000.0000 - mae: 44194.1055 - val_loss: 1938017024.0000 - val_mae: 42917.9805\n",
            "Epoch 9/100\n",
            "10/10 - 0s - 17ms/step - loss: 2075293312.0000 - mae: 44191.3398 - val_loss: 1937747968.0000 - val_mae: 42914.9844\n",
            "Epoch 10/100\n",
            "10/10 - 0s - 13ms/step - loss: 2074958464.0000 - mae: 44187.7500 - val_loss: 1937399040.0000 - val_mae: 42911.1328\n",
            "Epoch 11/100\n",
            "10/10 - 0s - 15ms/step - loss: 2074524288.0000 - mae: 44183.1367 - val_loss: 1936956800.0000 - val_mae: 42906.2578\n",
            "Epoch 12/100\n",
            "10/10 - 0s - 27ms/step - loss: 2073979264.0000 - mae: 44177.3359 - val_loss: 1936407296.0000 - val_mae: 42900.2383\n",
            "Epoch 13/100\n",
            "10/10 - 0s - 18ms/step - loss: 2073297920.0000 - mae: 44170.1797 - val_loss: 1935735168.0000 - val_mae: 42892.8750\n",
            "Epoch 14/100\n",
            "10/10 - 0s - 18ms/step - loss: 2072468736.0000 - mae: 44161.4453 - val_loss: 1934925184.0000 - val_mae: 42884.0430\n",
            "Epoch 15/100\n",
            "10/10 - 0s - 9ms/step - loss: 2071486080.0000 - mae: 44151.1094 - val_loss: 1933955840.0000 - val_mae: 42873.5234\n",
            "Epoch 16/100\n",
            "10/10 - 0s - 15ms/step - loss: 2070293120.0000 - mae: 44138.6602 - val_loss: 1932823808.0000 - val_mae: 42861.2656\n",
            "Epoch 17/100\n",
            "10/10 - 0s - 9ms/step - loss: 2068898816.0000 - mae: 44124.1719 - val_loss: 1931513600.0000 - val_mae: 42847.0703\n",
            "Epoch 18/100\n",
            "10/10 - 0s - 9ms/step - loss: 2067280512.0000 - mae: 44107.3867 - val_loss: 1929997568.0000 - val_mae: 42830.6992\n",
            "Epoch 19/100\n",
            "10/10 - 0s - 13ms/step - loss: 2065420928.0000 - mae: 44088.1484 - val_loss: 1928259200.0000 - val_mae: 42811.9766\n",
            "Epoch 20/100\n",
            "10/10 - 0s - 14ms/step - loss: 2063345024.0000 - mae: 44066.4570 - val_loss: 1926261760.0000 - val_mae: 42790.5859\n",
            "Epoch 21/100\n",
            "10/10 - 0s - 11ms/step - loss: 2060909568.0000 - mae: 44041.4375 - val_loss: 1924055424.0000 - val_mae: 42766.9141\n",
            "Epoch 22/100\n",
            "10/10 - 0s - 13ms/step - loss: 2058205568.0000 - mae: 44013.6836 - val_loss: 1921591040.0000 - val_mae: 42740.4531\n",
            "Epoch 23/100\n",
            "10/10 - 0s - 9ms/step - loss: 2055249920.0000 - mae: 43983.0078 - val_loss: 1918832256.0000 - val_mae: 42710.9609\n",
            "Epoch 24/100\n",
            "10/10 - 0s - 17ms/step - loss: 2051914752.0000 - mae: 43948.7539 - val_loss: 1915802368.0000 - val_mae: 42678.5586\n",
            "Epoch 25/100\n",
            "10/10 - 0s - 10ms/step - loss: 2048208256.0000 - mae: 43910.8047 - val_loss: 1912518272.0000 - val_mae: 42643.3594\n",
            "Epoch 26/100\n",
            "10/10 - 0s - 10ms/step - loss: 2044269184.0000 - mae: 43870.0547 - val_loss: 1908862208.0000 - val_mae: 42604.2969\n",
            "Epoch 27/100\n",
            "10/10 - 0s - 13ms/step - loss: 2039863040.0000 - mae: 43824.8789 - val_loss: 1904928384.0000 - val_mae: 42562.1680\n",
            "Epoch 28/100\n",
            "10/10 - 0s - 10ms/step - loss: 2035133056.0000 - mae: 43776.1758 - val_loss: 1900650496.0000 - val_mae: 42516.4180\n",
            "Epoch 29/100\n",
            "10/10 - 0s - 13ms/step - loss: 2029979264.0000 - mae: 43723.2930 - val_loss: 1896051072.0000 - val_mae: 42467.1211\n",
            "Epoch 30/100\n",
            "10/10 - 0s - 14ms/step - loss: 2024506752.0000 - mae: 43666.4492 - val_loss: 1891072768.0000 - val_mae: 42413.8945\n",
            "Epoch 31/100\n",
            "10/10 - 0s - 8ms/step - loss: 2018507520.0000 - mae: 43604.9648 - val_loss: 1885764992.0000 - val_mae: 42356.9297\n",
            "Epoch 32/100\n",
            "10/10 - 0s - 16ms/step - loss: 2012171520.0000 - mae: 43539.4727 - val_loss: 1880084480.0000 - val_mae: 42295.9766\n",
            "Epoch 33/100\n",
            "10/10 - 0s - 17ms/step - loss: 2005369088.0000 - mae: 43469.2734 - val_loss: 1874040576.0000 - val_mae: 42231.0156\n",
            "Epoch 34/100\n",
            "10/10 - 0s - 10ms/step - loss: 1998042368.0000 - mae: 43393.7031 - val_loss: 1867655552.0000 - val_mae: 42162.1953\n",
            "Epoch 35/100\n",
            "10/10 - 0s - 9ms/step - loss: 1990406784.0000 - mae: 43314.4961 - val_loss: 1860823808.0000 - val_mae: 42088.5195\n",
            "Epoch 36/100\n",
            "10/10 - 0s - 11ms/step - loss: 1982369152.0000 - mae: 43230.6797 - val_loss: 1853557376.0000 - val_mae: 42010.1992\n",
            "Epoch 37/100\n",
            "10/10 - 0s - 8ms/step - loss: 1973684864.0000 - mae: 43140.3633 - val_loss: 1845935360.0000 - val_mae: 41927.7734\n",
            "Epoch 38/100\n",
            "10/10 - 0s - 15ms/step - loss: 1964752256.0000 - mae: 43046.7227 - val_loss: 1837836672.0000 - val_mae: 41840.1914\n",
            "Epoch 39/100\n",
            "10/10 - 0s - 14ms/step - loss: 1954936064.0000 - mae: 42945.2109 - val_loss: 1829457152.0000 - val_mae: 41749.0547\n",
            "Epoch 40/100\n",
            "10/10 - 0s - 9ms/step - loss: 1945114240.0000 - mae: 42841.6484 - val_loss: 1820528896.0000 - val_mae: 41652.0898\n",
            "Epoch 41/100\n",
            "10/10 - 0s - 10ms/step - loss: 1934469376.0000 - mae: 42730.0234 - val_loss: 1811237120.0000 - val_mae: 41550.6484\n",
            "Epoch 42/100\n",
            "10/10 - 0s - 16ms/step - loss: 1923259136.0000 - mae: 42613.0508 - val_loss: 1801619712.0000 - val_mae: 41445.1797\n",
            "Epoch 43/100\n",
            "10/10 - 0s - 9ms/step - loss: 1911932928.0000 - mae: 42492.9727 - val_loss: 1791450368.0000 - val_mae: 41333.7695\n",
            "Epoch 44/100\n",
            "10/10 - 0s - 14ms/step - loss: 1899944960.0000 - mae: 42365.8125 - val_loss: 1780781056.0000 - val_mae: 41216.6016\n",
            "Epoch 45/100\n",
            "10/10 - 0s - 9ms/step - loss: 1887196416.0000 - mae: 42230.5469 - val_loss: 1769858304.0000 - val_mae: 41096.0625\n",
            "Epoch 46/100\n",
            "10/10 - 0s - 9ms/step - loss: 1874275072.0000 - mae: 42092.7148 - val_loss: 1758370560.0000 - val_mae: 40969.0156\n",
            "Epoch 47/100\n",
            "10/10 - 0s - 15ms/step - loss: 1860971136.0000 - mae: 41949.6875 - val_loss: 1746335360.0000 - val_mae: 40835.6680\n",
            "Epoch 48/100\n",
            "10/10 - 0s - 14ms/step - loss: 1846748800.0000 - mae: 41797.1953 - val_loss: 1733996288.0000 - val_mae: 40698.2617\n",
            "Epoch 49/100\n",
            "10/10 - 0s - 9ms/step - loss: 1832205056.0000 - mae: 41640.3828 - val_loss: 1721182208.0000 - val_mae: 40554.9609\n",
            "Epoch 50/100\n",
            "10/10 - 0s - 15ms/step - loss: 1817101568.0000 - mae: 41477.3203 - val_loss: 1707996672.0000 - val_mae: 40406.7773\n",
            "Epoch 51/100\n",
            "10/10 - 0s - 9ms/step - loss: 1801495936.0000 - mae: 41308.2930 - val_loss: 1694468096.0000 - val_mae: 40254.0898\n",
            "Epoch 52/100\n",
            "10/10 - 0s - 14ms/step - loss: 1785324288.0000 - mae: 41130.9727 - val_loss: 1680494976.0000 - val_mae: 40095.6445\n",
            "Epoch 53/100\n",
            "10/10 - 0s - 16ms/step - loss: 1768998144.0000 - mae: 40951.7266 - val_loss: 1665937664.0000 - val_mae: 39930.2578\n",
            "Epoch 54/100\n",
            "10/10 - 0s - 13ms/step - loss: 1752032640.0000 - mae: 40764.3359 - val_loss: 1650922240.0000 - val_mae: 39758.6562\n",
            "Epoch 55/100\n",
            "10/10 - 0s - 15ms/step - loss: 1734616832.0000 - mae: 40570.0078 - val_loss: 1635396608.0000 - val_mae: 39580.6484\n",
            "Epoch 56/100\n",
            "10/10 - 0s - 10ms/step - loss: 1716345088.0000 - mae: 40367.6641 - val_loss: 1619754624.0000 - val_mae: 39399.9023\n",
            "Epoch 57/100\n",
            "10/10 - 0s - 10ms/step - loss: 1698082944.0000 - mae: 40161.4492 - val_loss: 1603538944.0000 - val_mae: 39211.7773\n",
            "Epoch 58/100\n",
            "10/10 - 0s - 16ms/step - loss: 1678877696.0000 - mae: 39946.3398 - val_loss: 1587143040.0000 - val_mae: 39020.2070\n",
            "Epoch 59/100\n",
            "10/10 - 0s - 10ms/step - loss: 1659815680.0000 - mae: 39728.3867 - val_loss: 1570089600.0000 - val_mae: 38820.1875\n",
            "Epoch 60/100\n",
            "10/10 - 0s - 15ms/step - loss: 1639779968.0000 - mae: 39500.9883 - val_loss: 1552857856.0000 - val_mae: 38616.3125\n",
            "Epoch 61/100\n",
            "10/10 - 0s - 9ms/step - loss: 1619647872.0000 - mae: 39268.4609 - val_loss: 1535129984.0000 - val_mae: 38405.8672\n",
            "Epoch 62/100\n",
            "10/10 - 0s - 10ms/step - loss: 1598969728.0000 - mae: 39029.4141 - val_loss: 1517023616.0000 - val_mae: 38189.5859\n",
            "Epoch 63/100\n",
            "10/10 - 0s - 8ms/step - loss: 1577654784.0000 - mae: 38782.2695 - val_loss: 1498667136.0000 - val_mae: 37968.4141\n",
            "Epoch 64/100\n",
            "10/10 - 0s - 13ms/step - loss: 1556324992.0000 - mae: 38530.3398 - val_loss: 1479778944.0000 - val_mae: 37739.7578\n",
            "Epoch 65/100\n",
            "10/10 - 0s - 10ms/step - loss: 1534572288.0000 - mae: 38272.4180 - val_loss: 1460548608.0000 - val_mae: 37505.3359\n",
            "Epoch 66/100\n",
            "10/10 - 0s - 21ms/step - loss: 1512279680.0000 - mae: 38006.7188 - val_loss: 1441006848.0000 - val_mae: 37265.6250\n",
            "Epoch 67/100\n",
            "10/10 - 0s - 23ms/step - loss: 1489360640.0000 - mae: 37732.6484 - val_loss: 1421301760.0000 - val_mae: 37021.4180\n",
            "Epoch 68/100\n",
            "10/10 - 0s - 10ms/step - loss: 1466612608.0000 - mae: 37455.5859 - val_loss: 1401149440.0000 - val_mae: 36770.0977\n",
            "Epoch 69/100\n",
            "10/10 - 0s - 10ms/step - loss: 1443182336.0000 - mae: 37170.6328 - val_loss: 1380784512.0000 - val_mae: 36513.7734\n",
            "Epoch 70/100\n",
            "10/10 - 0s - 8ms/step - loss: 1419560576.0000 - mae: 36879.1406 - val_loss: 1360152320.0000 - val_mae: 36252.2188\n",
            "Epoch 71/100\n",
            "10/10 - 0s - 9ms/step - loss: 1395626752.0000 - mae: 36581.7070 - val_loss: 1339349248.0000 - val_mae: 35986.3633\n",
            "Epoch 72/100\n",
            "10/10 - 0s - 9ms/step - loss: 1371570560.0000 - mae: 36280.0391 - val_loss: 1318025600.0000 - val_mae: 35711.3672\n",
            "Epoch 73/100\n",
            "10/10 - 0s - 9ms/step - loss: 1347147264.0000 - mae: 35969.6055 - val_loss: 1296565504.0000 - val_mae: 35432.6172\n",
            "Epoch 74/100\n",
            "10/10 - 0s - 19ms/step - loss: 1322365184.0000 - mae: 35652.9180 - val_loss: 1274898688.0000 - val_mae: 35148.4180\n",
            "Epoch 75/100\n",
            "10/10 - 0s - 25ms/step - loss: 1297383936.0000 - mae: 35330.0117 - val_loss: 1253093760.0000 - val_mae: 34859.5508\n",
            "Epoch 76/100\n",
            "10/10 - 0s - 13ms/step - loss: 1272674560.0000 - mae: 35005.6992 - val_loss: 1230772992.0000 - val_mae: 34561.4492\n",
            "Epoch 77/100\n",
            "10/10 - 0s - 8ms/step - loss: 1246926080.0000 - mae: 34667.5234 - val_loss: 1208709120.0000 - val_mae: 34263.2734\n",
            "Epoch 78/100\n",
            "10/10 - 0s - 12ms/step - loss: 1221469184.0000 - mae: 34327.0742 - val_loss: 1186436864.0000 - val_mae: 33959.2891\n",
            "Epoch 79/100\n",
            "10/10 - 0s - 10ms/step - loss: 1195821824.0000 - mae: 33982.1211 - val_loss: 1164084096.0000 - val_mae: 33650.8086\n",
            "Epoch 80/100\n",
            "10/10 - 0s - 14ms/step - loss: 1169992448.0000 - mae: 33629.4102 - val_loss: 1141737472.0000 - val_mae: 33339.1172\n",
            "Epoch 81/100\n",
            "10/10 - 0s - 20ms/step - loss: 1144788992.0000 - mae: 33280.3438 - val_loss: 1118732288.0000 - val_mae: 33015.5117\n",
            "Epoch 82/100\n",
            "10/10 - 0s - 9ms/step - loss: 1118728192.0000 - mae: 32915.7031 - val_loss: 1095874816.0000 - val_mae: 32690.0156\n",
            "Epoch 83/100\n",
            "10/10 - 0s - 10ms/step - loss: 1092680448.0000 - mae: 32545.7461 - val_loss: 1072958976.0000 - val_mae: 32359.8438\n",
            "Epoch 84/100\n",
            "10/10 - 0s - 10ms/step - loss: 1066855296.0000 - mae: 32175.6602 - val_loss: 1049995584.0000 - val_mae: 32025.2148\n",
            "Epoch 85/100\n",
            "10/10 - 0s - 13ms/step - loss: 1040750592.0000 - mae: 31796.1367 - val_loss: 1027095936.0000 - val_mae: 31687.2773\n",
            "Epoch 86/100\n",
            "10/10 - 0s - 14ms/step - loss: 1014854528.0000 - mae: 31413.9336 - val_loss: 1004123648.0000 - val_mae: 31344.0000\n",
            "Epoch 87/100\n",
            "10/10 - 0s - 14ms/step - loss: 989142144.0000 - mae: 31028.9629 - val_loss: 981153408.0000 - val_mae: 30996.6816\n",
            "Epoch 88/100\n",
            "10/10 - 0s - 13ms/step - loss: 963132736.0000 - mae: 30635.3008 - val_loss: 958205952.0000 - val_mae: 30644.8398\n",
            "Epoch 89/100\n",
            "10/10 - 0s - 10ms/step - loss: 937193280.0000 - mae: 30237.1660 - val_loss: 935473536.0000 - val_mae: 30291.4629\n",
            "Epoch 90/100\n",
            "10/10 - 0s - 9ms/step - loss: 911612032.0000 - mae: 29837.5195 - val_loss: 912834048.0000 - val_mae: 29934.6875\n",
            "Epoch 91/100\n",
            "10/10 - 0s - 10ms/step - loss: 886543360.0000 - mae: 29438.1211 - val_loss: 889939584.0000 - val_mae: 29569.4727\n",
            "Epoch 92/100\n",
            "10/10 - 0s - 9ms/step - loss: 860980608.0000 - mae: 29027.2383 - val_loss: 867340480.0000 - val_mae: 29203.3633\n",
            "Epoch 93/100\n",
            "10/10 - 0s - 15ms/step - loss: 835673792.0000 - mae: 28612.8379 - val_loss: 844958144.0000 - val_mae: 28835.4023\n",
            "Epoch 94/100\n",
            "10/10 - 0s - 20ms/step - loss: 810758976.0000 - mae: 28197.9941 - val_loss: 822706880.0000 - val_mae: 28464.0254\n",
            "Epoch 95/100\n",
            "10/10 - 0s - 17ms/step - loss: 786185024.0000 - mae: 27781.8750 - val_loss: 800410240.0000 - val_mae: 28086.5840\n",
            "Epoch 96/100\n",
            "10/10 - 0s - 12ms/step - loss: 761580992.0000 - mae: 27358.8027 - val_loss: 778457600.0000 - val_mae: 27709.0566\n",
            "Epoch 97/100\n",
            "10/10 - 0s - 14ms/step - loss: 737222336.0000 - mae: 26932.6758 - val_loss: 756784704.0000 - val_mae: 27329.9160\n",
            "Epoch 98/100\n",
            "10/10 - 0s - 12ms/step - loss: 713373312.0000 - mae: 26505.8027 - val_loss: 735257024.0000 - val_mae: 26947.6777\n",
            "Epoch 99/100\n",
            "10/10 - 0s - 16ms/step - loss: 689727232.0000 - mae: 26075.8477 - val_loss: 713853440.0000 - val_mae: 26561.1348\n",
            "Epoch 100/100\n",
            "10/10 - 0s - 43ms/step - loss: 666151488.0000 - mae: 25639.6055 - val_loss: 692935040.0000 - val_mae: 26176.7422\n"
          ]
        }
      ]
    },
    {
      "cell_type": "code",
      "source": [
        "def predict_new(sample: dict):\n",
        "    \"\"\"\n",
        "    sample must have keys:\n",
        "      country, gender, age,\n",
        "      annual salary, credit card debt, net worth\n",
        "    e.g. {\"country\":\"Brazil\",\"gender\":1,\"age\":50,\n",
        "           \"annual salary\":60000,\"credit card debt\": 5000,\n",
        "           \"net worth\": 350000}\n",
        "    \"\"\"\n",
        "    # load artifacts\n",
        "    ct = joblib.load(\"ct_preprocessor.pkl\")\n",
        "    m  = tf.keras.models.load_model(\"car_price_model.keras\")\n",
        "    # dataframe\n",
        "    df_new = pd.DataFrame([sample])\n",
        "    # preprocess + predict\n",
        "    Xn = ct.transform(df_new)\n",
        "    p  = m.predict(Xn).squeeze()\n",
        "    return p\n",
        "\n",
        "# example\n",
        "new_car = {\n",
        "    \"country\":\"Brazil\",\n",
        "    \"gender\":1,\n",
        "    \"age\":50,\n",
        "    \"annual salary\":60000,\n",
        "    \"credit card debt\": 5000,\n",
        "    \"net worth\": 350000\n",
        "}\n",
        "print(f\"Predicted purchase amount: ${predict_new(new_car):,.2f}\")\n"
      ],
      "metadata": {
        "colab": {
          "base_uri": "https://localhost:8080/"
        },
        "id": "mPkql3m1pB7m",
        "outputId": "7a868224-8330-4203-ac08-1c3cfa3a67b1"
      },
      "id": "mPkql3m1pB7m",
      "execution_count": 166,
      "outputs": [
        {
          "output_type": "stream",
          "name": "stdout",
          "text": [
            "\u001b[1m1/1\u001b[0m \u001b[32m━━━━━━━━━━━━━━━━━━━━\u001b[0m\u001b[37m\u001b[0m \u001b[1m0s\u001b[0m 64ms/step\n",
            "Predicted purchase amount: $18,379.85\n"
          ]
        }
      ]
    },
    {
      "cell_type": "markdown",
      "source": [
        "# Predicting Car Purchase Amount for New Data\n",
        "This code defines a function to predict car purchase amounts for a new single customer sample using a pre-trained neural network model:\n",
        "\n",
        "Input Format: The input must be a dictionary with keys:\n",
        "country, gender, age, annual salary, credit card debt, and net worth.\n",
        "\n",
        "Artifacts Loaded:\n",
        "\n",
        "ct_preprocessor.pkl: A saved ColumnTransformer used to preprocess the input (e.g., encoding, scaling).\n",
        "\n",
        "car_price_model.keras: The trained Keras model that predicts car purchase prices.\n",
        "\n",
        "Steps:\n",
        "\n",
        "The input dictionary is converted to a DataFrame.\n",
        "\n",
        "The data is preprocessed using the same transformations as during training.\n",
        "\n",
        "The model predicts the output, and .squeeze() ensures a scalar value.\n",
        "\n",
        "Example:\n",
        "\n",
        "A sample dictionary is passed to the function, and the predicted price is printed in currency format.\n",
        "\n",
        "This modular design ensures new predictions are made consistently using the same preprocessing and model pipeline as during training."
      ],
      "metadata": {
        "id": "2SJjFJnqx4ap"
      },
      "id": "2SJjFJnqx4ap"
    },
    {
      "cell_type": "markdown",
      "id": "206c54a3",
      "metadata": {
        "id": "206c54a3"
      },
      "source": [
        "This cell shows how to handle a new input: first, we encode and scale the features in the same manner as for the training data, and then we predict using the trained ANN. Storing the fitted encoders and scaler is good practice to ensure consistent preprocessing for new samples."
      ]
    },
    {
      "cell_type": "markdown",
      "source": [
        "# bonus: Experiment with different network architectures (e.g., adding more layers or neurons) andobserve how it affects model performance. Document your findings and provide insightsinto the impact of these changes.\n"
      ],
      "metadata": {
        "id": "NDxDbKF_ogqm"
      },
      "id": "NDxDbKF_ogqm"
    },
    {
      "cell_type": "code",
      "source": [
        "import tensorflow as tf\n",
        "from tensorflow.keras.models import Sequential\n",
        "from tensorflow.keras.layers import Dense\n",
        "from tensorflow.keras.callbacks import EarlyStopping\n",
        "\n",
        "def build_and_train_model(X_train, y_train, X_val, y_val, architecture, epochs=100):\n",
        "    model = Sequential()\n",
        "    # Build the architecture\n",
        "    for i, units in enumerate(architecture):\n",
        "        if i == 0:\n",
        "            model.add(Dense(units, activation='relu', input_shape=(X_train.shape[1],)))\n",
        "        else:\n",
        "            model.add(Dense(units, activation='relu'))\n",
        "    model.add(Dense(1, activation='linear'))  # Output layer for regression\n",
        "\n",
        "    model.compile(optimizer='adam', loss='mse', metrics=['mae'])\n",
        "    early_stop = EarlyStopping(monitor='val_loss', patience=10, restore_best_weights=True)\n",
        "\n",
        "    history = model.fit(\n",
        "        X_train, y_train,\n",
        "        validation_data=(X_val, y_val),\n",
        "        epochs=epochs,\n",
        "        callbacks=[early_stop],\n",
        "        verbose=0\n",
        "    )\n",
        "    return model, history\n"
      ],
      "metadata": {
        "id": "fmiobEu2qH5p"
      },
      "id": "fmiobEu2qH5p",
      "execution_count": 167,
      "outputs": []
    },
    {
      "cell_type": "code",
      "source": [
        "architectures = {\n",
        "    \"Shallow (32)\": [32],\n",
        "    \"Baseline (64,32)\": [64, 32],\n",
        "    \"Deep (128,64,32)\": [128, 64, 32],\n",
        "    \"Very Deep (128, 128, 64, 32)\": [128, 128, 64, 32],\n",
        "}\n"
      ],
      "metadata": {
        "id": "G8RbZH2-q8PW"
      },
      "id": "G8RbZH2-q8PW",
      "execution_count": 168,
      "outputs": []
    },
    {
      "cell_type": "code",
      "source": [
        "import pandas as pd\n",
        "from sklearn.compose import ColumnTransformer\n",
        "from sklearn.preprocessing import OneHotEncoder, StandardScaler\n",
        "from sklearn.model_selection import train_test_split\n",
        "\n",
        "# Load and clean the data\n",
        "df = pd.read_csv(\"car_purchasing.csv\", encoding=\"ISO-8859-1\")\n",
        "df.columns = df.columns.str.strip().str.lower()\n",
        "df = df.drop(columns=[\"customer name\", \"customer e-mail\"])\n",
        "\n",
        "# Define feature categories\n",
        "categorical_features = [\"country\", \"gender\"]\n",
        "numerical_features = [\"age\", \"annual salary\", \"credit card debt\", \"net worth\"]\n",
        "target = \"car purchase amount\"\n",
        "\n",
        "# Split into X and y\n",
        "X = df[categorical_features + numerical_features]\n",
        "y = df[target]\n",
        "\n",
        "# Split into training and testing sets\n",
        "X_train, X_test, y_train, y_test = train_test_split(X, y, test_size=0.2, random_state=42)\n"
      ],
      "metadata": {
        "id": "CMcCH1zesuAy"
      },
      "id": "CMcCH1zesuAy",
      "execution_count": 169,
      "outputs": []
    },
    {
      "cell_type": "code",
      "source": [
        "from sklearn.pipeline import Pipeline\n",
        "\n",
        "# Preprocessing steps\n",
        "preprocessor = ColumnTransformer([\n",
        "    (\"num\", StandardScaler(), numerical_features),\n",
        "    (\"cat\", OneHotEncoder(handle_unknown=\"ignore\", sparse_output=False), categorical_features)\n",
        "])\n"
      ],
      "metadata": {
        "id": "owtb41cRuc8Z"
      },
      "id": "owtb41cRuc8Z",
      "execution_count": 170,
      "outputs": []
    },
    {
      "cell_type": "code",
      "source": [
        "# Fit on training data, transform both\n",
        "X_train_processed = preprocessor.fit_transform(X_train)\n",
        "X_test_processed = preprocessor.transform(X_test)\n"
      ],
      "metadata": {
        "id": "eLDUyBgqujFW"
      },
      "id": "eLDUyBgqujFW",
      "execution_count": 171,
      "outputs": []
    },
    {
      "cell_type": "code",
      "source": [
        "import tensorflow as tf\n",
        "\n",
        "# Define model\n",
        "model = tf.keras.Sequential([\n",
        "    tf.keras.layers.Dense(128, activation=\"relu\", input_shape=(X_train_processed.shape[1],)),\n",
        "    tf.keras.layers.Dense(64, activation=\"relu\"),\n",
        "    tf.keras.layers.Dense(1)\n",
        "])\n",
        "\n",
        "# Compile & train\n",
        "model.compile(optimizer=\"adam\", loss=\"mse\", metrics=[\"mae\"])\n",
        "model.fit(X_train_processed, y_train, validation_data=(X_test_processed, y_test), epochs=50, batch_size=16)\n"
      ],
      "metadata": {
        "colab": {
          "base_uri": "https://localhost:8080/"
        },
        "id": "6h09QmL7uvX3",
        "outputId": "5c3f96f0-893e-442f-f1b9-c99f61cb93a1"
      },
      "id": "6h09QmL7uvX3",
      "execution_count": 172,
      "outputs": [
        {
          "output_type": "stream",
          "name": "stdout",
          "text": [
            "Epoch 1/50\n"
          ]
        },
        {
          "output_type": "stream",
          "name": "stderr",
          "text": [
            "/usr/local/lib/python3.11/dist-packages/keras/src/layers/core/dense.py:87: UserWarning: Do not pass an `input_shape`/`input_dim` argument to a layer. When using Sequential models, prefer using an `Input(shape)` object as the first layer in the model instead.\n",
            "  super().__init__(activity_regularizer=activity_regularizer, **kwargs)\n"
          ]
        },
        {
          "output_type": "stream",
          "name": "stdout",
          "text": [
            "\u001b[1m25/25\u001b[0m \u001b[32m━━━━━━━━━━━━━━━━━━━━\u001b[0m\u001b[37m\u001b[0m \u001b[1m1s\u001b[0m 9ms/step - loss: 2036633984.0000 - mae: 43850.5117 - val_loss: 2156730368.0000 - val_mae: 45263.2344\n",
            "Epoch 2/50\n",
            "\u001b[1m25/25\u001b[0m \u001b[32m━━━━━━━━━━━━━━━━━━━━\u001b[0m\u001b[37m\u001b[0m \u001b[1m0s\u001b[0m 5ms/step - loss: 2055293952.0000 - mae: 44124.1523 - val_loss: 2156345856.0000 - val_mae: 45259.0938\n",
            "Epoch 3/50\n",
            "\u001b[1m25/25\u001b[0m \u001b[32m━━━━━━━━━━━━━━━━━━━━\u001b[0m\u001b[37m\u001b[0m \u001b[1m0s\u001b[0m 3ms/step - loss: 2082368128.0000 - mae: 44313.3320 - val_loss: 2155327744.0000 - val_mae: 45248.2305\n",
            "Epoch 4/50\n",
            "\u001b[1m25/25\u001b[0m \u001b[32m━━━━━━━━━━━━━━━━━━━━\u001b[0m\u001b[37m\u001b[0m \u001b[1m0s\u001b[0m 4ms/step - loss: 2018140544.0000 - mae: 43768.3672 - val_loss: 2153077248.0000 - val_mae: 45224.3945\n",
            "Epoch 5/50\n",
            "\u001b[1m25/25\u001b[0m \u001b[32m━━━━━━━━━━━━━━━━━━━━\u001b[0m\u001b[37m\u001b[0m \u001b[1m0s\u001b[0m 4ms/step - loss: 2101747968.0000 - mae: 44560.2148 - val_loss: 2148835584.0000 - val_mae: 45179.6914\n",
            "Epoch 6/50\n",
            "\u001b[1m25/25\u001b[0m \u001b[32m━━━━━━━━━━━━━━━━━━━━\u001b[0m\u001b[37m\u001b[0m \u001b[1m0s\u001b[0m 6ms/step - loss: 1983001600.0000 - mae: 43214.0195 - val_loss: 2141667328.0000 - val_mae: 45104.6836\n",
            "Epoch 7/50\n",
            "\u001b[1m25/25\u001b[0m \u001b[32m━━━━━━━━━━━━━━━━━━━━\u001b[0m\u001b[37m\u001b[0m \u001b[1m0s\u001b[0m 4ms/step - loss: 2053988224.0000 - mae: 44017.3086 - val_loss: 2130745728.0000 - val_mae: 44990.8633\n",
            "Epoch 8/50\n",
            "\u001b[1m25/25\u001b[0m \u001b[32m━━━━━━━━━━━━━━━━━━━━\u001b[0m\u001b[37m\u001b[0m \u001b[1m0s\u001b[0m 4ms/step - loss: 2055731712.0000 - mae: 43928.6445 - val_loss: 2115409024.0000 - val_mae: 44831.1719\n",
            "Epoch 9/50\n",
            "\u001b[1m25/25\u001b[0m \u001b[32m━━━━━━━━━━━━━━━━━━━━\u001b[0m\u001b[37m\u001b[0m \u001b[1m0s\u001b[0m 4ms/step - loss: 2001479424.0000 - mae: 43526.2656 - val_loss: 2094900992.0000 - val_mae: 44616.9805\n",
            "Epoch 10/50\n",
            "\u001b[1m25/25\u001b[0m \u001b[32m━━━━━━━━━━━━━━━━━━━━\u001b[0m\u001b[37m\u001b[0m \u001b[1m0s\u001b[0m 4ms/step - loss: 2006300032.0000 - mae: 43545.5820 - val_loss: 2068211328.0000 - val_mae: 44338.1406\n",
            "Epoch 11/50\n",
            "\u001b[1m25/25\u001b[0m \u001b[32m━━━━━━━━━━━━━━━━━━━━\u001b[0m\u001b[37m\u001b[0m \u001b[1m0s\u001b[0m 5ms/step - loss: 2031967744.0000 - mae: 43809.3789 - val_loss: 2035028096.0000 - val_mae: 43989.4961\n",
            "Epoch 12/50\n",
            "\u001b[1m25/25\u001b[0m \u001b[32m━━━━━━━━━━━━━━━━━━━━\u001b[0m\u001b[37m\u001b[0m \u001b[1m0s\u001b[0m 4ms/step - loss: 1964246912.0000 - mae: 43102.9375 - val_loss: 1994524288.0000 - val_mae: 43561.1367\n",
            "Epoch 13/50\n",
            "\u001b[1m25/25\u001b[0m \u001b[32m━━━━━━━━━━━━━━━━━━━━\u001b[0m\u001b[37m\u001b[0m \u001b[1m0s\u001b[0m 4ms/step - loss: 1866916992.0000 - mae: 41992.0273 - val_loss: 1947899136.0000 - val_mae: 43060.6094\n",
            "Epoch 14/50\n",
            "\u001b[1m25/25\u001b[0m \u001b[32m━━━━━━━━━━━━━━━━━━━━\u001b[0m\u001b[37m\u001b[0m \u001b[1m0s\u001b[0m 4ms/step - loss: 1818615680.0000 - mae: 41449.9609 - val_loss: 1893920384.0000 - val_mae: 42473.5664\n",
            "Epoch 15/50\n",
            "\u001b[1m25/25\u001b[0m \u001b[32m━━━━━━━━━━━━━━━━━━━━\u001b[0m\u001b[37m\u001b[0m \u001b[1m0s\u001b[0m 4ms/step - loss: 1766629760.0000 - mae: 40939.4062 - val_loss: 1831470976.0000 - val_mae: 41785.8047\n",
            "Epoch 16/50\n",
            "\u001b[1m25/25\u001b[0m \u001b[32m━━━━━━━━━━━━━━━━━━━━\u001b[0m\u001b[37m\u001b[0m \u001b[1m0s\u001b[0m 6ms/step - loss: 1728156032.0000 - mae: 40486.2305 - val_loss: 1763110912.0000 - val_mae: 41016.9258\n",
            "Epoch 17/50\n",
            "\u001b[1m25/25\u001b[0m \u001b[32m━━━━━━━━━━━━━━━━━━━━\u001b[0m\u001b[37m\u001b[0m \u001b[1m0s\u001b[0m 4ms/step - loss: 1643859584.0000 - mae: 39565.5391 - val_loss: 1687475328.0000 - val_mae: 40149.6758\n",
            "Epoch 18/50\n",
            "\u001b[1m25/25\u001b[0m \u001b[32m━━━━━━━━━━━━━━━━━━━━\u001b[0m\u001b[37m\u001b[0m \u001b[1m0s\u001b[0m 4ms/step - loss: 1592308608.0000 - mae: 38842.9883 - val_loss: 1604530688.0000 - val_mae: 39176.9805\n",
            "Epoch 19/50\n",
            "\u001b[1m25/25\u001b[0m \u001b[32m━━━━━━━━━━━━━━━━━━━━\u001b[0m\u001b[37m\u001b[0m \u001b[1m0s\u001b[0m 5ms/step - loss: 1520850432.0000 - mae: 38023.9102 - val_loss: 1515970048.0000 - val_mae: 38109.5117\n",
            "Epoch 20/50\n",
            "\u001b[1m25/25\u001b[0m \u001b[32m━━━━━━━━━━━━━━━━━━━━\u001b[0m\u001b[37m\u001b[0m \u001b[1m0s\u001b[0m 3ms/step - loss: 1380283392.0000 - mae: 36246.2969 - val_loss: 1423538944.0000 - val_mae: 36957.5469\n",
            "Epoch 21/50\n",
            "\u001b[1m25/25\u001b[0m \u001b[32m━━━━━━━━━━━━━━━━━━━━\u001b[0m\u001b[37m\u001b[0m \u001b[1m0s\u001b[0m 4ms/step - loss: 1307646208.0000 - mae: 35280.5938 - val_loss: 1326186496.0000 - val_mae: 35703.7344\n",
            "Epoch 22/50\n",
            "\u001b[1m25/25\u001b[0m \u001b[32m━━━━━━━━━━━━━━━━━━━━\u001b[0m\u001b[37m\u001b[0m \u001b[1m0s\u001b[0m 5ms/step - loss: 1271083520.0000 - mae: 34853.4453 - val_loss: 1224777984.0000 - val_mae: 34347.5469\n",
            "Epoch 23/50\n",
            "\u001b[1m25/25\u001b[0m \u001b[32m━━━━━━━━━━━━━━━━━━━━\u001b[0m\u001b[37m\u001b[0m \u001b[1m0s\u001b[0m 4ms/step - loss: 1113992192.0000 - mae: 32735.7363 - val_loss: 1123666048.0000 - val_mae: 32932.0664\n",
            "Epoch 24/50\n",
            "\u001b[1m25/25\u001b[0m \u001b[32m━━━━━━━━━━━━━━━━━━━━\u001b[0m\u001b[37m\u001b[0m \u001b[1m0s\u001b[0m 4ms/step - loss: 997960768.0000 - mae: 30926.8613 - val_loss: 1021947264.0000 - val_mae: 31438.9023\n",
            "Epoch 25/50\n",
            "\u001b[1m25/25\u001b[0m \u001b[32m━━━━━━━━━━━━━━━━━━━━\u001b[0m\u001b[37m\u001b[0m \u001b[1m0s\u001b[0m 4ms/step - loss: 919724928.0000 - mae: 29798.1836 - val_loss: 918416896.0000 - val_mae: 29844.1816\n",
            "Epoch 26/50\n",
            "\u001b[1m25/25\u001b[0m \u001b[32m━━━━━━━━━━━━━━━━━━━━\u001b[0m\u001b[37m\u001b[0m \u001b[1m0s\u001b[0m 5ms/step - loss: 826298368.0000 - mae: 28315.2773 - val_loss: 819220544.0000 - val_mae: 28220.8809\n",
            "Epoch 27/50\n",
            "\u001b[1m25/25\u001b[0m \u001b[32m━━━━━━━━━━━━━━━━━━━━\u001b[0m\u001b[37m\u001b[0m \u001b[1m0s\u001b[0m 5ms/step - loss: 737163648.0000 - mae: 26728.5508 - val_loss: 722481728.0000 - val_mae: 26537.7500\n",
            "Epoch 28/50\n",
            "\u001b[1m25/25\u001b[0m \u001b[32m━━━━━━━━━━━━━━━━━━━━\u001b[0m\u001b[37m\u001b[0m \u001b[1m0s\u001b[0m 5ms/step - loss: 650470976.0000 - mae: 25097.6348 - val_loss: 629779264.0000 - val_mae: 24811.1641\n",
            "Epoch 29/50\n",
            "\u001b[1m25/25\u001b[0m \u001b[32m━━━━━━━━━━━━━━━━━━━━\u001b[0m\u001b[37m\u001b[0m \u001b[1m0s\u001b[0m 4ms/step - loss: 544944576.0000 - mae: 23038.8418 - val_loss: 544464512.0000 - val_mae: 23097.5293\n",
            "Epoch 30/50\n",
            "\u001b[1m25/25\u001b[0m \u001b[32m━━━━━━━━━━━━━━━━━━━━\u001b[0m\u001b[37m\u001b[0m \u001b[1m0s\u001b[0m 5ms/step - loss: 471857696.0000 - mae: 21501.3672 - val_loss: 464274688.0000 - val_mae: 21354.4277\n",
            "Epoch 31/50\n",
            "\u001b[1m25/25\u001b[0m \u001b[32m━━━━━━━━━━━━━━━━━━━━\u001b[0m\u001b[37m\u001b[0m \u001b[1m0s\u001b[0m 4ms/step - loss: 397155488.0000 - mae: 19735.9902 - val_loss: 391158240.0000 - val_mae: 19620.8203\n",
            "Epoch 32/50\n",
            "\u001b[1m25/25\u001b[0m \u001b[32m━━━━━━━━━━━━━━━━━━━━\u001b[0m\u001b[37m\u001b[0m \u001b[1m0s\u001b[0m 4ms/step - loss: 323101184.0000 - mae: 17847.2812 - val_loss: 326625536.0000 - val_mae: 17940.4238\n",
            "Epoch 33/50\n",
            "\u001b[1m25/25\u001b[0m \u001b[32m━━━━━━━━━━━━━━━━━━━━\u001b[0m\u001b[37m\u001b[0m \u001b[1m0s\u001b[0m 4ms/step - loss: 270795616.0000 - mae: 16350.2168 - val_loss: 268911136.0000 - val_mae: 16284.2871\n",
            "Epoch 34/50\n",
            "\u001b[1m25/25\u001b[0m \u001b[32m━━━━━━━━━━━━━━━━━━━━\u001b[0m\u001b[37m\u001b[0m \u001b[1m0s\u001b[0m 6ms/step - loss: 213457264.0000 - mae: 14535.3955 - val_loss: 219000096.0000 - val_mae: 14690.2578\n",
            "Epoch 35/50\n",
            "\u001b[1m25/25\u001b[0m \u001b[32m━━━━━━━━━━━━━━━━━━━━\u001b[0m\u001b[37m\u001b[0m \u001b[1m0s\u001b[0m 5ms/step - loss: 168806016.0000 - mae: 12923.2363 - val_loss: 177259648.0000 - val_mae: 13198.9092\n",
            "Epoch 36/50\n",
            "\u001b[1m25/25\u001b[0m \u001b[32m━━━━━━━━━━━━━━━━━━━━\u001b[0m\u001b[37m\u001b[0m \u001b[1m0s\u001b[0m 4ms/step - loss: 134075352.0000 - mae: 11512.8672 - val_loss: 141745024.0000 - val_mae: 11774.4121\n",
            "Epoch 37/50\n",
            "\u001b[1m25/25\u001b[0m \u001b[32m━━━━━━━━━━━━━━━━━━━━\u001b[0m\u001b[37m\u001b[0m \u001b[1m0s\u001b[0m 6ms/step - loss: 105141632.0000 - mae: 10175.2764 - val_loss: 112692304.0000 - val_mae: 10456.3828\n",
            "Epoch 38/50\n",
            "\u001b[1m25/25\u001b[0m \u001b[32m━━━━━━━━━━━━━━━━━━━━\u001b[0m\u001b[37m\u001b[0m \u001b[1m0s\u001b[0m 4ms/step - loss: 80406672.0000 - mae: 8873.5449 - val_loss: 89263456.0000 - val_mae: 9250.3125\n",
            "Epoch 39/50\n",
            "\u001b[1m25/25\u001b[0m \u001b[32m━━━━━━━━━━━━━━━━━━━━\u001b[0m\u001b[37m\u001b[0m \u001b[1m0s\u001b[0m 4ms/step - loss: 61027648.0000 - mae: 7687.7534 - val_loss: 70489296.0000 - val_mae: 8150.3682\n",
            "Epoch 40/50\n",
            "\u001b[1m25/25\u001b[0m \u001b[32m━━━━━━━━━━━━━━━━━━━━\u001b[0m\u001b[37m\u001b[0m \u001b[1m0s\u001b[0m 4ms/step - loss: 44418264.0000 - mae: 6496.2412 - val_loss: 55897056.0000 - val_mae: 7176.1582\n",
            "Epoch 41/50\n",
            "\u001b[1m25/25\u001b[0m \u001b[32m━━━━━━━━━━━━━━━━━━━━\u001b[0m\u001b[37m\u001b[0m \u001b[1m0s\u001b[0m 4ms/step - loss: 34729420.0000 - mae: 5679.4717 - val_loss: 44498064.0000 - val_mae: 6309.9829\n",
            "Epoch 42/50\n",
            "\u001b[1m25/25\u001b[0m \u001b[32m━━━━━━━━━━━━━━━━━━━━\u001b[0m\u001b[37m\u001b[0m \u001b[1m0s\u001b[0m 4ms/step - loss: 23839366.0000 - mae: 4625.7349 - val_loss: 35802084.0000 - val_mae: 5555.2954\n",
            "Epoch 43/50\n",
            "\u001b[1m25/25\u001b[0m \u001b[32m━━━━━━━━━━━━━━━━━━━━\u001b[0m\u001b[37m\u001b[0m \u001b[1m0s\u001b[0m 7ms/step - loss: 17896382.0000 - mae: 3919.9121 - val_loss: 29071646.0000 - val_mae: 4894.4873\n",
            "Epoch 44/50\n",
            "\u001b[1m25/25\u001b[0m \u001b[32m━━━━━━━━━━━━━━━━━━━━\u001b[0m\u001b[37m\u001b[0m \u001b[1m0s\u001b[0m 4ms/step - loss: 13396805.0000 - mae: 3307.0830 - val_loss: 24029112.0000 - val_mae: 4339.2983\n",
            "Epoch 45/50\n",
            "\u001b[1m25/25\u001b[0m \u001b[32m━━━━━━━━━━━━━━━━━━━━\u001b[0m\u001b[37m\u001b[0m \u001b[1m0s\u001b[0m 4ms/step - loss: 9996632.0000 - mae: 2780.0154 - val_loss: 20156810.0000 - val_mae: 3866.7725\n",
            "Epoch 46/50\n",
            "\u001b[1m25/25\u001b[0m \u001b[32m━━━━━━━━━━━━━━━━━━━━\u001b[0m\u001b[37m\u001b[0m \u001b[1m0s\u001b[0m 5ms/step - loss: 8196711.5000 - mae: 2451.9626 - val_loss: 17231384.0000 - val_mae: 3484.8743\n",
            "Epoch 47/50\n",
            "\u001b[1m25/25\u001b[0m \u001b[32m━━━━━━━━━━━━━━━━━━━━\u001b[0m\u001b[37m\u001b[0m \u001b[1m0s\u001b[0m 4ms/step - loss: 5816689.0000 - mae: 2011.2600 - val_loss: 15010890.0000 - val_mae: 3173.2932\n",
            "Epoch 48/50\n",
            "\u001b[1m25/25\u001b[0m \u001b[32m━━━━━━━━━━━━━━━━━━━━\u001b[0m\u001b[37m\u001b[0m \u001b[1m0s\u001b[0m 4ms/step - loss: 4846125.0000 - mae: 1805.5032 - val_loss: 13314678.0000 - val_mae: 2915.8752\n",
            "Epoch 49/50\n",
            "\u001b[1m25/25\u001b[0m \u001b[32m━━━━━━━━━━━━━━━━━━━━\u001b[0m\u001b[37m\u001b[0m \u001b[1m0s\u001b[0m 4ms/step - loss: 3728385.5000 - mae: 1569.3623 - val_loss: 12047351.0000 - val_mae: 2714.8904\n",
            "Epoch 50/50\n",
            "\u001b[1m25/25\u001b[0m \u001b[32m━━━━━━━━━━━━━━━━━━━━\u001b[0m\u001b[37m\u001b[0m \u001b[1m0s\u001b[0m 4ms/step - loss: 3141935.7500 - mae: 1423.4735 - val_loss: 11049612.0000 - val_mae: 2559.1746\n"
          ]
        },
        {
          "output_type": "execute_result",
          "data": {
            "text/plain": [
              "<keras.src.callbacks.history.History at 0x783d4e585ad0>"
            ]
          },
          "metadata": {},
          "execution_count": 172
        }
      ]
    },
    {
      "cell_type": "code",
      "source": [
        "y_pred = model.predict(X_test_processed).squeeze()\n"
      ],
      "metadata": {
        "colab": {
          "base_uri": "https://localhost:8080/"
        },
        "id": "KP9AKD1lu9tL",
        "outputId": "e1b3ad26-432a-4216-a5f7-1bb64eddbf9c"
      },
      "id": "KP9AKD1lu9tL",
      "execution_count": 173,
      "outputs": [
        {
          "output_type": "stream",
          "name": "stdout",
          "text": [
            "\u001b[1m4/4\u001b[0m \u001b[32m━━━━━━━━━━━━━━━━━━━━\u001b[0m\u001b[37m\u001b[0m \u001b[1m0s\u001b[0m 16ms/step\n"
          ]
        }
      ]
    },
    {
      "cell_type": "markdown",
      "source": [],
      "metadata": {
        "id": "QXIwmQFkvAZe"
      },
      "id": "QXIwmQFkvAZe"
    }
  ],
  "metadata": {
    "kernelspec": {
      "display_name": "Python (ann_env)",
      "language": "python",
      "name": "ann_env"
    },
    "language_info": {
      "codemirror_mode": {
        "name": "ipython",
        "version": 3
      },
      "file_extension": ".py",
      "mimetype": "text/x-python",
      "name": "python",
      "nbconvert_exporter": "python",
      "pygments_lexer": "ipython3",
      "version": "3.11.9"
    },
    "colab": {
      "provenance": []
    }
  },
  "nbformat": 4,
  "nbformat_minor": 5
}